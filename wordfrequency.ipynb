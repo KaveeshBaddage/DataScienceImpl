{
  "nbformat": 4,
  "nbformat_minor": 0,
  "metadata": {
    "colab": {
      "name": "wordfrequency.ipynb",
      "provenance": [],
      "collapsed_sections": [],
      "authorship_tag": "ABX9TyNKUE3OM9yTDG6vu31DXRNG",
      "include_colab_link": true
    },
    "kernelspec": {
      "name": "python3",
      "display_name": "Python 3"
    },
    "language_info": {
      "name": "python"
    }
  },
  "cells": [
    {
      "cell_type": "markdown",
      "metadata": {
        "id": "view-in-github",
        "colab_type": "text"
      },
      "source": [
        "<a href=\"https://colab.research.google.com/github/KaveeshBaddage/DataScienceImpl/blob/main/wordfrequency.ipynb\" target=\"_parent\"><img src=\"https://colab.research.google.com/assets/colab-badge.svg\" alt=\"Open In Colab\"/></a>"
      ]
    },
    {
      "cell_type": "code",
      "metadata": {
        "id": "n2Wu0VR7OBfy"
      },
      "source": [
        "import re\n",
        "import pandas as pd\n",
        "\n",
        "\n",
        "# COUNT SINHALA WORDS\n",
        "\n",
        "sinhala_word_frequency = {}\n",
        "\n",
        "#Open the sample text file in read mode.\n",
        "document_text = open('/content/sinhala.txt', 'r')\n",
        "\n",
        "#convert the string of the document and assign it to text_string variable.\n",
        "text = document_text.read().split()\n",
        "for word in text:\n",
        "     count = sinhala_word_frequency.get(word,0)\n",
        "     sinhala_word_frequency[word] = count + 1\n",
        "\n",
        "\n",
        "#Convert in to panda dataframe\n",
        "sinhala_wd_count = pd.DataFrame.from_dict(sinhala_word_frequency, orient ='index')\n",
        "\n",
        "sinhala_wd_count.to_csv(\"/content/sample_data/counts/sinhala_word_count.csv\")\n",
        "\n",
        "\n",
        "# COUNT TAMIL WORDS\n",
        "\n",
        "\n",
        "tamil_word_frequency = {}\n",
        "\n",
        "#Open the sample text file in read mode.\n",
        "document_text = open('/content/sample_data/tamil.txt', 'r')\n",
        "\n",
        "#convert the string of the document and assign it to text_string variable.\n",
        "text = document_text.read().split()\n",
        "for word in text:\n",
        "     count = tamil_word_frequency.get(word,0)\n",
        "     tamil_word_frequency[word] = count + 1\n",
        "\n",
        "\n",
        "#Convert in to panda dataframe\n",
        "tamil_wd_count = pd.DataFrame.from_dict(tamil_word_frequency, orient ='index')\n",
        "\n",
        "tamil_wd_count.to_csv(\"/content/sample_data/counts/tamil_word_count.csv\")\n",
        "\n"
      ],
      "execution_count": 16,
      "outputs": []
    }
  ]
}