{
  "nbformat": 4,
  "nbformat_minor": 0,
  "metadata": {
    "colab": {
      "name": "Context Free Grammar.ipynb",
      "provenance": [],
      "collapsed_sections": [],
      "authorship_tag": "ABX9TyMNPtLd9nbBSp9wyw6LSz5O",
      "include_colab_link": true
    },
    "kernelspec": {
      "name": "python3",
      "display_name": "Python 3"
    },
    "language_info": {
      "name": "python"
    }
  },
  "cells": [
    {
      "cell_type": "markdown",
      "metadata": {
        "id": "view-in-github",
        "colab_type": "text"
      },
      "source": [
        "<a href=\"https://colab.research.google.com/github/KaveeshBaddage/DataScienceImpl/blob/main/Context_Free_Grammar.ipynb\" target=\"_parent\"><img src=\"https://colab.research.google.com/assets/colab-badge.svg\" alt=\"Open In Colab\"/></a>"
      ]
    },
    {
      "cell_type": "markdown",
      "metadata": {
        "id": "Q04dFmokUfqR"
      },
      "source": [
        "# Define the Grammer"
      ]
    },
    {
      "cell_type": "code",
      "metadata": {
        "id": "zFpXeyQWS3xP"
      },
      "source": [
        "import nltk\n",
        "\n",
        "grammar = nltk.CFG.fromstring(\"\"\"\n",
        "  S -> VP NP \n",
        "  VP -> Verb | Aux Proper-Noun VP \n",
        "  NP -> Noun | Proper-Noun NP | Det NP\n",
        "  Verb -> \"book\"\n",
        "  Noun -> \"flight\" | \"flights\"\n",
        "  Det -> \"that\"\n",
        "  Aux -> \"can\"\n",
        "  Proper-Noun -> \"you\" | \"TWA\"\n",
        "  \"\"\")\n"
      ],
      "execution_count": 30,
      "outputs": []
    },
    {
      "cell_type": "markdown",
      "metadata": {
        "id": "pJ3eNei4TwCN"
      },
      "source": [
        "# Define Sentences "
      ]
    },
    {
      "cell_type": "code",
      "metadata": {
        "id": "U1HmwHkzTt6J"
      },
      "source": [
        "sentence1 = \"book that flight\".split()\n",
        "sentence2 = \"can you book TWA flights\".split()"
      ],
      "execution_count": 31,
      "outputs": []
    },
    {
      "cell_type": "markdown",
      "metadata": {
        "id": "VIy60WWUTvpu"
      },
      "source": [
        "Parse the sentenses through following parsers usin defined grammers.\n",
        "\n",
        "*   Top-Down \n",
        "*   Bottom-Up\n",
        "*   Top-Down + Bottom-Up\n",
        "\n",
        "\n"
      ]
    },
    {
      "cell_type": "markdown",
      "metadata": {
        "id": "fRwDnCYTmD0k"
      },
      "source": [
        "# Top-down method | Recursive descent parsing"
      ]
    },
    {
      "cell_type": "code",
      "metadata": {
        "colab": {
          "base_uri": "https://localhost:8080/"
        },
        "id": "hQbUiQ6UllWz",
        "outputId": "cddd992c-9bd0-4f0a-b6c2-d444701b42e2"
      },
      "source": [
        "\n",
        "\n",
        "rd_parser = nltk.RecursiveDescentParser(grammar)\n",
        "\n",
        "for tree in rd_parser.parse(sentence1):\n",
        "  print(tree)\n",
        "\n",
        "\n",
        "for tree in rd_parser.parse(sentence2):\n",
        "  print(tree)"
      ],
      "execution_count": 32,
      "outputs": [
        {
          "output_type": "stream",
          "text": [
            "(S (VP (Verb book)) (NP (Det that) (NP (Noun flight))))\n",
            "(S\n",
            "  (VP (Aux can) (Proper-Noun you) (VP (Verb book)))\n",
            "  (NP (Proper-Noun TWA) (NP (Noun flights))))\n"
          ],
          "name": "stdout"
        }
      ]
    },
    {
      "cell_type": "markdown",
      "metadata": {
        "id": "wi4mhB6wn4F_"
      },
      "source": [
        ""
      ]
    },
    {
      "cell_type": "markdown",
      "metadata": {
        "id": "wAHAdGkRmTOm"
      },
      "source": [
        "# Bottom-up parser | Shift-reduce parser"
      ]
    },
    {
      "cell_type": "code",
      "metadata": {
        "id": "FaNlOALVmb9H",
        "colab": {
          "base_uri": "https://localhost:8080/"
        },
        "outputId": "2cc4eb70-fe86-43f7-cc32-a3ae67664665"
      },
      "source": [
        "sr_parser = nltk.ShiftReduceParser(grammar)\n",
        "\n",
        "for tree in sr_parser.parse(sentence1):\n",
        "  print(tree)\n",
        "\n",
        "for tree in sr_parser.parse(sentence2):\n",
        "  print(tree)"
      ],
      "execution_count": 33,
      "outputs": [
        {
          "output_type": "stream",
          "text": [
            "(S (VP (Verb book)) (NP (Det that) (NP (Noun flight))))\n",
            "(S\n",
            "  (VP (Aux can) (Proper-Noun you) (VP (Verb book)))\n",
            "  (NP (Proper-Noun TWA) (NP (Noun flights))))\n"
          ],
          "name": "stdout"
        }
      ]
    },
    {
      "cell_type": "markdown",
      "metadata": {
        "id": "ve48IGRtmrDt"
      },
      "source": [
        "## Top-down method with bottom-up filtering  | Left-corner parsing"
      ]
    },
    {
      "cell_type": "code",
      "metadata": {
        "colab": {
          "base_uri": "https://localhost:8080/"
        },
        "id": "xdNe_yBnm07_",
        "outputId": "282b1aef-d016-4347-b85a-dfe858857437"
      },
      "source": [
        "lc_parser = nltk.parse.LeftCornerChartParser(grammar2)\n",
        "\n",
        "for tree in lc_parser.parse(sentence1):\n",
        "  print(tree)\n",
        "\n",
        "for tree in lc_parser.parse(sentence2):\n",
        "  print(tree)"
      ],
      "execution_count": 34,
      "outputs": [
        {
          "output_type": "stream",
          "text": [
            "(S (VP (Verb book)) (NP (Det that) (NP (Noun flight))))\n",
            "(S\n",
            "  (VP (Aux can) (Proper-Noun you) (VP (Verb book)))\n",
            "  (NP (Proper-Noun TWA) (NP (Noun flights))))\n"
          ],
          "name": "stdout"
        }
      ]
    }
  ]
}