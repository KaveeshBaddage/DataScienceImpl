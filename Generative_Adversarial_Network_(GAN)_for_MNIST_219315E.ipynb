{
  "nbformat": 4,
  "nbformat_minor": 0,
  "metadata": {
    "accelerator": "GPU",
    "colab": {
      "name": "Generative Adversarial Network (GAN) for MNIST -219315E",
      "provenance": [],
      "collapsed_sections": [],
      "mount_file_id": "1VRjAHFg38VRXh4FA4qkuzBH_MLd0geJ3",
      "authorship_tag": "ABX9TyMhjhIgNcnv+hJfxzcOZ0Rx",
      "include_colab_link": true
    },
    "kernelspec": {
      "display_name": "Python 3",
      "name": "python3"
    },
    "language_info": {
      "name": "python"
    },
    "widgets": {
      "application/vnd.jupyter.widget-state+json": {
        "5653c7af57d345e3aeb4903398f55455": {
          "model_module": "@jupyter-widgets/controls",
          "model_name": "HBoxModel",
          "state": {
            "_view_name": "HBoxView",
            "_dom_classes": [],
            "_model_name": "HBoxModel",
            "_view_module": "@jupyter-widgets/controls",
            "_model_module_version": "1.5.0",
            "_view_count": null,
            "_view_module_version": "1.5.0",
            "box_style": "",
            "layout": "IPY_MODEL_8a5d1a29d67642e383a37ce549ea8412",
            "_model_module": "@jupyter-widgets/controls",
            "children": [
              "IPY_MODEL_29f4f9a0cdd44c92a1fd03968b6c6584",
              "IPY_MODEL_974b74aad39d40989f49b66bf449f461"
            ]
          }
        },
        "8a5d1a29d67642e383a37ce549ea8412": {
          "model_module": "@jupyter-widgets/base",
          "model_name": "LayoutModel",
          "state": {
            "_view_name": "LayoutView",
            "grid_template_rows": null,
            "right": null,
            "justify_content": null,
            "_view_module": "@jupyter-widgets/base",
            "overflow": null,
            "_model_module_version": "1.2.0",
            "_view_count": null,
            "flex_flow": null,
            "width": null,
            "min_width": null,
            "border": null,
            "align_items": null,
            "bottom": null,
            "_model_module": "@jupyter-widgets/base",
            "top": null,
            "grid_column": null,
            "overflow_y": null,
            "overflow_x": null,
            "grid_auto_flow": null,
            "grid_area": null,
            "grid_template_columns": null,
            "flex": null,
            "_model_name": "LayoutModel",
            "justify_items": null,
            "grid_row": null,
            "max_height": null,
            "align_content": null,
            "visibility": null,
            "align_self": null,
            "height": null,
            "min_height": null,
            "padding": null,
            "grid_auto_rows": null,
            "grid_gap": null,
            "max_width": null,
            "order": null,
            "_view_module_version": "1.2.0",
            "grid_template_areas": null,
            "object_position": null,
            "object_fit": null,
            "grid_auto_columns": null,
            "margin": null,
            "display": null,
            "left": null
          }
        },
        "29f4f9a0cdd44c92a1fd03968b6c6584": {
          "model_module": "@jupyter-widgets/controls",
          "model_name": "FloatProgressModel",
          "state": {
            "_view_name": "ProgressView",
            "style": "IPY_MODEL_84cc482466d64f14a7cb56e229193101",
            "_dom_classes": [],
            "description": "",
            "_model_name": "FloatProgressModel",
            "bar_style": "success",
            "max": 9912422,
            "_view_module": "@jupyter-widgets/controls",
            "_model_module_version": "1.5.0",
            "value": 9912422,
            "_view_count": null,
            "_view_module_version": "1.5.0",
            "orientation": "horizontal",
            "min": 0,
            "description_tooltip": null,
            "_model_module": "@jupyter-widgets/controls",
            "layout": "IPY_MODEL_2b3e2bba58f945fbbb339cbe5b07d13c"
          }
        },
        "974b74aad39d40989f49b66bf449f461": {
          "model_module": "@jupyter-widgets/controls",
          "model_name": "HTMLModel",
          "state": {
            "_view_name": "HTMLView",
            "style": "IPY_MODEL_22fba9c98afb4d27a1928efb821721d4",
            "_dom_classes": [],
            "description": "",
            "_model_name": "HTMLModel",
            "placeholder": "​",
            "_view_module": "@jupyter-widgets/controls",
            "_model_module_version": "1.5.0",
            "value": " 9913344/? [42:28&lt;00:00, 3890.35it/s]",
            "_view_count": null,
            "_view_module_version": "1.5.0",
            "description_tooltip": null,
            "_model_module": "@jupyter-widgets/controls",
            "layout": "IPY_MODEL_4c70602138d347cb9a52e76e750db073"
          }
        },
        "84cc482466d64f14a7cb56e229193101": {
          "model_module": "@jupyter-widgets/controls",
          "model_name": "ProgressStyleModel",
          "state": {
            "_view_name": "StyleView",
            "_model_name": "ProgressStyleModel",
            "description_width": "initial",
            "_view_module": "@jupyter-widgets/base",
            "_model_module_version": "1.5.0",
            "_view_count": null,
            "_view_module_version": "1.2.0",
            "bar_color": null,
            "_model_module": "@jupyter-widgets/controls"
          }
        },
        "2b3e2bba58f945fbbb339cbe5b07d13c": {
          "model_module": "@jupyter-widgets/base",
          "model_name": "LayoutModel",
          "state": {
            "_view_name": "LayoutView",
            "grid_template_rows": null,
            "right": null,
            "justify_content": null,
            "_view_module": "@jupyter-widgets/base",
            "overflow": null,
            "_model_module_version": "1.2.0",
            "_view_count": null,
            "flex_flow": null,
            "width": null,
            "min_width": null,
            "border": null,
            "align_items": null,
            "bottom": null,
            "_model_module": "@jupyter-widgets/base",
            "top": null,
            "grid_column": null,
            "overflow_y": null,
            "overflow_x": null,
            "grid_auto_flow": null,
            "grid_area": null,
            "grid_template_columns": null,
            "flex": null,
            "_model_name": "LayoutModel",
            "justify_items": null,
            "grid_row": null,
            "max_height": null,
            "align_content": null,
            "visibility": null,
            "align_self": null,
            "height": null,
            "min_height": null,
            "padding": null,
            "grid_auto_rows": null,
            "grid_gap": null,
            "max_width": null,
            "order": null,
            "_view_module_version": "1.2.0",
            "grid_template_areas": null,
            "object_position": null,
            "object_fit": null,
            "grid_auto_columns": null,
            "margin": null,
            "display": null,
            "left": null
          }
        },
        "22fba9c98afb4d27a1928efb821721d4": {
          "model_module": "@jupyter-widgets/controls",
          "model_name": "DescriptionStyleModel",
          "state": {
            "_view_name": "StyleView",
            "_model_name": "DescriptionStyleModel",
            "description_width": "",
            "_view_module": "@jupyter-widgets/base",
            "_model_module_version": "1.5.0",
            "_view_count": null,
            "_view_module_version": "1.2.0",
            "_model_module": "@jupyter-widgets/controls"
          }
        },
        "4c70602138d347cb9a52e76e750db073": {
          "model_module": "@jupyter-widgets/base",
          "model_name": "LayoutModel",
          "state": {
            "_view_name": "LayoutView",
            "grid_template_rows": null,
            "right": null,
            "justify_content": null,
            "_view_module": "@jupyter-widgets/base",
            "overflow": null,
            "_model_module_version": "1.2.0",
            "_view_count": null,
            "flex_flow": null,
            "width": null,
            "min_width": null,
            "border": null,
            "align_items": null,
            "bottom": null,
            "_model_module": "@jupyter-widgets/base",
            "top": null,
            "grid_column": null,
            "overflow_y": null,
            "overflow_x": null,
            "grid_auto_flow": null,
            "grid_area": null,
            "grid_template_columns": null,
            "flex": null,
            "_model_name": "LayoutModel",
            "justify_items": null,
            "grid_row": null,
            "max_height": null,
            "align_content": null,
            "visibility": null,
            "align_self": null,
            "height": null,
            "min_height": null,
            "padding": null,
            "grid_auto_rows": null,
            "grid_gap": null,
            "max_width": null,
            "order": null,
            "_view_module_version": "1.2.0",
            "grid_template_areas": null,
            "object_position": null,
            "object_fit": null,
            "grid_auto_columns": null,
            "margin": null,
            "display": null,
            "left": null
          }
        },
        "a94ff035c221477b8800bd87b5703398": {
          "model_module": "@jupyter-widgets/controls",
          "model_name": "HBoxModel",
          "state": {
            "_view_name": "HBoxView",
            "_dom_classes": [],
            "_model_name": "HBoxModel",
            "_view_module": "@jupyter-widgets/controls",
            "_model_module_version": "1.5.0",
            "_view_count": null,
            "_view_module_version": "1.5.0",
            "box_style": "",
            "layout": "IPY_MODEL_bab22c5b1a484f54a9dcdfbebc8f48b6",
            "_model_module": "@jupyter-widgets/controls",
            "children": [
              "IPY_MODEL_42e4b7c7340f42f4814c3a48790ff552",
              "IPY_MODEL_5baaa0de3a704110b637c5f343b8efca"
            ]
          }
        },
        "bab22c5b1a484f54a9dcdfbebc8f48b6": {
          "model_module": "@jupyter-widgets/base",
          "model_name": "LayoutModel",
          "state": {
            "_view_name": "LayoutView",
            "grid_template_rows": null,
            "right": null,
            "justify_content": null,
            "_view_module": "@jupyter-widgets/base",
            "overflow": null,
            "_model_module_version": "1.2.0",
            "_view_count": null,
            "flex_flow": null,
            "width": null,
            "min_width": null,
            "border": null,
            "align_items": null,
            "bottom": null,
            "_model_module": "@jupyter-widgets/base",
            "top": null,
            "grid_column": null,
            "overflow_y": null,
            "overflow_x": null,
            "grid_auto_flow": null,
            "grid_area": null,
            "grid_template_columns": null,
            "flex": null,
            "_model_name": "LayoutModel",
            "justify_items": null,
            "grid_row": null,
            "max_height": null,
            "align_content": null,
            "visibility": null,
            "align_self": null,
            "height": null,
            "min_height": null,
            "padding": null,
            "grid_auto_rows": null,
            "grid_gap": null,
            "max_width": null,
            "order": null,
            "_view_module_version": "1.2.0",
            "grid_template_areas": null,
            "object_position": null,
            "object_fit": null,
            "grid_auto_columns": null,
            "margin": null,
            "display": null,
            "left": null
          }
        },
        "42e4b7c7340f42f4814c3a48790ff552": {
          "model_module": "@jupyter-widgets/controls",
          "model_name": "FloatProgressModel",
          "state": {
            "_view_name": "ProgressView",
            "style": "IPY_MODEL_c04299cb92144b558992688cf21c158b",
            "_dom_classes": [],
            "description": "",
            "_model_name": "FloatProgressModel",
            "bar_style": "success",
            "max": 28881,
            "_view_module": "@jupyter-widgets/controls",
            "_model_module_version": "1.5.0",
            "value": 28881,
            "_view_count": null,
            "_view_module_version": "1.5.0",
            "orientation": "horizontal",
            "min": 0,
            "description_tooltip": null,
            "_model_module": "@jupyter-widgets/controls",
            "layout": "IPY_MODEL_1c6a7a39ff1e4bcd8957ecc02a191fae"
          }
        },
        "5baaa0de3a704110b637c5f343b8efca": {
          "model_module": "@jupyter-widgets/controls",
          "model_name": "HTMLModel",
          "state": {
            "_view_name": "HTMLView",
            "style": "IPY_MODEL_48442512a625449da7b710ca127430b5",
            "_dom_classes": [],
            "description": "",
            "_model_name": "HTMLModel",
            "placeholder": "​",
            "_view_module": "@jupyter-widgets/controls",
            "_model_module_version": "1.5.0",
            "value": " 29696/? [00:00&lt;00:00, 45978.02it/s]",
            "_view_count": null,
            "_view_module_version": "1.5.0",
            "description_tooltip": null,
            "_model_module": "@jupyter-widgets/controls",
            "layout": "IPY_MODEL_5566d40e21d1483dbf0588ac8ed28e7c"
          }
        },
        "c04299cb92144b558992688cf21c158b": {
          "model_module": "@jupyter-widgets/controls",
          "model_name": "ProgressStyleModel",
          "state": {
            "_view_name": "StyleView",
            "_model_name": "ProgressStyleModel",
            "description_width": "initial",
            "_view_module": "@jupyter-widgets/base",
            "_model_module_version": "1.5.0",
            "_view_count": null,
            "_view_module_version": "1.2.0",
            "bar_color": null,
            "_model_module": "@jupyter-widgets/controls"
          }
        },
        "1c6a7a39ff1e4bcd8957ecc02a191fae": {
          "model_module": "@jupyter-widgets/base",
          "model_name": "LayoutModel",
          "state": {
            "_view_name": "LayoutView",
            "grid_template_rows": null,
            "right": null,
            "justify_content": null,
            "_view_module": "@jupyter-widgets/base",
            "overflow": null,
            "_model_module_version": "1.2.0",
            "_view_count": null,
            "flex_flow": null,
            "width": null,
            "min_width": null,
            "border": null,
            "align_items": null,
            "bottom": null,
            "_model_module": "@jupyter-widgets/base",
            "top": null,
            "grid_column": null,
            "overflow_y": null,
            "overflow_x": null,
            "grid_auto_flow": null,
            "grid_area": null,
            "grid_template_columns": null,
            "flex": null,
            "_model_name": "LayoutModel",
            "justify_items": null,
            "grid_row": null,
            "max_height": null,
            "align_content": null,
            "visibility": null,
            "align_self": null,
            "height": null,
            "min_height": null,
            "padding": null,
            "grid_auto_rows": null,
            "grid_gap": null,
            "max_width": null,
            "order": null,
            "_view_module_version": "1.2.0",
            "grid_template_areas": null,
            "object_position": null,
            "object_fit": null,
            "grid_auto_columns": null,
            "margin": null,
            "display": null,
            "left": null
          }
        },
        "48442512a625449da7b710ca127430b5": {
          "model_module": "@jupyter-widgets/controls",
          "model_name": "DescriptionStyleModel",
          "state": {
            "_view_name": "StyleView",
            "_model_name": "DescriptionStyleModel",
            "description_width": "",
            "_view_module": "@jupyter-widgets/base",
            "_model_module_version": "1.5.0",
            "_view_count": null,
            "_view_module_version": "1.2.0",
            "_model_module": "@jupyter-widgets/controls"
          }
        },
        "5566d40e21d1483dbf0588ac8ed28e7c": {
          "model_module": "@jupyter-widgets/base",
          "model_name": "LayoutModel",
          "state": {
            "_view_name": "LayoutView",
            "grid_template_rows": null,
            "right": null,
            "justify_content": null,
            "_view_module": "@jupyter-widgets/base",
            "overflow": null,
            "_model_module_version": "1.2.0",
            "_view_count": null,
            "flex_flow": null,
            "width": null,
            "min_width": null,
            "border": null,
            "align_items": null,
            "bottom": null,
            "_model_module": "@jupyter-widgets/base",
            "top": null,
            "grid_column": null,
            "overflow_y": null,
            "overflow_x": null,
            "grid_auto_flow": null,
            "grid_area": null,
            "grid_template_columns": null,
            "flex": null,
            "_model_name": "LayoutModel",
            "justify_items": null,
            "grid_row": null,
            "max_height": null,
            "align_content": null,
            "visibility": null,
            "align_self": null,
            "height": null,
            "min_height": null,
            "padding": null,
            "grid_auto_rows": null,
            "grid_gap": null,
            "max_width": null,
            "order": null,
            "_view_module_version": "1.2.0",
            "grid_template_areas": null,
            "object_position": null,
            "object_fit": null,
            "grid_auto_columns": null,
            "margin": null,
            "display": null,
            "left": null
          }
        },
        "56525236541641939ea6ee17557eec90": {
          "model_module": "@jupyter-widgets/controls",
          "model_name": "HBoxModel",
          "state": {
            "_view_name": "HBoxView",
            "_dom_classes": [],
            "_model_name": "HBoxModel",
            "_view_module": "@jupyter-widgets/controls",
            "_model_module_version": "1.5.0",
            "_view_count": null,
            "_view_module_version": "1.5.0",
            "box_style": "",
            "layout": "IPY_MODEL_028540cb1ddc4b1c9fc6716cee4331b7",
            "_model_module": "@jupyter-widgets/controls",
            "children": [
              "IPY_MODEL_f5b443f8b628415f9a04af4913da38e1",
              "IPY_MODEL_d41ef7ca80c04c3a808cd92d06422d37"
            ]
          }
        },
        "028540cb1ddc4b1c9fc6716cee4331b7": {
          "model_module": "@jupyter-widgets/base",
          "model_name": "LayoutModel",
          "state": {
            "_view_name": "LayoutView",
            "grid_template_rows": null,
            "right": null,
            "justify_content": null,
            "_view_module": "@jupyter-widgets/base",
            "overflow": null,
            "_model_module_version": "1.2.0",
            "_view_count": null,
            "flex_flow": null,
            "width": null,
            "min_width": null,
            "border": null,
            "align_items": null,
            "bottom": null,
            "_model_module": "@jupyter-widgets/base",
            "top": null,
            "grid_column": null,
            "overflow_y": null,
            "overflow_x": null,
            "grid_auto_flow": null,
            "grid_area": null,
            "grid_template_columns": null,
            "flex": null,
            "_model_name": "LayoutModel",
            "justify_items": null,
            "grid_row": null,
            "max_height": null,
            "align_content": null,
            "visibility": null,
            "align_self": null,
            "height": null,
            "min_height": null,
            "padding": null,
            "grid_auto_rows": null,
            "grid_gap": null,
            "max_width": null,
            "order": null,
            "_view_module_version": "1.2.0",
            "grid_template_areas": null,
            "object_position": null,
            "object_fit": null,
            "grid_auto_columns": null,
            "margin": null,
            "display": null,
            "left": null
          }
        },
        "f5b443f8b628415f9a04af4913da38e1": {
          "model_module": "@jupyter-widgets/controls",
          "model_name": "FloatProgressModel",
          "state": {
            "_view_name": "ProgressView",
            "style": "IPY_MODEL_2fba7b845644403c82536d11b51a26a0",
            "_dom_classes": [],
            "description": "",
            "_model_name": "FloatProgressModel",
            "bar_style": "success",
            "max": 1648877,
            "_view_module": "@jupyter-widgets/controls",
            "_model_module_version": "1.5.0",
            "value": 1648877,
            "_view_count": null,
            "_view_module_version": "1.5.0",
            "orientation": "horizontal",
            "min": 0,
            "description_tooltip": null,
            "_model_module": "@jupyter-widgets/controls",
            "layout": "IPY_MODEL_a0f821d81ae141a3974306f005fc683b"
          }
        },
        "d41ef7ca80c04c3a808cd92d06422d37": {
          "model_module": "@jupyter-widgets/controls",
          "model_name": "HTMLModel",
          "state": {
            "_view_name": "HTMLView",
            "style": "IPY_MODEL_9a9551e713614df195be30777e990e4a",
            "_dom_classes": [],
            "description": "",
            "_model_name": "HTMLModel",
            "placeholder": "​",
            "_view_module": "@jupyter-widgets/controls",
            "_model_module_version": "1.5.0",
            "value": " 1649664/? [42:26&lt;00:00, 647.78it/s]",
            "_view_count": null,
            "_view_module_version": "1.5.0",
            "description_tooltip": null,
            "_model_module": "@jupyter-widgets/controls",
            "layout": "IPY_MODEL_7937575d08e44697abd6ba868338dcf0"
          }
        },
        "2fba7b845644403c82536d11b51a26a0": {
          "model_module": "@jupyter-widgets/controls",
          "model_name": "ProgressStyleModel",
          "state": {
            "_view_name": "StyleView",
            "_model_name": "ProgressStyleModel",
            "description_width": "initial",
            "_view_module": "@jupyter-widgets/base",
            "_model_module_version": "1.5.0",
            "_view_count": null,
            "_view_module_version": "1.2.0",
            "bar_color": null,
            "_model_module": "@jupyter-widgets/controls"
          }
        },
        "a0f821d81ae141a3974306f005fc683b": {
          "model_module": "@jupyter-widgets/base",
          "model_name": "LayoutModel",
          "state": {
            "_view_name": "LayoutView",
            "grid_template_rows": null,
            "right": null,
            "justify_content": null,
            "_view_module": "@jupyter-widgets/base",
            "overflow": null,
            "_model_module_version": "1.2.0",
            "_view_count": null,
            "flex_flow": null,
            "width": null,
            "min_width": null,
            "border": null,
            "align_items": null,
            "bottom": null,
            "_model_module": "@jupyter-widgets/base",
            "top": null,
            "grid_column": null,
            "overflow_y": null,
            "overflow_x": null,
            "grid_auto_flow": null,
            "grid_area": null,
            "grid_template_columns": null,
            "flex": null,
            "_model_name": "LayoutModel",
            "justify_items": null,
            "grid_row": null,
            "max_height": null,
            "align_content": null,
            "visibility": null,
            "align_self": null,
            "height": null,
            "min_height": null,
            "padding": null,
            "grid_auto_rows": null,
            "grid_gap": null,
            "max_width": null,
            "order": null,
            "_view_module_version": "1.2.0",
            "grid_template_areas": null,
            "object_position": null,
            "object_fit": null,
            "grid_auto_columns": null,
            "margin": null,
            "display": null,
            "left": null
          }
        },
        "9a9551e713614df195be30777e990e4a": {
          "model_module": "@jupyter-widgets/controls",
          "model_name": "DescriptionStyleModel",
          "state": {
            "_view_name": "StyleView",
            "_model_name": "DescriptionStyleModel",
            "description_width": "",
            "_view_module": "@jupyter-widgets/base",
            "_model_module_version": "1.5.0",
            "_view_count": null,
            "_view_module_version": "1.2.0",
            "_model_module": "@jupyter-widgets/controls"
          }
        },
        "7937575d08e44697abd6ba868338dcf0": {
          "model_module": "@jupyter-widgets/base",
          "model_name": "LayoutModel",
          "state": {
            "_view_name": "LayoutView",
            "grid_template_rows": null,
            "right": null,
            "justify_content": null,
            "_view_module": "@jupyter-widgets/base",
            "overflow": null,
            "_model_module_version": "1.2.0",
            "_view_count": null,
            "flex_flow": null,
            "width": null,
            "min_width": null,
            "border": null,
            "align_items": null,
            "bottom": null,
            "_model_module": "@jupyter-widgets/base",
            "top": null,
            "grid_column": null,
            "overflow_y": null,
            "overflow_x": null,
            "grid_auto_flow": null,
            "grid_area": null,
            "grid_template_columns": null,
            "flex": null,
            "_model_name": "LayoutModel",
            "justify_items": null,
            "grid_row": null,
            "max_height": null,
            "align_content": null,
            "visibility": null,
            "align_self": null,
            "height": null,
            "min_height": null,
            "padding": null,
            "grid_auto_rows": null,
            "grid_gap": null,
            "max_width": null,
            "order": null,
            "_view_module_version": "1.2.0",
            "grid_template_areas": null,
            "object_position": null,
            "object_fit": null,
            "grid_auto_columns": null,
            "margin": null,
            "display": null,
            "left": null
          }
        },
        "694c656ba55745adbcf7ed21abc15151": {
          "model_module": "@jupyter-widgets/controls",
          "model_name": "HBoxModel",
          "state": {
            "_view_name": "HBoxView",
            "_dom_classes": [],
            "_model_name": "HBoxModel",
            "_view_module": "@jupyter-widgets/controls",
            "_model_module_version": "1.5.0",
            "_view_count": null,
            "_view_module_version": "1.5.0",
            "box_style": "",
            "layout": "IPY_MODEL_7ad4304080004518b7960fca45ee66ec",
            "_model_module": "@jupyter-widgets/controls",
            "children": [
              "IPY_MODEL_af92503321844c10a69be58567ab4ffe",
              "IPY_MODEL_6493c60cd1394b84b1ed220fe030ca39"
            ]
          }
        },
        "7ad4304080004518b7960fca45ee66ec": {
          "model_module": "@jupyter-widgets/base",
          "model_name": "LayoutModel",
          "state": {
            "_view_name": "LayoutView",
            "grid_template_rows": null,
            "right": null,
            "justify_content": null,
            "_view_module": "@jupyter-widgets/base",
            "overflow": null,
            "_model_module_version": "1.2.0",
            "_view_count": null,
            "flex_flow": null,
            "width": null,
            "min_width": null,
            "border": null,
            "align_items": null,
            "bottom": null,
            "_model_module": "@jupyter-widgets/base",
            "top": null,
            "grid_column": null,
            "overflow_y": null,
            "overflow_x": null,
            "grid_auto_flow": null,
            "grid_area": null,
            "grid_template_columns": null,
            "flex": null,
            "_model_name": "LayoutModel",
            "justify_items": null,
            "grid_row": null,
            "max_height": null,
            "align_content": null,
            "visibility": null,
            "align_self": null,
            "height": null,
            "min_height": null,
            "padding": null,
            "grid_auto_rows": null,
            "grid_gap": null,
            "max_width": null,
            "order": null,
            "_view_module_version": "1.2.0",
            "grid_template_areas": null,
            "object_position": null,
            "object_fit": null,
            "grid_auto_columns": null,
            "margin": null,
            "display": null,
            "left": null
          }
        },
        "af92503321844c10a69be58567ab4ffe": {
          "model_module": "@jupyter-widgets/controls",
          "model_name": "FloatProgressModel",
          "state": {
            "_view_name": "ProgressView",
            "style": "IPY_MODEL_2f86e5ef3c5645dd927a5496c8156590",
            "_dom_classes": [],
            "description": "",
            "_model_name": "FloatProgressModel",
            "bar_style": "success",
            "max": 4542,
            "_view_module": "@jupyter-widgets/controls",
            "_model_module_version": "1.5.0",
            "value": 4542,
            "_view_count": null,
            "_view_module_version": "1.5.0",
            "orientation": "horizontal",
            "min": 0,
            "description_tooltip": null,
            "_model_module": "@jupyter-widgets/controls",
            "layout": "IPY_MODEL_c3befe7349684a5e9fa0ce95d1379f06"
          }
        },
        "6493c60cd1394b84b1ed220fe030ca39": {
          "model_module": "@jupyter-widgets/controls",
          "model_name": "HTMLModel",
          "state": {
            "_view_name": "HTMLView",
            "style": "IPY_MODEL_4c884c269ca2450d86bfdc7716c6f9d5",
            "_dom_classes": [],
            "description": "",
            "_model_name": "HTMLModel",
            "placeholder": "​",
            "_view_module": "@jupyter-widgets/controls",
            "_model_module_version": "1.5.0",
            "value": " 5120/? [00:09&lt;00:00, 525.10it/s]",
            "_view_count": null,
            "_view_module_version": "1.5.0",
            "description_tooltip": null,
            "_model_module": "@jupyter-widgets/controls",
            "layout": "IPY_MODEL_dabcbb6e80244698ad5c32c3b36ab900"
          }
        },
        "2f86e5ef3c5645dd927a5496c8156590": {
          "model_module": "@jupyter-widgets/controls",
          "model_name": "ProgressStyleModel",
          "state": {
            "_view_name": "StyleView",
            "_model_name": "ProgressStyleModel",
            "description_width": "initial",
            "_view_module": "@jupyter-widgets/base",
            "_model_module_version": "1.5.0",
            "_view_count": null,
            "_view_module_version": "1.2.0",
            "bar_color": null,
            "_model_module": "@jupyter-widgets/controls"
          }
        },
        "c3befe7349684a5e9fa0ce95d1379f06": {
          "model_module": "@jupyter-widgets/base",
          "model_name": "LayoutModel",
          "state": {
            "_view_name": "LayoutView",
            "grid_template_rows": null,
            "right": null,
            "justify_content": null,
            "_view_module": "@jupyter-widgets/base",
            "overflow": null,
            "_model_module_version": "1.2.0",
            "_view_count": null,
            "flex_flow": null,
            "width": null,
            "min_width": null,
            "border": null,
            "align_items": null,
            "bottom": null,
            "_model_module": "@jupyter-widgets/base",
            "top": null,
            "grid_column": null,
            "overflow_y": null,
            "overflow_x": null,
            "grid_auto_flow": null,
            "grid_area": null,
            "grid_template_columns": null,
            "flex": null,
            "_model_name": "LayoutModel",
            "justify_items": null,
            "grid_row": null,
            "max_height": null,
            "align_content": null,
            "visibility": null,
            "align_self": null,
            "height": null,
            "min_height": null,
            "padding": null,
            "grid_auto_rows": null,
            "grid_gap": null,
            "max_width": null,
            "order": null,
            "_view_module_version": "1.2.0",
            "grid_template_areas": null,
            "object_position": null,
            "object_fit": null,
            "grid_auto_columns": null,
            "margin": null,
            "display": null,
            "left": null
          }
        },
        "4c884c269ca2450d86bfdc7716c6f9d5": {
          "model_module": "@jupyter-widgets/controls",
          "model_name": "DescriptionStyleModel",
          "state": {
            "_view_name": "StyleView",
            "_model_name": "DescriptionStyleModel",
            "description_width": "",
            "_view_module": "@jupyter-widgets/base",
            "_model_module_version": "1.5.0",
            "_view_count": null,
            "_view_module_version": "1.2.0",
            "_model_module": "@jupyter-widgets/controls"
          }
        },
        "dabcbb6e80244698ad5c32c3b36ab900": {
          "model_module": "@jupyter-widgets/base",
          "model_name": "LayoutModel",
          "state": {
            "_view_name": "LayoutView",
            "grid_template_rows": null,
            "right": null,
            "justify_content": null,
            "_view_module": "@jupyter-widgets/base",
            "overflow": null,
            "_model_module_version": "1.2.0",
            "_view_count": null,
            "flex_flow": null,
            "width": null,
            "min_width": null,
            "border": null,
            "align_items": null,
            "bottom": null,
            "_model_module": "@jupyter-widgets/base",
            "top": null,
            "grid_column": null,
            "overflow_y": null,
            "overflow_x": null,
            "grid_auto_flow": null,
            "grid_area": null,
            "grid_template_columns": null,
            "flex": null,
            "_model_name": "LayoutModel",
            "justify_items": null,
            "grid_row": null,
            "max_height": null,
            "align_content": null,
            "visibility": null,
            "align_self": null,
            "height": null,
            "min_height": null,
            "padding": null,
            "grid_auto_rows": null,
            "grid_gap": null,
            "max_width": null,
            "order": null,
            "_view_module_version": "1.2.0",
            "grid_template_areas": null,
            "object_position": null,
            "object_fit": null,
            "grid_auto_columns": null,
            "margin": null,
            "display": null,
            "left": null
          }
        }
      }
    }
  },
  "cells": [
    {
      "cell_type": "markdown",
      "metadata": {
        "id": "view-in-github",
        "colab_type": "text"
      },
      "source": [
        "<a href=\"https://colab.research.google.com/github/KaveeshBaddage/DataScienceImpl/blob/main/Generative_Adversarial_Network_(GAN)_for_MNIST_219315E.ipynb\" target=\"_parent\"><img src=\"https://colab.research.google.com/assets/colab-badge.svg\" alt=\"Open In Colab\"/></a>"
      ]
    },
    {
      "cell_type": "markdown",
      "metadata": {
        "id": "O4ttDU6Fu4W7"
      },
      "source": [
        "# Import required libraries"
      ]
    },
    {
      "cell_type": "code",
      "metadata": {
        "id": "-WJ-pykBpiLi"
      },
      "source": [
        "import torch\n",
        "import torch.nn as nn\n",
        "import torch.optim as optim\n",
        "import torch.nn.functional as F\n",
        "from torch.autograd import Variable\n",
        "from torchvision.utils import save_image\n",
        "from torchvision.transforms import ToTensor\n",
        "from torchvision import datasets, transforms\n",
        "\n",
        "import numpy as np\n",
        "\n",
        "# to save Generator, Discriminator\n",
        "import pickle as pkl\n",
        "\n",
        "#to create and download the zipped files\n",
        "import shutil\n",
        "from google.colab import files\n",
        "\n",
        "# Device configuration\n",
        "device = torch.device('cuda' if torch.cuda.is_available() else 'cpu')"
      ],
      "execution_count": 1,
      "outputs": []
    },
    {
      "cell_type": "markdown",
      "metadata": {
        "id": "2tcm_9x51kgx"
      },
      "source": [
        "# Load MNIST train and test data \n"
      ]
    },
    {
      "cell_type": "code",
      "metadata": {
        "colab": {
          "base_uri": "https://localhost:8080/",
          "height": 845,
          "referenced_widgets": [
            "5653c7af57d345e3aeb4903398f55455",
            "8a5d1a29d67642e383a37ce549ea8412",
            "29f4f9a0cdd44c92a1fd03968b6c6584",
            "974b74aad39d40989f49b66bf449f461",
            "84cc482466d64f14a7cb56e229193101",
            "2b3e2bba58f945fbbb339cbe5b07d13c",
            "22fba9c98afb4d27a1928efb821721d4",
            "4c70602138d347cb9a52e76e750db073",
            "a94ff035c221477b8800bd87b5703398",
            "bab22c5b1a484f54a9dcdfbebc8f48b6",
            "42e4b7c7340f42f4814c3a48790ff552",
            "5baaa0de3a704110b637c5f343b8efca",
            "c04299cb92144b558992688cf21c158b",
            "1c6a7a39ff1e4bcd8957ecc02a191fae",
            "48442512a625449da7b710ca127430b5",
            "5566d40e21d1483dbf0588ac8ed28e7c",
            "56525236541641939ea6ee17557eec90",
            "028540cb1ddc4b1c9fc6716cee4331b7",
            "f5b443f8b628415f9a04af4913da38e1",
            "d41ef7ca80c04c3a808cd92d06422d37",
            "2fba7b845644403c82536d11b51a26a0",
            "a0f821d81ae141a3974306f005fc683b",
            "9a9551e713614df195be30777e990e4a",
            "7937575d08e44697abd6ba868338dcf0",
            "694c656ba55745adbcf7ed21abc15151",
            "7ad4304080004518b7960fca45ee66ec",
            "af92503321844c10a69be58567ab4ffe",
            "6493c60cd1394b84b1ed220fe030ca39",
            "2f86e5ef3c5645dd927a5496c8156590",
            "c3befe7349684a5e9fa0ce95d1379f06",
            "4c884c269ca2450d86bfdc7716c6f9d5",
            "dabcbb6e80244698ad5c32c3b36ab900"
          ]
        },
        "id": "WHzfPJrB70VM",
        "outputId": "d1df08c0-0166-4b3d-ce25-9b56ff1c28c4"
      },
      "source": [
        "# define the data transformer\n",
        "transform = transforms.Compose([transforms.ToTensor(),\n",
        "  transforms.Normalize((0.5,), (0.5,))\n",
        "])\n",
        "\n",
        "# get train dataset\n",
        "train_dataset = datasets.MNIST(\n",
        "    root='data/',\n",
        "    train=True,\n",
        "    download=True,\n",
        "    transform=transform\n",
        "    )  \n",
        "print(\"train_dataset size ->\",train_dataset.data.size())\n",
        "\n",
        "# Dataset stores the samples and their corresponding labels, and DataLoader wraps an iterable around the Dataset to enable easy access to the samples.\n",
        "train_loader = torch.utils.data.DataLoader(\n",
        "    dataset=train_dataset, \n",
        "    batch_size=100,\n",
        "    shuffle=True\n",
        "    # num_workers=0\n",
        "    )\n",
        "\n",
        "# get test dataset\n",
        "test_dataset = datasets.MNIST(\n",
        "    root='data/', \n",
        "    train=False, \n",
        "    transform=transform\n",
        "    )\n",
        "print(\"test_dataset size ->\",test_dataset.data.size())\n",
        "\n",
        "#DataLoader wraps an iterable around the test_dataset to enable easy access to the samples.\n",
        "test_loader = torch.utils.data.DataLoader(\n",
        "    dataset=test_dataset, \n",
        "    batch_size=100,\n",
        "    # num_workers=0\n",
        "    shuffle=True\n",
        "    )"
      ],
      "execution_count": 2,
      "outputs": [
        {
          "output_type": "stream",
          "text": [
            "Downloading http://yann.lecun.com/exdb/mnist/train-images-idx3-ubyte.gz\n",
            "Failed to download (trying next):\n",
            "HTTP Error 503: Service Unavailable\n",
            "\n",
            "Downloading https://ossci-datasets.s3.amazonaws.com/mnist/train-images-idx3-ubyte.gz\n",
            "Downloading https://ossci-datasets.s3.amazonaws.com/mnist/train-images-idx3-ubyte.gz to data/MNIST/raw/train-images-idx3-ubyte.gz\n"
          ],
          "name": "stdout"
        },
        {
          "output_type": "display_data",
          "data": {
            "application/vnd.jupyter.widget-view+json": {
              "model_id": "5653c7af57d345e3aeb4903398f55455",
              "version_minor": 0,
              "version_major": 2
            },
            "text/plain": [
              "HBox(children=(FloatProgress(value=0.0, max=9912422.0), HTML(value='')))"
            ]
          },
          "metadata": {
            "tags": []
          }
        },
        {
          "output_type": "stream",
          "text": [
            "\n",
            "Extracting data/MNIST/raw/train-images-idx3-ubyte.gz to data/MNIST/raw\n",
            "\n",
            "Downloading http://yann.lecun.com/exdb/mnist/train-labels-idx1-ubyte.gz\n",
            "Failed to download (trying next):\n",
            "HTTP Error 503: Service Unavailable\n",
            "\n",
            "Downloading https://ossci-datasets.s3.amazonaws.com/mnist/train-labels-idx1-ubyte.gz\n",
            "Downloading https://ossci-datasets.s3.amazonaws.com/mnist/train-labels-idx1-ubyte.gz to data/MNIST/raw/train-labels-idx1-ubyte.gz\n"
          ],
          "name": "stdout"
        },
        {
          "output_type": "display_data",
          "data": {
            "application/vnd.jupyter.widget-view+json": {
              "model_id": "a94ff035c221477b8800bd87b5703398",
              "version_minor": 0,
              "version_major": 2
            },
            "text/plain": [
              "HBox(children=(FloatProgress(value=0.0, max=28881.0), HTML(value='')))"
            ]
          },
          "metadata": {
            "tags": []
          }
        },
        {
          "output_type": "stream",
          "text": [
            "\n",
            "Extracting data/MNIST/raw/train-labels-idx1-ubyte.gz to data/MNIST/raw\n",
            "\n",
            "Downloading http://yann.lecun.com/exdb/mnist/t10k-images-idx3-ubyte.gz\n",
            "Failed to download (trying next):\n",
            "HTTP Error 503: Service Unavailable\n",
            "\n",
            "Downloading https://ossci-datasets.s3.amazonaws.com/mnist/t10k-images-idx3-ubyte.gz\n",
            "Downloading https://ossci-datasets.s3.amazonaws.com/mnist/t10k-images-idx3-ubyte.gz to data/MNIST/raw/t10k-images-idx3-ubyte.gz\n"
          ],
          "name": "stdout"
        },
        {
          "output_type": "display_data",
          "data": {
            "application/vnd.jupyter.widget-view+json": {
              "model_id": "56525236541641939ea6ee17557eec90",
              "version_minor": 0,
              "version_major": 2
            },
            "text/plain": [
              "HBox(children=(FloatProgress(value=0.0, max=1648877.0), HTML(value='')))"
            ]
          },
          "metadata": {
            "tags": []
          }
        },
        {
          "output_type": "stream",
          "text": [
            "\n",
            "Extracting data/MNIST/raw/t10k-images-idx3-ubyte.gz to data/MNIST/raw\n",
            "\n",
            "Downloading http://yann.lecun.com/exdb/mnist/t10k-labels-idx1-ubyte.gz\n",
            "Failed to download (trying next):\n",
            "HTTP Error 503: Service Unavailable\n",
            "\n",
            "Downloading https://ossci-datasets.s3.amazonaws.com/mnist/t10k-labels-idx1-ubyte.gz\n",
            "Downloading https://ossci-datasets.s3.amazonaws.com/mnist/t10k-labels-idx1-ubyte.gz to data/MNIST/raw/t10k-labels-idx1-ubyte.gz\n"
          ],
          "name": "stdout"
        },
        {
          "output_type": "display_data",
          "data": {
            "application/vnd.jupyter.widget-view+json": {
              "model_id": "694c656ba55745adbcf7ed21abc15151",
              "version_minor": 0,
              "version_major": 2
            },
            "text/plain": [
              "HBox(children=(FloatProgress(value=0.0, max=4542.0), HTML(value='')))"
            ]
          },
          "metadata": {
            "tags": []
          }
        },
        {
          "output_type": "stream",
          "text": [
            "\n",
            "Extracting data/MNIST/raw/t10k-labels-idx1-ubyte.gz to data/MNIST/raw\n",
            "\n",
            "train_dataset size -> torch.Size([60000, 28, 28])\n",
            "test_dataset size -> torch.Size([10000, 28, 28])\n"
          ],
          "name": "stdout"
        },
        {
          "output_type": "stream",
          "text": [
            "/usr/local/lib/python3.7/dist-packages/torchvision/datasets/mnist.py:498: UserWarning: The given NumPy array is not writeable, and PyTorch does not support non-writeable tensors. This means you can write to the underlying (supposedly non-writeable) NumPy array using the tensor. You may want to copy the array to protect its data or make it writeable before converting it to a tensor. This type of warning will be suppressed for the rest of this program. (Triggered internally at  /pytorch/torch/csrc/utils/tensor_numpy.cpp:180.)\n",
            "  return torch.from_numpy(parsed.astype(m[2], copy=False)).view(*s)\n"
          ],
          "name": "stderr"
        }
      ]
    },
    {
      "cell_type": "markdown",
      "metadata": {
        "id": "anPoM9dgwcrg"
      },
      "source": [
        "# Define Discriminator and Generator classes"
      ]
    },
    {
      "cell_type": "code",
      "metadata": {
        "id": "LEl7U-Qrzrc8"
      },
      "source": [
        "# defining Discriminator class\n",
        "\n",
        "class Discriminator(nn.Module):\n",
        "\n",
        "    def __init__(self, input_size, d_output_size):\n",
        "\n",
        "        # access methods from parent class nn.Module\n",
        "        super(Discriminator, self).__init__()\n",
        "        \n",
        "        # Hidden linear layers\n",
        "        self.fc1 = nn.Linear(input_size, 1024)\n",
        "        self.fc2 = nn.Linear(self.fc1.out_features, self.fc1.out_features//2)\n",
        "        self.fc3 = nn.Linear(self.fc2.out_features, self.fc2.out_features//2)\n",
        "        \n",
        "        # Final output layer\n",
        "        self.fc4 = nn.Linear(self.fc3.out_features, d_output_size)\n",
        "        \n",
        "    def forward(self, x):\n",
        "        # flatten image\n",
        "        x = x.view(-1, 28*28) #  reshape the tensor to 28*28 tensor\n",
        "        # all hidden layers\n",
        "        x = F.leaky_relu(self.fc1(x), 0.2) # (input, negative_slope=0.2) This function returns x if it receives any positive input, but for any negative value of x, it returns a really small value which is 0.02 times x\n",
        "        x = F.dropout(x, 0.3) #  “deactivates” few neurons in the neural network randomly in the probability  in order to avoid the problem of overfitting.\n",
        "        x = F.leaky_relu(self.fc2(x), 0.2)\n",
        "        x = F.dropout(x, 0.3)\n",
        "        x = F.leaky_relu(self.fc3(x), 0.2)\n",
        "        x = F.dropout(x, 0.3)\n",
        "        # final layer\n",
        "        output = torch.sigmoid(self.fc4(x)) # squishes any real number into a range between 0 and 1\n",
        "\n",
        "\n",
        "        return output"
      ],
      "execution_count": 6,
      "outputs": []
    },
    {
      "cell_type": "code",
      "metadata": {
        "id": "JHtnuKw1dRoF"
      },
      "source": [
        "# defining generator class 1\n",
        "\n",
        "class Generator(nn.Module):\n",
        "\n",
        "    def __init__(self, input_size, g_output_size):\n",
        "        super(Generator, self).__init__()\n",
        "        \n",
        "        # Hidden linear layers\n",
        "        self.fc1 = nn.Linear(input_size, 256)\n",
        "        self.fc2 = nn.Linear(self.fc1.out_features, self.fc1.out_features*2)\n",
        "        self.fc3 = nn.Linear(self.fc2.out_features, self.fc1.out_features*2)\n",
        "        \n",
        "        # Final output layer\n",
        "        self.fc4 = nn.Linear(self.fc3.out_features, g_output_size)\n",
        "\n",
        "    def forward(self, x):\n",
        "        # all hidden layers\n",
        "        x = F.leaky_relu(self.fc1(x), 0.2) # (input, negative_slope=0.2)\n",
        "        x = F.leaky_relu(self.fc2(x), 0.2)\n",
        "        x = F.leaky_relu(self.fc3(x), 0.2)\n",
        "        output = torch.tanh(self.fc4(x)) #Returns a new tensor with the hyperbolic tangent of the elements of self.fc4(x)\n",
        "\n",
        "        return output"
      ],
      "execution_count": 4,
      "outputs": []
    },
    {
      "cell_type": "markdown",
      "metadata": {
        "id": "lockZ7igwrJ6"
      },
      "source": [
        "# Define Hyper Parameters and initiate the Discriminator and Generator"
      ]
    },
    {
      "cell_type": "code",
      "metadata": {
        "colab": {
          "base_uri": "https://localhost:8080/"
        },
        "id": "bpCg5qV_2Yei",
        "outputId": "5a1875fd-24ba-48fc-ee53-e93e79c7677f"
      },
      "source": [
        "\n",
        "# Discriminator hyperparams\n",
        "\n",
        "# Size of input image to Discriminator (28*28)\n",
        "input_size = 784\n",
        "# Size of discriminator output for real or fake images\n",
        "d_output_size = 1\n",
        "\n",
        "\n",
        "# Generator hyperparams\n",
        "\n",
        "#Generator input  latent vector size\n",
        "z_size = 100\n",
        "# Discriminator output size\n",
        "g_output_size = 784\n",
        "\n",
        "\n",
        "\n",
        "D = Discriminator(input_size, d_output_size).to(device)\n",
        "G = Generator(z_size, g_output_size).to(device)\n",
        "\n",
        "print(D)\n",
        "print(G)"
      ],
      "execution_count": 7,
      "outputs": [
        {
          "output_type": "stream",
          "text": [
            "Discriminator(\n",
            "  (fc1): Linear(in_features=784, out_features=1024, bias=True)\n",
            "  (fc2): Linear(in_features=1024, out_features=512, bias=True)\n",
            "  (fc3): Linear(in_features=512, out_features=256, bias=True)\n",
            "  (fc4): Linear(in_features=256, out_features=1, bias=True)\n",
            ")\n",
            "Generator(\n",
            "  (fc1): Linear(in_features=100, out_features=256, bias=True)\n",
            "  (fc2): Linear(in_features=256, out_features=512, bias=True)\n",
            "  (fc3): Linear(in_features=512, out_features=512, bias=True)\n",
            "  (fc4): Linear(in_features=512, out_features=784, bias=True)\n",
            ")\n"
          ],
          "name": "stdout"
        }
      ]
    },
    {
      "cell_type": "code",
      "metadata": {
        "id": "AskYo9UPxbES"
      },
      "source": [
        "# Measures the Binary Cross Entropy between the target and the output\n",
        "criterion = nn.BCELoss() \n",
        "\n",
        "# Set learning rate and optimizers\n",
        "lr = 0.0002 \n",
        "G_optimizer = optim.Adam(G.parameters(), lr = lr)\n",
        "D_optimizer = optim.Adam(D.parameters(), lr = lr)"
      ],
      "execution_count": 8,
      "outputs": []
    },
    {
      "cell_type": "markdown",
      "metadata": {
        "id": "ifpgSDKmx6f1"
      },
      "source": [
        "# Define model training functions"
      ]
    },
    {
      "cell_type": "code",
      "metadata": {
        "id": "gmiP9uHaxedV"
      },
      "source": [
        "def Train_Discriminator(x):\n",
        "    \n",
        "    # clear out the gradients of all Variables since no need to keep the gradient calculation result of the previous batch\n",
        "    D.zero_grad()\n",
        "\n",
        "    # train discriminator on real\n",
        "    x_real, y_real = x.view(-1, 28*28), torch.ones(100, 1)\n",
        "    x_real, y_real = Variable(x_real.to(device)), Variable(y_real.to(device))\n",
        "\n",
        "    D_output = D(x_real)\n",
        "    D_real_loss = criterion(D_output, y_real)\n",
        "    D_real_score = D_output\n",
        "\n",
        "    # train discriminator on facke\n",
        "    z = Variable(torch.randn(100, 100).to(device))\n",
        "    x_fake, y_fake = G(z), Variable(torch.zeros(100, 1).to(device))\n",
        "\n",
        "    D_output = D(x_fake)\n",
        "    D_fake_loss = criterion(D_output, y_fake)\n",
        "    D_fake_score = D_output\n",
        "\n",
        "    # gradient backprop & optimize ONLY D's parameters\n",
        "    D_loss = D_real_loss + D_fake_loss\n",
        "    D_loss.backward()\n",
        "    D_optimizer.step()\n",
        "        \n",
        "    return  D_loss.data.item()"
      ],
      "execution_count": 9,
      "outputs": []
    },
    {
      "cell_type": "code",
      "metadata": {
        "id": "aOGWeJVIFEDZ"
      },
      "source": [
        "def Train_Generator(x):\n",
        "    \n",
        "    # clear out the gradients of all Variables since no need to keep the gradient calculation result of the previous batch\n",
        "    G.zero_grad()\n",
        "\n",
        "    z = Variable(torch.randn(100, 100).to(device))\n",
        "    y = Variable(torch.ones(100, 1).to(device))\n",
        "\n",
        "    G_output = G(z)\n",
        "    D_output = D(G_output)\n",
        "    G_loss = criterion(D_output, y)\n",
        "\n",
        "    # gradient backprop & optimize ONLY G's parameters\n",
        "    G_loss.backward()\n",
        "    G_optimizer.step()\n",
        "        \n",
        "    return G_loss.data.item()"
      ],
      "execution_count": 10,
      "outputs": []
    },
    {
      "cell_type": "markdown",
      "metadata": {
        "id": "5dBuC5VByfc1"
      },
      "source": [
        "# Train the models"
      ]
    },
    {
      "cell_type": "code",
      "metadata": {
        "colab": {
          "base_uri": "https://localhost:8080/"
        },
        "id": "2hONjC0ixnxa",
        "outputId": "bf40d89f-53df-4360-92aa-1aebe289e3ce"
      },
      "source": [
        "n_epoch = 200\n",
        "for epoch in range(1, n_epoch+1):           \n",
        "    D_losses, G_losses = [], []\n",
        "    for batch_idx, (x, _) in enumerate(train_loader):\n",
        "        D_losses.append(Train_Discriminator(x))\n",
        "        G_losses.append(Train_Generator(x))\n",
        "\n",
        "    print('[%d/%d]: loss_d: %.3f, loss_g: %.3f' % (\n",
        "            (epoch), n_epoch, torch.mean(torch.FloatTensor(D_losses)), torch.mean(torch.FloatTensor(G_losses))))"
      ],
      "execution_count": 11,
      "outputs": [
        {
          "output_type": "stream",
          "text": [
            "[1/200]: loss_d: 1.055, loss_g: 2.368\n",
            "[2/200]: loss_d: 0.905, loss_g: 2.059\n",
            "[3/200]: loss_d: 0.741, loss_g: 2.219\n",
            "[4/200]: loss_d: 0.440, loss_g: 2.963\n",
            "[5/200]: loss_d: 0.426, loss_g: 3.106\n",
            "[6/200]: loss_d: 0.436, loss_g: 3.283\n",
            "[7/200]: loss_d: 0.449, loss_g: 2.958\n",
            "[8/200]: loss_d: 0.584, loss_g: 2.604\n",
            "[9/200]: loss_d: 0.576, loss_g: 2.548\n",
            "[10/200]: loss_d: 0.606, loss_g: 2.518\n",
            "[11/200]: loss_d: 0.620, loss_g: 2.425\n",
            "[12/200]: loss_d: 0.695, loss_g: 2.151\n",
            "[13/200]: loss_d: 0.718, loss_g: 2.086\n",
            "[14/200]: loss_d: 0.766, loss_g: 1.925\n",
            "[15/200]: loss_d: 0.816, loss_g: 1.809\n",
            "[16/200]: loss_d: 0.810, loss_g: 1.816\n",
            "[17/200]: loss_d: 0.840, loss_g: 1.819\n",
            "[18/200]: loss_d: 0.810, loss_g: 1.891\n",
            "[19/200]: loss_d: 0.794, loss_g: 1.897\n",
            "[20/200]: loss_d: 0.778, loss_g: 1.901\n",
            "[21/200]: loss_d: 0.826, loss_g: 1.824\n",
            "[22/200]: loss_d: 0.884, loss_g: 1.656\n",
            "[23/200]: loss_d: 0.874, loss_g: 1.687\n",
            "[24/200]: loss_d: 0.903, loss_g: 1.598\n",
            "[25/200]: loss_d: 0.914, loss_g: 1.577\n",
            "[26/200]: loss_d: 0.916, loss_g: 1.546\n",
            "[27/200]: loss_d: 0.926, loss_g: 1.544\n",
            "[28/200]: loss_d: 0.976, loss_g: 1.468\n",
            "[29/200]: loss_d: 0.999, loss_g: 1.423\n",
            "[30/200]: loss_d: 0.978, loss_g: 1.455\n",
            "[31/200]: loss_d: 0.981, loss_g: 1.457\n",
            "[32/200]: loss_d: 0.986, loss_g: 1.444\n",
            "[33/200]: loss_d: 0.985, loss_g: 1.436\n",
            "[34/200]: loss_d: 0.985, loss_g: 1.431\n",
            "[35/200]: loss_d: 1.014, loss_g: 1.402\n",
            "[36/200]: loss_d: 1.028, loss_g: 1.349\n",
            "[37/200]: loss_d: 1.028, loss_g: 1.341\n",
            "[38/200]: loss_d: 1.046, loss_g: 1.320\n",
            "[39/200]: loss_d: 1.047, loss_g: 1.318\n",
            "[40/200]: loss_d: 1.051, loss_g: 1.317\n",
            "[41/200]: loss_d: 1.065, loss_g: 1.273\n",
            "[42/200]: loss_d: 1.087, loss_g: 1.224\n",
            "[43/200]: loss_d: 1.083, loss_g: 1.247\n",
            "[44/200]: loss_d: 1.066, loss_g: 1.275\n",
            "[45/200]: loss_d: 1.088, loss_g: 1.240\n",
            "[46/200]: loss_d: 1.121, loss_g: 1.165\n",
            "[47/200]: loss_d: 1.098, loss_g: 1.194\n",
            "[48/200]: loss_d: 1.106, loss_g: 1.182\n",
            "[49/200]: loss_d: 1.122, loss_g: 1.160\n",
            "[50/200]: loss_d: 1.121, loss_g: 1.161\n",
            "[51/200]: loss_d: 1.124, loss_g: 1.151\n",
            "[52/200]: loss_d: 1.138, loss_g: 1.124\n",
            "[53/200]: loss_d: 1.139, loss_g: 1.134\n",
            "[54/200]: loss_d: 1.150, loss_g: 1.116\n",
            "[55/200]: loss_d: 1.146, loss_g: 1.115\n",
            "[56/200]: loss_d: 1.164, loss_g: 1.087\n",
            "[57/200]: loss_d: 1.152, loss_g: 1.117\n",
            "[58/200]: loss_d: 1.151, loss_g: 1.118\n",
            "[59/200]: loss_d: 1.155, loss_g: 1.109\n",
            "[60/200]: loss_d: 1.159, loss_g: 1.107\n",
            "[61/200]: loss_d: 1.159, loss_g: 1.092\n",
            "[62/200]: loss_d: 1.161, loss_g: 1.095\n",
            "[63/200]: loss_d: 1.169, loss_g: 1.084\n",
            "[64/200]: loss_d: 1.174, loss_g: 1.084\n",
            "[65/200]: loss_d: 1.173, loss_g: 1.067\n",
            "[66/200]: loss_d: 1.174, loss_g: 1.071\n",
            "[67/200]: loss_d: 1.176, loss_g: 1.056\n",
            "[68/200]: loss_d: 1.180, loss_g: 1.056\n",
            "[69/200]: loss_d: 1.181, loss_g: 1.055\n",
            "[70/200]: loss_d: 1.189, loss_g: 1.044\n",
            "[71/200]: loss_d: 1.186, loss_g: 1.054\n",
            "[72/200]: loss_d: 1.187, loss_g: 1.059\n",
            "[73/200]: loss_d: 1.192, loss_g: 1.030\n",
            "[74/200]: loss_d: 1.187, loss_g: 1.045\n",
            "[75/200]: loss_d: 1.199, loss_g: 1.030\n",
            "[76/200]: loss_d: 1.192, loss_g: 1.041\n",
            "[77/200]: loss_d: 1.191, loss_g: 1.042\n",
            "[78/200]: loss_d: 1.203, loss_g: 1.026\n",
            "[79/200]: loss_d: 1.207, loss_g: 1.016\n",
            "[80/200]: loss_d: 1.200, loss_g: 1.025\n",
            "[81/200]: loss_d: 1.201, loss_g: 1.029\n",
            "[82/200]: loss_d: 1.215, loss_g: 1.003\n",
            "[83/200]: loss_d: 1.211, loss_g: 1.014\n",
            "[84/200]: loss_d: 1.210, loss_g: 0.994\n",
            "[85/200]: loss_d: 1.207, loss_g: 1.024\n",
            "[86/200]: loss_d: 1.219, loss_g: 0.991\n",
            "[87/200]: loss_d: 1.212, loss_g: 0.999\n",
            "[88/200]: loss_d: 1.212, loss_g: 1.008\n",
            "[89/200]: loss_d: 1.224, loss_g: 0.979\n",
            "[90/200]: loss_d: 1.230, loss_g: 0.976\n",
            "[91/200]: loss_d: 1.221, loss_g: 0.993\n",
            "[92/200]: loss_d: 1.218, loss_g: 0.990\n",
            "[93/200]: loss_d: 1.230, loss_g: 0.969\n",
            "[94/200]: loss_d: 1.228, loss_g: 0.973\n",
            "[95/200]: loss_d: 1.231, loss_g: 0.987\n",
            "[96/200]: loss_d: 1.232, loss_g: 0.979\n",
            "[97/200]: loss_d: 1.226, loss_g: 0.974\n",
            "[98/200]: loss_d: 1.236, loss_g: 0.969\n",
            "[99/200]: loss_d: 1.234, loss_g: 0.966\n",
            "[100/200]: loss_d: 1.232, loss_g: 0.966\n",
            "[101/200]: loss_d: 1.234, loss_g: 0.971\n",
            "[102/200]: loss_d: 1.236, loss_g: 0.959\n",
            "[103/200]: loss_d: 1.244, loss_g: 0.952\n",
            "[104/200]: loss_d: 1.241, loss_g: 0.970\n",
            "[105/200]: loss_d: 1.232, loss_g: 0.967\n",
            "[106/200]: loss_d: 1.240, loss_g: 0.954\n",
            "[107/200]: loss_d: 1.239, loss_g: 0.951\n",
            "[108/200]: loss_d: 1.235, loss_g: 0.959\n",
            "[109/200]: loss_d: 1.239, loss_g: 0.959\n",
            "[110/200]: loss_d: 1.237, loss_g: 0.955\n",
            "[111/200]: loss_d: 1.245, loss_g: 0.947\n",
            "[112/200]: loss_d: 1.238, loss_g: 0.959\n",
            "[113/200]: loss_d: 1.240, loss_g: 0.948\n",
            "[114/200]: loss_d: 1.240, loss_g: 0.954\n",
            "[115/200]: loss_d: 1.244, loss_g: 0.944\n",
            "[116/200]: loss_d: 1.247, loss_g: 0.944\n",
            "[117/200]: loss_d: 1.238, loss_g: 0.960\n",
            "[118/200]: loss_d: 1.245, loss_g: 0.945\n",
            "[119/200]: loss_d: 1.236, loss_g: 0.964\n",
            "[120/200]: loss_d: 1.241, loss_g: 0.948\n",
            "[121/200]: loss_d: 1.250, loss_g: 0.948\n",
            "[122/200]: loss_d: 1.241, loss_g: 0.950\n",
            "[123/200]: loss_d: 1.241, loss_g: 0.951\n",
            "[124/200]: loss_d: 1.248, loss_g: 0.942\n",
            "[125/200]: loss_d: 1.253, loss_g: 0.935\n",
            "[126/200]: loss_d: 1.251, loss_g: 0.941\n",
            "[127/200]: loss_d: 1.252, loss_g: 0.938\n",
            "[128/200]: loss_d: 1.247, loss_g: 0.947\n",
            "[129/200]: loss_d: 1.239, loss_g: 0.956\n",
            "[130/200]: loss_d: 1.240, loss_g: 0.949\n",
            "[131/200]: loss_d: 1.249, loss_g: 0.932\n",
            "[132/200]: loss_d: 1.246, loss_g: 0.939\n",
            "[133/200]: loss_d: 1.248, loss_g: 0.942\n",
            "[134/200]: loss_d: 1.248, loss_g: 0.942\n",
            "[135/200]: loss_d: 1.245, loss_g: 0.940\n",
            "[136/200]: loss_d: 1.241, loss_g: 0.941\n",
            "[137/200]: loss_d: 1.253, loss_g: 0.932\n",
            "[138/200]: loss_d: 1.254, loss_g: 0.934\n",
            "[139/200]: loss_d: 1.246, loss_g: 0.949\n",
            "[140/200]: loss_d: 1.252, loss_g: 0.943\n",
            "[141/200]: loss_d: 1.255, loss_g: 0.925\n",
            "[142/200]: loss_d: 1.248, loss_g: 0.929\n",
            "[143/200]: loss_d: 1.255, loss_g: 0.929\n",
            "[144/200]: loss_d: 1.255, loss_g: 0.929\n",
            "[145/200]: loss_d: 1.256, loss_g: 0.934\n",
            "[146/200]: loss_d: 1.254, loss_g: 0.940\n",
            "[147/200]: loss_d: 1.255, loss_g: 0.934\n",
            "[148/200]: loss_d: 1.261, loss_g: 0.913\n",
            "[149/200]: loss_d: 1.258, loss_g: 0.922\n",
            "[150/200]: loss_d: 1.260, loss_g: 0.926\n",
            "[151/200]: loss_d: 1.258, loss_g: 0.933\n",
            "[152/200]: loss_d: 1.258, loss_g: 0.926\n",
            "[153/200]: loss_d: 1.257, loss_g: 0.923\n",
            "[154/200]: loss_d: 1.255, loss_g: 0.941\n",
            "[155/200]: loss_d: 1.255, loss_g: 0.930\n",
            "[156/200]: loss_d: 1.256, loss_g: 0.924\n",
            "[157/200]: loss_d: 1.252, loss_g: 0.935\n",
            "[158/200]: loss_d: 1.257, loss_g: 0.923\n",
            "[159/200]: loss_d: 1.258, loss_g: 0.926\n",
            "[160/200]: loss_d: 1.254, loss_g: 0.933\n",
            "[161/200]: loss_d: 1.259, loss_g: 0.919\n",
            "[162/200]: loss_d: 1.252, loss_g: 0.925\n",
            "[163/200]: loss_d: 1.254, loss_g: 0.931\n",
            "[164/200]: loss_d: 1.254, loss_g: 0.936\n",
            "[165/200]: loss_d: 1.251, loss_g: 0.935\n",
            "[166/200]: loss_d: 1.250, loss_g: 0.931\n",
            "[167/200]: loss_d: 1.252, loss_g: 0.935\n",
            "[168/200]: loss_d: 1.257, loss_g: 0.916\n",
            "[169/200]: loss_d: 1.256, loss_g: 0.923\n",
            "[170/200]: loss_d: 1.255, loss_g: 0.934\n",
            "[171/200]: loss_d: 1.260, loss_g: 0.924\n",
            "[172/200]: loss_d: 1.260, loss_g: 0.914\n",
            "[173/200]: loss_d: 1.256, loss_g: 0.923\n",
            "[174/200]: loss_d: 1.256, loss_g: 0.926\n",
            "[175/200]: loss_d: 1.255, loss_g: 0.925\n",
            "[176/200]: loss_d: 1.263, loss_g: 0.909\n",
            "[177/200]: loss_d: 1.259, loss_g: 0.920\n",
            "[178/200]: loss_d: 1.263, loss_g: 0.917\n",
            "[179/200]: loss_d: 1.266, loss_g: 0.914\n",
            "[180/200]: loss_d: 1.261, loss_g: 0.920\n",
            "[181/200]: loss_d: 1.263, loss_g: 0.919\n",
            "[182/200]: loss_d: 1.263, loss_g: 0.918\n",
            "[183/200]: loss_d: 1.259, loss_g: 0.922\n",
            "[184/200]: loss_d: 1.259, loss_g: 0.919\n",
            "[185/200]: loss_d: 1.260, loss_g: 0.911\n",
            "[186/200]: loss_d: 1.259, loss_g: 0.918\n",
            "[187/200]: loss_d: 1.264, loss_g: 0.914\n",
            "[188/200]: loss_d: 1.257, loss_g: 0.921\n",
            "[189/200]: loss_d: 1.257, loss_g: 0.918\n",
            "[190/200]: loss_d: 1.258, loss_g: 0.929\n",
            "[191/200]: loss_d: 1.259, loss_g: 0.921\n",
            "[192/200]: loss_d: 1.255, loss_g: 0.922\n",
            "[193/200]: loss_d: 1.260, loss_g: 0.914\n",
            "[194/200]: loss_d: 1.261, loss_g: 0.915\n",
            "[195/200]: loss_d: 1.257, loss_g: 0.925\n",
            "[196/200]: loss_d: 1.254, loss_g: 0.933\n",
            "[197/200]: loss_d: 1.261, loss_g: 0.908\n",
            "[198/200]: loss_d: 1.262, loss_g: 0.919\n",
            "[199/200]: loss_d: 1.256, loss_g: 0.920\n",
            "[200/200]: loss_d: 1.258, loss_g: 0.918\n"
          ],
          "name": "stdout"
        }
      ]
    },
    {
      "cell_type": "markdown",
      "metadata": {
        "id": "stMuqWAZyo_a"
      },
      "source": [
        "# Save and download the models"
      ]
    },
    {
      "cell_type": "code",
      "metadata": {
        "id": "w7Rr69h_DmLa",
        "colab": {
          "base_uri": "https://localhost:8080/",
          "height": 17
        },
        "outputId": "fb062a2f-a90c-47c2-db23-683f5e1de045"
      },
      "source": [
        "# Save the Generator\n",
        "with open('G.pkl', 'wb') as f:\n",
        "    pkl.dump(G, f)\n",
        "\n",
        "# Save the Discriminator\n",
        "with open('D.pkl', 'wb') as f:\n",
        "    pkl.dump(D, f)\n",
        "\n",
        "\n",
        "# download files into the local machine\n",
        "files.download('D.pkl')\n",
        "files.download('G.pkl')\n"
      ],
      "execution_count": 12,
      "outputs": [
        {
          "output_type": "display_data",
          "data": {
            "application/javascript": [
              "\n",
              "    async function download(id, filename, size) {\n",
              "      if (!google.colab.kernel.accessAllowed) {\n",
              "        return;\n",
              "      }\n",
              "      const div = document.createElement('div');\n",
              "      const label = document.createElement('label');\n",
              "      label.textContent = `Downloading \"${filename}\": `;\n",
              "      div.appendChild(label);\n",
              "      const progress = document.createElement('progress');\n",
              "      progress.max = size;\n",
              "      div.appendChild(progress);\n",
              "      document.body.appendChild(div);\n",
              "\n",
              "      const buffers = [];\n",
              "      let downloaded = 0;\n",
              "\n",
              "      const channel = await google.colab.kernel.comms.open(id);\n",
              "      // Send a message to notify the kernel that we're ready.\n",
              "      channel.send({})\n",
              "\n",
              "      for await (const message of channel.messages) {\n",
              "        // Send a message to notify the kernel that we're ready.\n",
              "        channel.send({})\n",
              "        if (message.buffers) {\n",
              "          for (const buffer of message.buffers) {\n",
              "            buffers.push(buffer);\n",
              "            downloaded += buffer.byteLength;\n",
              "            progress.value = downloaded;\n",
              "          }\n",
              "        }\n",
              "      }\n",
              "      const blob = new Blob(buffers, {type: 'application/binary'});\n",
              "      const a = document.createElement('a');\n",
              "      a.href = window.URL.createObjectURL(blob);\n",
              "      a.download = filename;\n",
              "      div.appendChild(a);\n",
              "      a.click();\n",
              "      div.remove();\n",
              "    }\n",
              "  "
            ],
            "text/plain": [
              "<IPython.core.display.Javascript object>"
            ]
          },
          "metadata": {
            "tags": []
          }
        },
        {
          "output_type": "display_data",
          "data": {
            "application/javascript": [
              "download(\"download_fa9f4b18-2459-4968-8d32-817528164afb\", \"D.pkl\", 5844497)"
            ],
            "text/plain": [
              "<IPython.core.display.Javascript object>"
            ]
          },
          "metadata": {
            "tags": []
          }
        },
        {
          "output_type": "display_data",
          "data": {
            "application/javascript": [
              "\n",
              "    async function download(id, filename, size) {\n",
              "      if (!google.colab.kernel.accessAllowed) {\n",
              "        return;\n",
              "      }\n",
              "      const div = document.createElement('div');\n",
              "      const label = document.createElement('label');\n",
              "      label.textContent = `Downloading \"${filename}\": `;\n",
              "      div.appendChild(label);\n",
              "      const progress = document.createElement('progress');\n",
              "      progress.max = size;\n",
              "      div.appendChild(progress);\n",
              "      document.body.appendChild(div);\n",
              "\n",
              "      const buffers = [];\n",
              "      let downloaded = 0;\n",
              "\n",
              "      const channel = await google.colab.kernel.comms.open(id);\n",
              "      // Send a message to notify the kernel that we're ready.\n",
              "      channel.send({})\n",
              "\n",
              "      for await (const message of channel.messages) {\n",
              "        // Send a message to notify the kernel that we're ready.\n",
              "        channel.send({})\n",
              "        if (message.buffers) {\n",
              "          for (const buffer of message.buffers) {\n",
              "            buffers.push(buffer);\n",
              "            downloaded += buffer.byteLength;\n",
              "            progress.value = downloaded;\n",
              "          }\n",
              "        }\n",
              "      }\n",
              "      const blob = new Blob(buffers, {type: 'application/binary'});\n",
              "      const a = document.createElement('a');\n",
              "      a.href = window.URL.createObjectURL(blob);\n",
              "      a.download = filename;\n",
              "      div.appendChild(a);\n",
              "      a.click();\n",
              "      div.remove();\n",
              "    }\n",
              "  "
            ],
            "text/plain": [
              "<IPython.core.display.Javascript object>"
            ]
          },
          "metadata": {
            "tags": []
          }
        },
        {
          "output_type": "display_data",
          "data": {
            "application/javascript": [
              "download(\"download_1917f6ff-9da0-4c8f-a340-576ca72c41b6\", \"G.pkl\", 3292746)"
            ],
            "text/plain": [
              "<IPython.core.display.Javascript object>"
            ]
          },
          "metadata": {
            "tags": []
          }
        }
      ]
    },
    {
      "cell_type": "markdown",
      "metadata": {
        "id": "pM6wRWQhy1WL"
      },
      "source": [
        "# Create and annotate a fake data set"
      ]
    },
    {
      "cell_type": "code",
      "metadata": {
        "id": "xfBOrx-XB6m7",
        "colab": {
          "base_uri": "https://localhost:8080/",
          "height": 17
        },
        "outputId": "c9503451-c5b7-44ec-abd5-aa2fe88b8671"
      },
      "source": [
        "#create directory to save generated images and files\n",
        "!mkdir fake_digits\n",
        "\n",
        "#create 100 latent vectors which has 100  dimension\n",
        "\n",
        "sample_size=100\n",
        "\n",
        "z = np.random.uniform(-1, 1, size=(sample_size, z_size))\n",
        "z = torch.from_numpy(z).float()\n",
        "\n",
        "G.eval() # eval mode\n",
        "\n",
        "# set image directory root location\n",
        "root = '/content'\n",
        "\n",
        "#get the grid image\n",
        "grid_view = G(z.to(device))\n",
        "save_image(grid_view.view(grid_view.size(0), 1, 28, 28), root + r'/grid.png', normalize = True) \n",
        "\n",
        "\n",
        "for i, image_tensor in enumerate(z):\n",
        "    image_tensor = image_tensor.detach()\n",
        "\n",
        "    # save the latent vector, related to the image\n",
        "    f = open(root + r'/fake_digits/%d.txt' %i,'a')\n",
        "    f.write(np.array2string(image_tensor.numpy(), separator=','))\n",
        "    f.close()\n",
        "\n",
        "    # create image using latent vector\n",
        "    rand_image = G(image_tensor.to(device)) \n",
        "\n",
        "    # save image\n",
        "    rand_image = rand_image.view(-1, 28) # convert [784] tensor in to [28,28] tensor to create image\n",
        "    save_image(rand_image, root + r'/fake_digits/%d.png' %i, normalize = True)\n",
        "\n",
        "\n",
        "#create and download zip file contains generated image files and Latent vectors\n",
        "shutil.make_archive('fake_digits', 'zip', 'fake_digits')\n",
        "files.download('fake_digits.zip')"
      ],
      "execution_count": 13,
      "outputs": [
        {
          "output_type": "display_data",
          "data": {
            "application/javascript": [
              "\n",
              "    async function download(id, filename, size) {\n",
              "      if (!google.colab.kernel.accessAllowed) {\n",
              "        return;\n",
              "      }\n",
              "      const div = document.createElement('div');\n",
              "      const label = document.createElement('label');\n",
              "      label.textContent = `Downloading \"${filename}\": `;\n",
              "      div.appendChild(label);\n",
              "      const progress = document.createElement('progress');\n",
              "      progress.max = size;\n",
              "      div.appendChild(progress);\n",
              "      document.body.appendChild(div);\n",
              "\n",
              "      const buffers = [];\n",
              "      let downloaded = 0;\n",
              "\n",
              "      const channel = await google.colab.kernel.comms.open(id);\n",
              "      // Send a message to notify the kernel that we're ready.\n",
              "      channel.send({})\n",
              "\n",
              "      for await (const message of channel.messages) {\n",
              "        // Send a message to notify the kernel that we're ready.\n",
              "        channel.send({})\n",
              "        if (message.buffers) {\n",
              "          for (const buffer of message.buffers) {\n",
              "            buffers.push(buffer);\n",
              "            downloaded += buffer.byteLength;\n",
              "            progress.value = downloaded;\n",
              "          }\n",
              "        }\n",
              "      }\n",
              "      const blob = new Blob(buffers, {type: 'application/binary'});\n",
              "      const a = document.createElement('a');\n",
              "      a.href = window.URL.createObjectURL(blob);\n",
              "      a.download = filename;\n",
              "      div.appendChild(a);\n",
              "      a.click();\n",
              "      div.remove();\n",
              "    }\n",
              "  "
            ],
            "text/plain": [
              "<IPython.core.display.Javascript object>"
            ]
          },
          "metadata": {
            "tags": []
          }
        },
        {
          "output_type": "display_data",
          "data": {
            "application/javascript": [
              "download(\"download_ae6a9181-61df-43a5-832c-4b128b18d3f5\", \"fake_digits.zip\", 170063)"
            ],
            "text/plain": [
              "<IPython.core.display.Javascript object>"
            ]
          },
          "metadata": {
            "tags": []
          }
        }
      ]
    },
    {
      "cell_type": "markdown",
      "metadata": {
        "id": "o2989Xe8zJ38"
      },
      "source": [
        "# Create random digit images From the real MNIST test data set"
      ]
    },
    {
      "cell_type": "code",
      "metadata": {
        "colab": {
          "base_uri": "https://localhost:8080/",
          "height": 17
        },
        "id": "GTjrMt6dT8tr",
        "outputId": "d5e61706-d383-48a8-954e-499aff131d84"
      },
      "source": [
        "#create directory to save generated images and test files\n",
        "!mkdir real_images\n",
        "\n",
        "# extract 100 random digit images from the real MNIST test data set\n",
        "\n",
        "for idx, (img, _) in enumerate(test_dataset):\n",
        "\n",
        "    # save the latent vector, related to the image\n",
        "    f = open(root + r'/real_images/%d.txt' %idx,'a')\n",
        "    f.write(np.array2string(img.numpy(), separator=','))\n",
        "    f.close()\n",
        "\n",
        "    # save the image\n",
        "    save_image(img, '/content/real_images/%d.png' %idx, normalize = True)\n",
        "\n",
        "    # stop the iteration after creating 100 images\n",
        "    if idx == 100: \n",
        "        break   \n",
        "\n",
        "#create and download a zip file contains generated image files and Latent vectors\n",
        "shutil.make_archive('real_images', 'zip', 'real_images')\n",
        "files.download('real_images.zip')\n"
      ],
      "execution_count": 14,
      "outputs": [
        {
          "output_type": "display_data",
          "data": {
            "application/javascript": [
              "\n",
              "    async function download(id, filename, size) {\n",
              "      if (!google.colab.kernel.accessAllowed) {\n",
              "        return;\n",
              "      }\n",
              "      const div = document.createElement('div');\n",
              "      const label = document.createElement('label');\n",
              "      label.textContent = `Downloading \"${filename}\": `;\n",
              "      div.appendChild(label);\n",
              "      const progress = document.createElement('progress');\n",
              "      progress.max = size;\n",
              "      div.appendChild(progress);\n",
              "      document.body.appendChild(div);\n",
              "\n",
              "      const buffers = [];\n",
              "      let downloaded = 0;\n",
              "\n",
              "      const channel = await google.colab.kernel.comms.open(id);\n",
              "      // Send a message to notify the kernel that we're ready.\n",
              "      channel.send({})\n",
              "\n",
              "      for await (const message of channel.messages) {\n",
              "        // Send a message to notify the kernel that we're ready.\n",
              "        channel.send({})\n",
              "        if (message.buffers) {\n",
              "          for (const buffer of message.buffers) {\n",
              "            buffers.push(buffer);\n",
              "            downloaded += buffer.byteLength;\n",
              "            progress.value = downloaded;\n",
              "          }\n",
              "        }\n",
              "      }\n",
              "      const blob = new Blob(buffers, {type: 'application/binary'});\n",
              "      const a = document.createElement('a');\n",
              "      a.href = window.URL.createObjectURL(blob);\n",
              "      a.download = filename;\n",
              "      div.appendChild(a);\n",
              "      a.click();\n",
              "      div.remove();\n",
              "    }\n",
              "  "
            ],
            "text/plain": [
              "<IPython.core.display.Javascript object>"
            ]
          },
          "metadata": {
            "tags": []
          }
        },
        {
          "output_type": "display_data",
          "data": {
            "application/javascript": [
              "download(\"download_9cfacaca-fca8-49e7-880a-fd263b76b217\", \"real_images.zip\", 122187)"
            ],
            "text/plain": [
              "<IPython.core.display.Javascript object>"
            ]
          },
          "metadata": {
            "tags": []
          }
        }
      ]
    },
    {
      "cell_type": "markdown",
      "metadata": {
        "id": "ySDh2fCzilbW"
      },
      "source": [
        "# Prepare S0 and S1 "
      ]
    },
    {
      "cell_type": "code",
      "metadata": {
        "id": "3pv_MAVAixyu",
        "colab": {
          "base_uri": "https://localhost:8080/"
        },
        "outputId": "210d3ecb-e474-436b-8195-d8b9f856bf91"
      },
      "source": [
        "#upload image zip files after grouping thm according to its label and extract them\n",
        "!unzip '/content/Real_Images.zip' -d '/content/S0-real_images'\n",
        "!unzip '/content/Fake_Digits.zip' -d '/content/S1-Fake_Digits'"
      ],
      "execution_count": 16,
      "outputs": [
        {
          "output_type": "stream",
          "text": [
            "Archive:  /content/Real_Images.zip\n",
            "   creating: /content/S0-real_images/Real_Images/\n",
            "   creating: /content/S0-real_images/Real_Images/0/\n",
            "  inflating: /content/S0-real_images/Real_Images/0/3.png  \n",
            "  inflating: /content/S0-real_images/Real_Images/0/3.txt  \n",
            "  inflating: /content/S0-real_images/Real_Images/0/10.png  \n",
            "  inflating: /content/S0-real_images/Real_Images/0/10.txt  \n",
            "  inflating: /content/S0-real_images/Real_Images/0/13.png  \n",
            "  inflating: /content/S0-real_images/Real_Images/0/13.txt  \n",
            "  inflating: /content/S0-real_images/Real_Images/0/25.png  \n",
            "  inflating: /content/S0-real_images/Real_Images/0/25.txt  \n",
            "  inflating: /content/S0-real_images/Real_Images/0/28.png  \n",
            "  inflating: /content/S0-real_images/Real_Images/0/28.txt  \n",
            "  inflating: /content/S0-real_images/Real_Images/0/55.png  \n",
            "  inflating: /content/S0-real_images/Real_Images/0/55.txt  \n",
            "  inflating: /content/S0-real_images/Real_Images/0/69.png  \n",
            "  inflating: /content/S0-real_images/Real_Images/0/69.txt  \n",
            "  inflating: /content/S0-real_images/Real_Images/0/71.png  \n",
            "  inflating: /content/S0-real_images/Real_Images/0/71.txt  \n",
            "   creating: /content/S0-real_images/Real_Images/1/\n",
            "  inflating: /content/S0-real_images/Real_Images/1/2.png  \n",
            "  inflating: /content/S0-real_images/Real_Images/1/2.txt  \n",
            "  inflating: /content/S0-real_images/Real_Images/1/5.png  \n",
            "  inflating: /content/S0-real_images/Real_Images/1/5.txt  \n",
            "  inflating: /content/S0-real_images/Real_Images/1/14.png  \n",
            "  inflating: /content/S0-real_images/Real_Images/1/14.txt  \n",
            "  inflating: /content/S0-real_images/Real_Images/1/29.png  \n",
            "  inflating: /content/S0-real_images/Real_Images/1/29.txt  \n",
            "  inflating: /content/S0-real_images/Real_Images/1/31.png  \n",
            "  inflating: /content/S0-real_images/Real_Images/1/31.txt  \n",
            "  inflating: /content/S0-real_images/Real_Images/1/37.png  \n",
            "  inflating: /content/S0-real_images/Real_Images/1/37.txt  \n",
            "  inflating: /content/S0-real_images/Real_Images/1/39.png  \n",
            "  inflating: /content/S0-real_images/Real_Images/1/39.txt  \n",
            "  inflating: /content/S0-real_images/Real_Images/1/40.png  \n",
            "  inflating: /content/S0-real_images/Real_Images/1/40.txt  \n",
            "  inflating: /content/S0-real_images/Real_Images/1/46.png  \n",
            "  inflating: /content/S0-real_images/Real_Images/1/46.txt  \n",
            "  inflating: /content/S0-real_images/Real_Images/1/57.png  \n",
            "  inflating: /content/S0-real_images/Real_Images/1/57.txt  \n",
            "  inflating: /content/S0-real_images/Real_Images/1/74.png  \n",
            "  inflating: /content/S0-real_images/Real_Images/1/74.txt  \n",
            "  inflating: /content/S0-real_images/Real_Images/1/89.png  \n",
            "  inflating: /content/S0-real_images/Real_Images/1/89.txt  \n",
            "  inflating: /content/S0-real_images/Real_Images/1/94.png  \n",
            "  inflating: /content/S0-real_images/Real_Images/1/94.txt  \n",
            "  inflating: /content/S0-real_images/Real_Images/1/96.png  \n",
            "  inflating: /content/S0-real_images/Real_Images/1/96.txt  \n",
            "   creating: /content/S0-real_images/Real_Images/2/\n",
            "  inflating: /content/S0-real_images/Real_Images/2/1.png  \n",
            "  inflating: /content/S0-real_images/Real_Images/2/1.txt  \n",
            "  inflating: /content/S0-real_images/Real_Images/2/35.png  \n",
            "  inflating: /content/S0-real_images/Real_Images/2/35.txt  \n",
            "  inflating: /content/S0-real_images/Real_Images/2/38.png  \n",
            "  inflating: /content/S0-real_images/Real_Images/2/38.txt  \n",
            "  inflating: /content/S0-real_images/Real_Images/2/43.png  \n",
            "  inflating: /content/S0-real_images/Real_Images/2/43.txt  \n",
            "  inflating: /content/S0-real_images/Real_Images/2/47.png  \n",
            "  inflating: /content/S0-real_images/Real_Images/2/47.txt  \n",
            "  inflating: /content/S0-real_images/Real_Images/2/72.png  \n",
            "  inflating: /content/S0-real_images/Real_Images/2/72.txt  \n",
            "  inflating: /content/S0-real_images/Real_Images/2/77.png  \n",
            "  inflating: /content/S0-real_images/Real_Images/2/77.txt  \n",
            "  inflating: /content/S0-real_images/Real_Images/2/82.png  \n",
            "  inflating: /content/S0-real_images/Real_Images/2/82.txt  \n",
            "   creating: /content/S0-real_images/Real_Images/3/\n",
            "  inflating: /content/S0-real_images/Real_Images/3/18.png  \n",
            "  inflating: /content/S0-real_images/Real_Images/3/18.txt  \n",
            "  inflating: /content/S0-real_images/Real_Images/3/30.png  \n",
            "  inflating: /content/S0-real_images/Real_Images/3/30.txt  \n",
            "  inflating: /content/S0-real_images/Real_Images/3/32.png  \n",
            "  inflating: /content/S0-real_images/Real_Images/3/32.txt  \n",
            "  inflating: /content/S0-real_images/Real_Images/3/44.png  \n",
            "  inflating: /content/S0-real_images/Real_Images/3/44.txt  \n",
            "  inflating: /content/S0-real_images/Real_Images/3/51.png  \n",
            "  inflating: /content/S0-real_images/Real_Images/3/51.txt  \n",
            "  inflating: /content/S0-real_images/Real_Images/3/63.png  \n",
            "  inflating: /content/S0-real_images/Real_Images/3/63.txt  \n",
            "  inflating: /content/S0-real_images/Real_Images/3/68.png  \n",
            "  inflating: /content/S0-real_images/Real_Images/3/68.txt  \n",
            "  inflating: /content/S0-real_images/Real_Images/3/76.png  \n",
            "  inflating: /content/S0-real_images/Real_Images/3/76.txt  \n",
            "  inflating: /content/S0-real_images/Real_Images/3/90.png  \n",
            "  inflating: /content/S0-real_images/Real_Images/3/90.txt  \n",
            "  inflating: /content/S0-real_images/Real_Images/3/93.png  \n",
            "  inflating: /content/S0-real_images/Real_Images/3/93.txt  \n",
            "   creating: /content/S0-real_images/Real_Images/4/\n",
            "  inflating: /content/S0-real_images/Real_Images/4/4.png  \n",
            "  inflating: /content/S0-real_images/Real_Images/4/4.txt  \n",
            "  inflating: /content/S0-real_images/Real_Images/4/6.png  \n",
            "  inflating: /content/S0-real_images/Real_Images/4/6.txt  \n",
            "  inflating: /content/S0-real_images/Real_Images/4/19.png  \n",
            "  inflating: /content/S0-real_images/Real_Images/4/19.txt  \n",
            "  inflating: /content/S0-real_images/Real_Images/4/24.png  \n",
            "  inflating: /content/S0-real_images/Real_Images/4/24.txt  \n",
            "  inflating: /content/S0-real_images/Real_Images/4/27.png  \n",
            "  inflating: /content/S0-real_images/Real_Images/4/27.txt  \n",
            "  inflating: /content/S0-real_images/Real_Images/4/33.png  \n",
            "  inflating: /content/S0-real_images/Real_Images/4/33.txt  \n",
            "  inflating: /content/S0-real_images/Real_Images/4/48.png  \n",
            "  inflating: /content/S0-real_images/Real_Images/4/48.txt  \n",
            "  inflating: /content/S0-real_images/Real_Images/4/49.png  \n",
            "  inflating: /content/S0-real_images/Real_Images/4/49.txt  \n",
            "  inflating: /content/S0-real_images/Real_Images/4/56.png  \n",
            "  inflating: /content/S0-real_images/Real_Images/4/56.txt  \n",
            "  inflating: /content/S0-real_images/Real_Images/4/65.png  \n",
            "  inflating: /content/S0-real_images/Real_Images/4/65.txt  \n",
            "  inflating: /content/S0-real_images/Real_Images/4/67.png  \n",
            "  inflating: /content/S0-real_images/Real_Images/4/67.txt  \n",
            "  inflating: /content/S0-real_images/Real_Images/4/85.png  \n",
            "  inflating: /content/S0-real_images/Real_Images/4/85.txt  \n",
            "  inflating: /content/S0-real_images/Real_Images/4/95.png  \n",
            "  inflating: /content/S0-real_images/Real_Images/4/95.txt  \n",
            "   creating: /content/S0-real_images/Real_Images/5/\n",
            "  inflating: /content/S0-real_images/Real_Images/5/15.png  \n",
            "  inflating: /content/S0-real_images/Real_Images/5/15.txt  \n",
            "  inflating: /content/S0-real_images/Real_Images/5/23.png  \n",
            "  inflating: /content/S0-real_images/Real_Images/5/23.txt  \n",
            "  inflating: /content/S0-real_images/Real_Images/5/45.png  \n",
            "  inflating: /content/S0-real_images/Real_Images/5/45.txt  \n",
            "  inflating: /content/S0-real_images/Real_Images/5/52.png  \n",
            "  inflating: /content/S0-real_images/Real_Images/5/52.txt  \n",
            "  inflating: /content/S0-real_images/Real_Images/5/53.png  \n",
            "  inflating: /content/S0-real_images/Real_Images/5/53.txt  \n",
            "  inflating: /content/S0-real_images/Real_Images/5/59.png  \n",
            "  inflating: /content/S0-real_images/Real_Images/5/59.txt  \n",
            "   creating: /content/S0-real_images/Real_Images/6/\n",
            "  inflating: /content/S0-real_images/Real_Images/6/11.png  \n",
            "  inflating: /content/S0-real_images/Real_Images/6/11.txt  \n",
            "  inflating: /content/S0-real_images/Real_Images/6/21.png  \n",
            "  inflating: /content/S0-real_images/Real_Images/6/21.txt  \n",
            "  inflating: /content/S0-real_images/Real_Images/6/22.png  \n",
            "  inflating: /content/S0-real_images/Real_Images/6/22.txt  \n",
            "  inflating: /content/S0-real_images/Real_Images/6/50.png  \n",
            "  inflating: /content/S0-real_images/Real_Images/6/50.txt  \n",
            "  inflating: /content/S0-real_images/Real_Images/6/54.png  \n",
            "  inflating: /content/S0-real_images/Real_Images/6/54.txt  \n",
            "  inflating: /content/S0-real_images/Real_Images/6/66.png  \n",
            "  inflating: /content/S0-real_images/Real_Images/6/66.txt  \n",
            "  inflating: /content/S0-real_images/Real_Images/6/81.png  \n",
            "  inflating: /content/S0-real_images/Real_Images/6/81.txt  \n",
            "  inflating: /content/S0-real_images/Real_Images/6/88.png  \n",
            "  inflating: /content/S0-real_images/Real_Images/6/88.txt  \n",
            "  inflating: /content/S0-real_images/Real_Images/6/91.png  \n",
            "  inflating: /content/S0-real_images/Real_Images/6/91.txt  \n",
            "  inflating: /content/S0-real_images/Real_Images/6/98.png  \n",
            "  inflating: /content/S0-real_images/Real_Images/6/98.txt  \n",
            "  inflating: /content/S0-real_images/Real_Images/6/100.png  \n",
            "  inflating: /content/S0-real_images/Real_Images/6/100.txt  \n",
            "   creating: /content/S0-real_images/Real_Images/7/\n",
            "  inflating: /content/S0-real_images/Real_Images/7/0.png  \n",
            "  inflating: /content/S0-real_images/Real_Images/7/0.txt  \n",
            "  inflating: /content/S0-real_images/Real_Images/7/17.png  \n",
            "  inflating: /content/S0-real_images/Real_Images/7/17.txt  \n",
            "  inflating: /content/S0-real_images/Real_Images/7/26.png  \n",
            "  inflating: /content/S0-real_images/Real_Images/7/26.txt  \n",
            "  inflating: /content/S0-real_images/Real_Images/7/34.png  \n",
            "  inflating: /content/S0-real_images/Real_Images/7/34.txt  \n",
            "  inflating: /content/S0-real_images/Real_Images/7/36.png  \n",
            "  inflating: /content/S0-real_images/Real_Images/7/36.txt  \n",
            "  inflating: /content/S0-real_images/Real_Images/7/60.png  \n",
            "  inflating: /content/S0-real_images/Real_Images/7/60.txt  \n",
            "  inflating: /content/S0-real_images/Real_Images/7/64.png  \n",
            "  inflating: /content/S0-real_images/Real_Images/7/64.txt  \n",
            "  inflating: /content/S0-real_images/Real_Images/7/70.png  \n",
            "  inflating: /content/S0-real_images/Real_Images/7/70.txt  \n",
            "  inflating: /content/S0-real_images/Real_Images/7/75.png  \n",
            "  inflating: /content/S0-real_images/Real_Images/7/75.txt  \n",
            "  inflating: /content/S0-real_images/Real_Images/7/79.png  \n",
            "  inflating: /content/S0-real_images/Real_Images/7/79.txt  \n",
            "  inflating: /content/S0-real_images/Real_Images/7/80.png  \n",
            "  inflating: /content/S0-real_images/Real_Images/7/80.txt  \n",
            "  inflating: /content/S0-real_images/Real_Images/7/83.png  \n",
            "  inflating: /content/S0-real_images/Real_Images/7/83.txt  \n",
            "  inflating: /content/S0-real_images/Real_Images/7/86.png  \n",
            "  inflating: /content/S0-real_images/Real_Images/7/86.txt  \n",
            "  inflating: /content/S0-real_images/Real_Images/7/97.png  \n",
            "  inflating: /content/S0-real_images/Real_Images/7/97.txt  \n",
            "   creating: /content/S0-real_images/Real_Images/8/\n",
            "  inflating: /content/S0-real_images/Real_Images/8/61.png  \n",
            "  inflating: /content/S0-real_images/Real_Images/8/61.txt  \n",
            "  inflating: /content/S0-real_images/Real_Images/8/84.png  \n",
            "  inflating: /content/S0-real_images/Real_Images/8/84.txt  \n",
            "   creating: /content/S0-real_images/Real_Images/9/\n",
            "  inflating: /content/S0-real_images/Real_Images/9/7.png  \n",
            "  inflating: /content/S0-real_images/Real_Images/9/7.txt  \n",
            "  inflating: /content/S0-real_images/Real_Images/9/9.png  \n",
            "  inflating: /content/S0-real_images/Real_Images/9/9.txt  \n",
            "  inflating: /content/S0-real_images/Real_Images/9/12.png  \n",
            "  inflating: /content/S0-real_images/Real_Images/9/12.txt  \n",
            "  inflating: /content/S0-real_images/Real_Images/9/16.png  \n",
            "  inflating: /content/S0-real_images/Real_Images/9/16.txt  \n",
            "  inflating: /content/S0-real_images/Real_Images/9/20.png  \n",
            "  inflating: /content/S0-real_images/Real_Images/9/20.txt  \n",
            "  inflating: /content/S0-real_images/Real_Images/9/58.png  \n",
            "  inflating: /content/S0-real_images/Real_Images/9/58.txt  \n",
            "  inflating: /content/S0-real_images/Real_Images/9/62.png  \n",
            "  inflating: /content/S0-real_images/Real_Images/9/62.txt  \n",
            "  inflating: /content/S0-real_images/Real_Images/9/73.png  \n",
            "  inflating: /content/S0-real_images/Real_Images/9/73.txt  \n",
            "  inflating: /content/S0-real_images/Real_Images/9/78.png  \n",
            "  inflating: /content/S0-real_images/Real_Images/9/78.txt  \n",
            "  inflating: /content/S0-real_images/Real_Images/9/99.png  \n",
            "  inflating: /content/S0-real_images/Real_Images/9/99.txt  \n",
            "Archive:  /content/Fake_Digits.zip\n",
            "   creating: /content/S1-Fake_Digits/Fake_Digits/\n",
            "   creating: /content/S1-Fake_Digits/Fake_Digits/1/\n",
            "  inflating: /content/S1-Fake_Digits/Fake_Digits/1/22.png  \n",
            "  inflating: /content/S1-Fake_Digits/Fake_Digits/1/22.txt  \n",
            "  inflating: /content/S1-Fake_Digits/Fake_Digits/1/33.png  \n",
            "  inflating: /content/S1-Fake_Digits/Fake_Digits/1/33.txt  \n",
            "  inflating: /content/S1-Fake_Digits/Fake_Digits/1/51.png  \n",
            "  inflating: /content/S1-Fake_Digits/Fake_Digits/1/51.txt  \n",
            "  inflating: /content/S1-Fake_Digits/Fake_Digits/1/53.png  \n",
            "  inflating: /content/S1-Fake_Digits/Fake_Digits/1/53.txt  \n",
            "  inflating: /content/S1-Fake_Digits/Fake_Digits/1/85.png  \n",
            "  inflating: /content/S1-Fake_Digits/Fake_Digits/1/85.txt  \n",
            "  inflating: /content/S1-Fake_Digits/Fake_Digits/1/88.png  \n",
            "  inflating: /content/S1-Fake_Digits/Fake_Digits/1/88.txt  \n",
            "   creating: /content/S1-Fake_Digits/Fake_Digits/0/\n",
            "  inflating: /content/S1-Fake_Digits/Fake_Digits/0/26.png  \n",
            "  inflating: /content/S1-Fake_Digits/Fake_Digits/0/26.txt  \n",
            "  inflating: /content/S1-Fake_Digits/Fake_Digits/0/28.png  \n",
            "  inflating: /content/S1-Fake_Digits/Fake_Digits/0/28.txt  \n",
            "  inflating: /content/S1-Fake_Digits/Fake_Digits/0/38.png  \n",
            "  inflating: /content/S1-Fake_Digits/Fake_Digits/0/38.txt  \n",
            "  inflating: /content/S1-Fake_Digits/Fake_Digits/0/43.png  \n",
            "  inflating: /content/S1-Fake_Digits/Fake_Digits/0/43.txt  \n",
            "  inflating: /content/S1-Fake_Digits/Fake_Digits/0/55.png  \n",
            "  inflating: /content/S1-Fake_Digits/Fake_Digits/0/55.txt  \n",
            "  inflating: /content/S1-Fake_Digits/Fake_Digits/0/71.png  \n",
            "  inflating: /content/S1-Fake_Digits/Fake_Digits/0/71.txt  \n",
            "  inflating: /content/S1-Fake_Digits/Fake_Digits/0/74.png  \n",
            "  inflating: /content/S1-Fake_Digits/Fake_Digits/0/74.txt  \n",
            "  inflating: /content/S1-Fake_Digits/Fake_Digits/0/80.png  \n",
            "  inflating: /content/S1-Fake_Digits/Fake_Digits/0/80.txt  \n",
            "  inflating: /content/S1-Fake_Digits/Fake_Digits/0/99.png  \n",
            "  inflating: /content/S1-Fake_Digits/Fake_Digits/0/99.txt  \n",
            "   creating: /content/S1-Fake_Digits/Fake_Digits/4/\n",
            "  inflating: /content/S1-Fake_Digits/Fake_Digits/4/11.png  \n",
            "  inflating: /content/S1-Fake_Digits/Fake_Digits/4/11.txt  \n",
            "  inflating: /content/S1-Fake_Digits/Fake_Digits/4/78.png  \n",
            "  inflating: /content/S1-Fake_Digits/Fake_Digits/4/78.txt  \n",
            "  inflating: /content/S1-Fake_Digits/Fake_Digits/4/83.png  \n",
            "  inflating: /content/S1-Fake_Digits/Fake_Digits/4/83.txt  \n",
            "   creating: /content/S1-Fake_Digits/Fake_Digits/2/\n",
            "  inflating: /content/S1-Fake_Digits/Fake_Digits/2/50.png  \n",
            "  inflating: /content/S1-Fake_Digits/Fake_Digits/2/50.txt  \n",
            "   creating: /content/S1-Fake_Digits/Fake_Digits/3/\n",
            "  inflating: /content/S1-Fake_Digits/Fake_Digits/3/13.png  \n",
            "  inflating: /content/S1-Fake_Digits/Fake_Digits/3/13.txt  \n",
            "  inflating: /content/S1-Fake_Digits/Fake_Digits/3/17.png  \n",
            "  inflating: /content/S1-Fake_Digits/Fake_Digits/3/17.txt  \n",
            "  inflating: /content/S1-Fake_Digits/Fake_Digits/3/20.png  \n",
            "  inflating: /content/S1-Fake_Digits/Fake_Digits/3/20.txt  \n",
            "  inflating: /content/S1-Fake_Digits/Fake_Digits/3/34.png  \n",
            "  inflating: /content/S1-Fake_Digits/Fake_Digits/3/34.txt  \n",
            "  inflating: /content/S1-Fake_Digits/Fake_Digits/3/42.png  \n",
            "  inflating: /content/S1-Fake_Digits/Fake_Digits/3/42.txt  \n",
            "  inflating: /content/S1-Fake_Digits/Fake_Digits/3/44.png  \n",
            "  inflating: /content/S1-Fake_Digits/Fake_Digits/3/44.txt  \n",
            "  inflating: /content/S1-Fake_Digits/Fake_Digits/3/45.png  \n",
            "  inflating: /content/S1-Fake_Digits/Fake_Digits/3/45.txt  \n",
            "  inflating: /content/S1-Fake_Digits/Fake_Digits/3/46.png  \n",
            "  inflating: /content/S1-Fake_Digits/Fake_Digits/3/46.txt  \n",
            "  inflating: /content/S1-Fake_Digits/Fake_Digits/3/49.png  \n",
            "  inflating: /content/S1-Fake_Digits/Fake_Digits/3/49.txt  \n",
            "  inflating: /content/S1-Fake_Digits/Fake_Digits/3/56.png  \n",
            "  inflating: /content/S1-Fake_Digits/Fake_Digits/3/56.txt  \n",
            "  inflating: /content/S1-Fake_Digits/Fake_Digits/3/63.png  \n",
            "  inflating: /content/S1-Fake_Digits/Fake_Digits/3/63.txt  \n",
            "  inflating: /content/S1-Fake_Digits/Fake_Digits/3/73.png  \n",
            "  inflating: /content/S1-Fake_Digits/Fake_Digits/3/73.txt  \n",
            "  inflating: /content/S1-Fake_Digits/Fake_Digits/3/89.png  \n",
            "  inflating: /content/S1-Fake_Digits/Fake_Digits/3/89.txt  \n",
            "  inflating: /content/S1-Fake_Digits/Fake_Digits/3/98.png  \n",
            "  inflating: /content/S1-Fake_Digits/Fake_Digits/3/98.txt  \n",
            "   creating: /content/S1-Fake_Digits/Fake_Digits/8/\n",
            "  inflating: /content/S1-Fake_Digits/Fake_Digits/8/7.png  \n",
            "  inflating: /content/S1-Fake_Digits/Fake_Digits/8/7.txt  \n",
            "  inflating: /content/S1-Fake_Digits/Fake_Digits/8/30.png  \n",
            "  inflating: /content/S1-Fake_Digits/Fake_Digits/8/30.txt  \n",
            "  inflating: /content/S1-Fake_Digits/Fake_Digits/8/57.png  \n",
            "  inflating: /content/S1-Fake_Digits/Fake_Digits/8/57.txt  \n",
            "  inflating: /content/S1-Fake_Digits/Fake_Digits/8/58.png  \n",
            "  inflating: /content/S1-Fake_Digits/Fake_Digits/8/58.txt  \n",
            "  inflating: /content/S1-Fake_Digits/Fake_Digits/8/68.png  \n",
            "  inflating: /content/S1-Fake_Digits/Fake_Digits/8/68.txt  \n",
            "  inflating: /content/S1-Fake_Digits/Fake_Digits/8/70.png  \n",
            "  inflating: /content/S1-Fake_Digits/Fake_Digits/8/70.txt  \n",
            "  inflating: /content/S1-Fake_Digits/Fake_Digits/8/92.png  \n",
            "  inflating: /content/S1-Fake_Digits/Fake_Digits/8/92.txt  \n",
            "  inflating: /content/S1-Fake_Digits/Fake_Digits/8/93.png  \n",
            "  inflating: /content/S1-Fake_Digits/Fake_Digits/8/93.txt  \n",
            "   creating: /content/S1-Fake_Digits/Fake_Digits/5/\n",
            "  inflating: /content/S1-Fake_Digits/Fake_Digits/5/25.png  \n",
            "  inflating: /content/S1-Fake_Digits/Fake_Digits/5/25.txt  \n",
            "  inflating: /content/S1-Fake_Digits/Fake_Digits/5/27.png  \n",
            "  inflating: /content/S1-Fake_Digits/Fake_Digits/5/27.txt  \n",
            "  inflating: /content/S1-Fake_Digits/Fake_Digits/5/35.png  \n",
            "  inflating: /content/S1-Fake_Digits/Fake_Digits/5/35.txt  \n",
            "   creating: /content/S1-Fake_Digits/Fake_Digits/6/\n",
            "  inflating: /content/S1-Fake_Digits/Fake_Digits/6/1.png  \n",
            "  inflating: /content/S1-Fake_Digits/Fake_Digits/6/1.txt  \n",
            "  inflating: /content/S1-Fake_Digits/Fake_Digits/6/21.png  \n",
            "  inflating: /content/S1-Fake_Digits/Fake_Digits/6/21.txt  \n",
            "  inflating: /content/S1-Fake_Digits/Fake_Digits/6/37.png  \n",
            "  inflating: /content/S1-Fake_Digits/Fake_Digits/6/37.txt  \n",
            "  inflating: /content/S1-Fake_Digits/Fake_Digits/6/39.png  \n",
            "  inflating: /content/S1-Fake_Digits/Fake_Digits/6/39.txt  \n",
            "  inflating: /content/S1-Fake_Digits/Fake_Digits/6/40.png  \n",
            "  inflating: /content/S1-Fake_Digits/Fake_Digits/6/40.txt  \n",
            "  inflating: /content/S1-Fake_Digits/Fake_Digits/6/61.png  \n",
            "  inflating: /content/S1-Fake_Digits/Fake_Digits/6/61.txt  \n",
            "  inflating: /content/S1-Fake_Digits/Fake_Digits/6/66.png  \n",
            "  inflating: /content/S1-Fake_Digits/Fake_Digits/6/66.txt  \n",
            "  inflating: /content/S1-Fake_Digits/Fake_Digits/6/79.png  \n",
            "  inflating: /content/S1-Fake_Digits/Fake_Digits/6/79.txt  \n",
            "   creating: /content/S1-Fake_Digits/Fake_Digits/7/\n",
            "  inflating: /content/S1-Fake_Digits/Fake_Digits/7/10.png  \n",
            "  inflating: /content/S1-Fake_Digits/Fake_Digits/7/10.txt  \n",
            "  inflating: /content/S1-Fake_Digits/Fake_Digits/7/19.png  \n",
            "  inflating: /content/S1-Fake_Digits/Fake_Digits/7/19.txt  \n",
            "  inflating: /content/S1-Fake_Digits/Fake_Digits/7/60.png  \n",
            "  inflating: /content/S1-Fake_Digits/Fake_Digits/7/60.txt  \n",
            "  inflating: /content/S1-Fake_Digits/Fake_Digits/7/62.png  \n",
            "  inflating: /content/S1-Fake_Digits/Fake_Digits/7/62.txt  \n",
            "  inflating: /content/S1-Fake_Digits/Fake_Digits/7/94.png  \n",
            "  inflating: /content/S1-Fake_Digits/Fake_Digits/7/94.txt  \n",
            "  inflating: /content/S1-Fake_Digits/Fake_Digits/7/97.png  \n",
            "  inflating: /content/S1-Fake_Digits/Fake_Digits/7/97.txt  \n",
            "   creating: /content/S1-Fake_Digits/Fake_Digits/9/\n",
            "  inflating: /content/S1-Fake_Digits/Fake_Digits/9/2.png  \n",
            "  inflating: /content/S1-Fake_Digits/Fake_Digits/9/2.txt  \n",
            "  inflating: /content/S1-Fake_Digits/Fake_Digits/9/3.png  \n",
            "  inflating: /content/S1-Fake_Digits/Fake_Digits/9/3.txt  \n",
            "  inflating: /content/S1-Fake_Digits/Fake_Digits/9/6.png  \n",
            "  inflating: /content/S1-Fake_Digits/Fake_Digits/9/6.txt  \n",
            "  inflating: /content/S1-Fake_Digits/Fake_Digits/9/18.png  \n",
            "  inflating: /content/S1-Fake_Digits/Fake_Digits/9/18.txt  \n",
            "  inflating: /content/S1-Fake_Digits/Fake_Digits/9/23.png  \n",
            "  inflating: /content/S1-Fake_Digits/Fake_Digits/9/32.png  \n",
            "  inflating: /content/S1-Fake_Digits/Fake_Digits/9/32.txt  \n",
            "  inflating: /content/S1-Fake_Digits/Fake_Digits/9/36.png  \n",
            "  inflating: /content/S1-Fake_Digits/Fake_Digits/9/36.txt  \n",
            "  inflating: /content/S1-Fake_Digits/Fake_Digits/9/59.png  \n",
            "  inflating: /content/S1-Fake_Digits/Fake_Digits/9/59.txt  \n",
            "  inflating: /content/S1-Fake_Digits/Fake_Digits/9/64.png  \n",
            "  inflating: /content/S1-Fake_Digits/Fake_Digits/9/64.txt  \n",
            "  inflating: /content/S1-Fake_Digits/Fake_Digits/9/69.png  \n",
            "  inflating: /content/S1-Fake_Digits/Fake_Digits/9/69.txt  \n",
            "  inflating: /content/S1-Fake_Digits/Fake_Digits/9/91.png  \n",
            "  inflating: /content/S1-Fake_Digits/Fake_Digits/9/91.txt  \n"
          ],
          "name": "stdout"
        }
      ]
    },
    {
      "cell_type": "code",
      "metadata": {
        "id": "CBkN7l4KivRf"
      },
      "source": [
        "real_image_path ='/content/S0-real_images/Real_Images'\n",
        "fake_image_path ='/content/S1-Fake_Digits/Fake_Digits'\n",
        "\n",
        "# get data set to the runtime\n",
        "\n",
        "train_data=datasets.ImageFolder(\n",
        "    root=real_image_path,\n",
        "    transform=transforms.Compose([transforms.Grayscale(),transforms.ToTensor()])\n",
        ")\n",
        "\n",
        "\n",
        "test_data=datasets.ImageFolder(\n",
        "    root=fake_image_path,\n",
        "    transform=transforms.Compose([transforms.Grayscale(),transforms.ToTensor()])\n",
        ")"
      ],
      "execution_count": 17,
      "outputs": []
    },
    {
      "cell_type": "code",
      "metadata": {
        "colab": {
          "base_uri": "https://localhost:8080/"
        },
        "id": "-AwbcZftJFUj",
        "outputId": "1b8a1318-e87f-4695-9ca7-a123928a7824"
      },
      "source": [
        "from torch.utils.data import DataLoader\n",
        "loaders = {\n",
        "    'S0' : torch.utils.data.DataLoader(train_data, \n",
        "                                          batch_size=100, \n",
        "                                          shuffle=True, \n",
        "                                          num_workers=1),\n",
        "    \n",
        "    'S1'  : torch.utils.data.DataLoader(test_data, \n",
        "                                          batch_size=100, \n",
        "                                          shuffle=True, \n",
        "                                          num_workers=1),\n",
        "}\n",
        "loaders"
      ],
      "execution_count": 18,
      "outputs": [
        {
          "output_type": "execute_result",
          "data": {
            "text/plain": [
              "{'S0': <torch.utils.data.dataloader.DataLoader at 0x7f9cfc07b4d0>,\n",
              " 'S1': <torch.utils.data.dataloader.DataLoader at 0x7f9cfc07bd10>}"
            ]
          },
          "metadata": {
            "tags": []
          },
          "execution_count": 18
        }
      ]
    },
    {
      "cell_type": "markdown",
      "metadata": {
        "id": "FdTuUYfKLAWx"
      },
      "source": [
        "# Define Classifier"
      ]
    },
    {
      "cell_type": "code",
      "metadata": {
        "id": "NygG3dL0JJKH"
      },
      "source": [
        "class CNN(nn.Module):\n",
        "    def __init__(self):\n",
        "        super(CNN, self).__init__()\n",
        "        self.conv1 = nn.Sequential(         \n",
        "            nn.Conv2d(\n",
        "                in_channels=1,              \n",
        "                out_channels=36,  #16          \n",
        "                kernel_size=5,              \n",
        "                stride=1,                   \n",
        "                padding=2,                  \n",
        "            ),                              \n",
        "            nn.ReLU(),                      \n",
        "            nn.MaxPool2d(kernel_size=2),    \n",
        "        )\n",
        "        self.conv2 = nn.Sequential(         \n",
        "            nn.Conv2d(36, 32, 5, 1, 2),     \n",
        "            nn.ReLU(),                      \n",
        "            nn.MaxPool2d(2),                \n",
        "        )\n",
        "        # fully connected layer, output 10 classes\n",
        "        self.out = nn.Linear(32 * 7 * 7, 10)\n",
        "\n",
        "        \n",
        "    def forward(self, x):\n",
        "        x = self.conv1(x)\n",
        "        x = self.conv2(x)\n",
        "        # flatten the output of conv2 to (batch_size, 32 * 7 * 7)\n",
        "        x = x.view(x.size(0), -1)       \n",
        "        output = self.out(x)\n",
        "        return output, x    # return x for visualization"
      ],
      "execution_count": 19,
      "outputs": []
    },
    {
      "cell_type": "code",
      "metadata": {
        "colab": {
          "base_uri": "https://localhost:8080/"
        },
        "id": "tkLwhxlQJMjs",
        "outputId": "6c837e05-cb81-43dd-e875-01dd909f5366"
      },
      "source": [
        "cnn=CNN()\n",
        "print(cnn)"
      ],
      "execution_count": 20,
      "outputs": [
        {
          "output_type": "stream",
          "text": [
            "CNN(\n",
            "  (conv1): Sequential(\n",
            "    (0): Conv2d(1, 36, kernel_size=(5, 5), stride=(1, 1), padding=(2, 2))\n",
            "    (1): ReLU()\n",
            "    (2): MaxPool2d(kernel_size=2, stride=2, padding=0, dilation=1, ceil_mode=False)\n",
            "  )\n",
            "  (conv2): Sequential(\n",
            "    (0): Conv2d(36, 32, kernel_size=(5, 5), stride=(1, 1), padding=(2, 2))\n",
            "    (1): ReLU()\n",
            "    (2): MaxPool2d(kernel_size=2, stride=2, padding=0, dilation=1, ceil_mode=False)\n",
            "  )\n",
            "  (out): Linear(in_features=1568, out_features=10, bias=True)\n",
            ")\n"
          ],
          "name": "stdout"
        }
      ]
    },
    {
      "cell_type": "code",
      "metadata": {
        "colab": {
          "base_uri": "https://localhost:8080/"
        },
        "id": "h5LSPSHTJPDo",
        "outputId": "2676ed07-7dac-48bb-92a2-b1aa1a530007"
      },
      "source": [
        "#define loss function for classifier\n",
        "loss_func = nn.CrossEntropyLoss()\n",
        "loss_func"
      ],
      "execution_count": 21,
      "outputs": [
        {
          "output_type": "execute_result",
          "data": {
            "text/plain": [
              "CrossEntropyLoss()"
            ]
          },
          "metadata": {
            "tags": []
          },
          "execution_count": 21
        }
      ]
    },
    {
      "cell_type": "code",
      "metadata": {
        "colab": {
          "base_uri": "https://localhost:8080/"
        },
        "id": "z-bqUlDoJRT0",
        "outputId": "6deb360a-f393-4a1f-8794-1237f88c026d"
      },
      "source": [
        "# define optimizer for classifier\n",
        "optimizer = optim.Adam(cnn.parameters(), lr=0.01)\n",
        "optimizer"
      ],
      "execution_count": 22,
      "outputs": [
        {
          "output_type": "execute_result",
          "data": {
            "text/plain": [
              "Adam (\n",
              "Parameter Group 0\n",
              "    amsgrad: False\n",
              "    betas: (0.9, 0.999)\n",
              "    eps: 1e-08\n",
              "    lr: 0.01\n",
              "    weight_decay: 0\n",
              ")"
            ]
          },
          "metadata": {
            "tags": []
          },
          "execution_count": 22
        }
      ]
    },
    {
      "cell_type": "markdown",
      "metadata": {
        "id": "rga_LBh3JV-_"
      },
      "source": [
        "# Train the Classifier"
      ]
    },
    {
      "cell_type": "code",
      "metadata": {
        "colab": {
          "base_uri": "https://localhost:8080/"
        },
        "id": "xjWkCwTVJUpN",
        "outputId": "f3f7a9ca-5f79-4569-a957-78d0d8edbf08"
      },
      "source": [
        "num_epochs = 10\n",
        "\n",
        "#Remember to run on GPU\n",
        "\n",
        "def train(num_epochs, cnn, loaders):\n",
        "    \n",
        "    cnn.train()\n",
        "        \n",
        "    # Train the model\n",
        "    total_step = len(loaders['S0'])\n",
        "        \n",
        "    for epoch in range(num_epochs):\n",
        "        for i, (images, labels) in enumerate(loaders['S0']):\n",
        "            \n",
        "            # gives batch data, normalize x when iterate train_loader\n",
        "            b_x = Variable(images)   # batch x\n",
        "            b_y = Variable(labels)   # batch y\n",
        "            output = cnn(b_x)[0]               \n",
        "            loss = loss_func(output, b_y)\n",
        "            \n",
        "            # clear gradients for this training step   \n",
        "            optimizer.zero_grad()           \n",
        "            \n",
        "            # backpropagation, compute gradients \n",
        "            loss.backward()    \n",
        "            # apply gradients             \n",
        "            optimizer.step()                \n",
        "            \n",
        "            \n",
        "            print ('Epoch [{}/{}], Step [{}/{}], Loss: {:.4f}'.format(epoch + 1, num_epochs, i + 1, total_step, loss.item()))\n",
        "            pass\n",
        "        pass\n",
        "    pass\n",
        "\n",
        "train(num_epochs, cnn, loaders)"
      ],
      "execution_count": 24,
      "outputs": [
        {
          "output_type": "stream",
          "text": [
            "Epoch [1/10], Step [1/1], Loss: 0.1353\n",
            "Epoch [2/10], Step [1/1], Loss: 0.0601\n",
            "Epoch [3/10], Step [1/1], Loss: 0.0509\n",
            "Epoch [4/10], Step [1/1], Loss: 0.0472\n",
            "Epoch [5/10], Step [1/1], Loss: 0.0137\n",
            "Epoch [6/10], Step [1/1], Loss: 0.0025\n",
            "Epoch [7/10], Step [1/1], Loss: 0.0042\n",
            "Epoch [8/10], Step [1/1], Loss: 0.0067\n",
            "Epoch [9/10], Step [1/1], Loss: 0.0039\n",
            "Epoch [10/10], Step [1/1], Loss: 0.0005\n"
          ],
          "name": "stdout"
        }
      ]
    },
    {
      "cell_type": "code",
      "metadata": {
        "colab": {
          "base_uri": "https://localhost:8080/",
          "height": 17
        },
        "id": "nzzDO-xUa93K",
        "outputId": "da46bc88-9ff1-4a83-dee6-56eb3269fba3"
      },
      "source": [
        "# Save the Classifier\n",
        "with open('C.pkl', 'wb') as f:\n",
        "    pkl.dump(cnn, f)\n",
        "\n",
        "\n",
        "# download files into the local machine\n",
        "files.download('C.pkl')"
      ],
      "execution_count": 28,
      "outputs": [
        {
          "output_type": "display_data",
          "data": {
            "application/javascript": [
              "\n",
              "    async function download(id, filename, size) {\n",
              "      if (!google.colab.kernel.accessAllowed) {\n",
              "        return;\n",
              "      }\n",
              "      const div = document.createElement('div');\n",
              "      const label = document.createElement('label');\n",
              "      label.textContent = `Downloading \"${filename}\": `;\n",
              "      div.appendChild(label);\n",
              "      const progress = document.createElement('progress');\n",
              "      progress.max = size;\n",
              "      div.appendChild(progress);\n",
              "      document.body.appendChild(div);\n",
              "\n",
              "      const buffers = [];\n",
              "      let downloaded = 0;\n",
              "\n",
              "      const channel = await google.colab.kernel.comms.open(id);\n",
              "      // Send a message to notify the kernel that we're ready.\n",
              "      channel.send({})\n",
              "\n",
              "      for await (const message of channel.messages) {\n",
              "        // Send a message to notify the kernel that we're ready.\n",
              "        channel.send({})\n",
              "        if (message.buffers) {\n",
              "          for (const buffer of message.buffers) {\n",
              "            buffers.push(buffer);\n",
              "            downloaded += buffer.byteLength;\n",
              "            progress.value = downloaded;\n",
              "          }\n",
              "        }\n",
              "      }\n",
              "      const blob = new Blob(buffers, {type: 'application/binary'});\n",
              "      const a = document.createElement('a');\n",
              "      a.href = window.URL.createObjectURL(blob);\n",
              "      a.download = filename;\n",
              "      div.appendChild(a);\n",
              "      a.click();\n",
              "      div.remove();\n",
              "    }\n",
              "  "
            ],
            "text/plain": [
              "<IPython.core.display.Javascript object>"
            ]
          },
          "metadata": {
            "tags": []
          }
        },
        {
          "output_type": "display_data",
          "data": {
            "application/javascript": [
              "download(\"download_d4fc4acf-dcfb-4ac7-bb1e-e0e6937cfb1e\", \"C.pkl\", 185847)"
            ],
            "text/plain": [
              "<IPython.core.display.Javascript object>"
            ]
          },
          "metadata": {
            "tags": []
          }
        }
      ]
    },
    {
      "cell_type": "markdown",
      "metadata": {
        "id": "FJ49lWofKNWI"
      },
      "source": [
        "# Testing accuracy of the Classifier model"
      ]
    },
    {
      "cell_type": "code",
      "metadata": {
        "colab": {
          "base_uri": "https://localhost:8080/"
        },
        "id": "V21OUBXvJiUe",
        "outputId": "b8d8599d-f5c4-4aa7-ccb8-e3396a200002"
      },
      "source": [
        "def test():\n",
        "  cnn.eval()\n",
        "  with torch.no_grad():\n",
        "    correct=0\n",
        "    total=0\n",
        "    for images, labels in loaders['S1']:\n",
        "      test_output,last_layer=cnn(images)\n",
        "      pred_y=torch.max(test_output,1)[1].data.squeeze()\n",
        "      accuracy=(pred_y==labels).sum().item()/float(labels.size(0))\n",
        "      pass\n",
        "    print('Test Acc %.2f' % accuracy)\n",
        "    pass\n",
        "\n",
        "\n",
        "test()"
      ],
      "execution_count": 25,
      "outputs": [
        {
          "output_type": "stream",
          "text": [
            "Test Acc 0.83\n"
          ],
          "name": "stdout"
        }
      ]
    },
    {
      "cell_type": "markdown",
      "metadata": {
        "id": "IteoW63sKh2B"
      },
      "source": [
        "# Print prediction and actual numbers"
      ]
    },
    {
      "cell_type": "code",
      "metadata": {
        "colab": {
          "base_uri": "https://localhost:8080/"
        },
        "id": "INJy75_AJkXr",
        "outputId": "7c15e1d5-157b-466b-f51b-656e5f146e47"
      },
      "source": [
        "sample = next(iter(loaders['S1']))\n",
        "imgs, lbls = sample\n",
        "actual_number = lbls[:100].numpy()\n",
        "test_output,last_layer=cnn(imgs[:100])\n",
        "pred_y=torch.max(test_output,1)[1].data.numpy().squeeze()\n",
        "\n",
        "print(f'Prediction number {pred_y}')\n",
        "print(f'Actual number {actual_number}')"
      ],
      "execution_count": 27,
      "outputs": [
        {
          "output_type": "stream",
          "text": [
            "Prediction number [3 0 1 0 6 6 7 0 9 3 3 9 3 3 1 9 3 3 9 9 3 5 7 0 2 6 9 9 7 0 6 9 6 3 3 9 2\n",
            " 9 9 3 3 3 3 0 9 1 1 3 1 0 3 6 3 7 9 6 7 8 5 4 0 9 9 3 3 0 3 3 6]\n",
            "Actual number [3 0 1 0 6 6 7 0 9 3 3 4 8 8 1 4 3 3 9 9 8 5 7 0 2 6 9 9 7 0 6 9 6 3 3 8 1\n",
            " 7 9 3 3 3 3 0 9 1 1 3 1 0 8 6 8 7 9 6 7 8 5 4 0 9 9 5 3 0 3 8 6]\n"
          ],
          "name": "stdout"
        }
      ]
    }
  ]
}