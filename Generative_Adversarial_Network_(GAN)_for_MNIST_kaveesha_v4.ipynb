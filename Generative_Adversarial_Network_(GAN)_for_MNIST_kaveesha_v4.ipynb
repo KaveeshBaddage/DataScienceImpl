{
  "nbformat": 4,
  "nbformat_minor": 0,
  "metadata": {
    "accelerator": "GPU",
    "colab": {
      "name": "Generative Adversarial Network (GAN) for MNIST kaveesha v4",
      "provenance": [],
      "collapsed_sections": [],
      "mount_file_id": "1VRjAHFg38VRXh4FA4qkuzBH_MLd0geJ3",
      "authorship_tag": "ABX9TyPnrsc0IPMkr5lznuOJM4BO",
      "include_colab_link": true
    },
    "kernelspec": {
      "display_name": "Python 3",
      "name": "python3"
    },
    "language_info": {
      "name": "python"
    },
    "widgets": {
      "application/vnd.jupyter.widget-state+json": {
        "f13c40583240402980b71cc60d8a334e": {
          "model_module": "@jupyter-widgets/controls",
          "model_name": "HBoxModel",
          "state": {
            "_view_name": "HBoxView",
            "_dom_classes": [],
            "_model_name": "HBoxModel",
            "_view_module": "@jupyter-widgets/controls",
            "_model_module_version": "1.5.0",
            "_view_count": null,
            "_view_module_version": "1.5.0",
            "box_style": "",
            "layout": "IPY_MODEL_b16be377a1ed413fa058175b2cbf81a4",
            "_model_module": "@jupyter-widgets/controls",
            "children": [
              "IPY_MODEL_a559172cc6144947afb9015dbb62b742",
              "IPY_MODEL_e20c89ee2c9c474da1f47da15586e410"
            ]
          }
        },
        "b16be377a1ed413fa058175b2cbf81a4": {
          "model_module": "@jupyter-widgets/base",
          "model_name": "LayoutModel",
          "state": {
            "_view_name": "LayoutView",
            "grid_template_rows": null,
            "right": null,
            "justify_content": null,
            "_view_module": "@jupyter-widgets/base",
            "overflow": null,
            "_model_module_version": "1.2.0",
            "_view_count": null,
            "flex_flow": null,
            "width": null,
            "min_width": null,
            "border": null,
            "align_items": null,
            "bottom": null,
            "_model_module": "@jupyter-widgets/base",
            "top": null,
            "grid_column": null,
            "overflow_y": null,
            "overflow_x": null,
            "grid_auto_flow": null,
            "grid_area": null,
            "grid_template_columns": null,
            "flex": null,
            "_model_name": "LayoutModel",
            "justify_items": null,
            "grid_row": null,
            "max_height": null,
            "align_content": null,
            "visibility": null,
            "align_self": null,
            "height": null,
            "min_height": null,
            "padding": null,
            "grid_auto_rows": null,
            "grid_gap": null,
            "max_width": null,
            "order": null,
            "_view_module_version": "1.2.0",
            "grid_template_areas": null,
            "object_position": null,
            "object_fit": null,
            "grid_auto_columns": null,
            "margin": null,
            "display": null,
            "left": null
          }
        },
        "a559172cc6144947afb9015dbb62b742": {
          "model_module": "@jupyter-widgets/controls",
          "model_name": "FloatProgressModel",
          "state": {
            "_view_name": "ProgressView",
            "style": "IPY_MODEL_e3230b5aed394b58af7bb676a015696f",
            "_dom_classes": [],
            "description": "",
            "_model_name": "FloatProgressModel",
            "bar_style": "success",
            "max": 9912422,
            "_view_module": "@jupyter-widgets/controls",
            "_model_module_version": "1.5.0",
            "value": 9912422,
            "_view_count": null,
            "_view_module_version": "1.5.0",
            "orientation": "horizontal",
            "min": 0,
            "description_tooltip": null,
            "_model_module": "@jupyter-widgets/controls",
            "layout": "IPY_MODEL_478617b62c3142c89ccf7d56a84e465c"
          }
        },
        "e20c89ee2c9c474da1f47da15586e410": {
          "model_module": "@jupyter-widgets/controls",
          "model_name": "HTMLModel",
          "state": {
            "_view_name": "HTMLView",
            "style": "IPY_MODEL_8add3b0a26a2422fa40b7696aed1e3a1",
            "_dom_classes": [],
            "description": "",
            "_model_name": "HTMLModel",
            "placeholder": "​",
            "_view_module": "@jupyter-widgets/controls",
            "_model_module_version": "1.5.0",
            "value": " 9913344/? [44:01&lt;00:00, 3752.32it/s]",
            "_view_count": null,
            "_view_module_version": "1.5.0",
            "description_tooltip": null,
            "_model_module": "@jupyter-widgets/controls",
            "layout": "IPY_MODEL_e482b66f738c4c54adf1d5997b22b720"
          }
        },
        "e3230b5aed394b58af7bb676a015696f": {
          "model_module": "@jupyter-widgets/controls",
          "model_name": "ProgressStyleModel",
          "state": {
            "_view_name": "StyleView",
            "_model_name": "ProgressStyleModel",
            "description_width": "initial",
            "_view_module": "@jupyter-widgets/base",
            "_model_module_version": "1.5.0",
            "_view_count": null,
            "_view_module_version": "1.2.0",
            "bar_color": null,
            "_model_module": "@jupyter-widgets/controls"
          }
        },
        "478617b62c3142c89ccf7d56a84e465c": {
          "model_module": "@jupyter-widgets/base",
          "model_name": "LayoutModel",
          "state": {
            "_view_name": "LayoutView",
            "grid_template_rows": null,
            "right": null,
            "justify_content": null,
            "_view_module": "@jupyter-widgets/base",
            "overflow": null,
            "_model_module_version": "1.2.0",
            "_view_count": null,
            "flex_flow": null,
            "width": null,
            "min_width": null,
            "border": null,
            "align_items": null,
            "bottom": null,
            "_model_module": "@jupyter-widgets/base",
            "top": null,
            "grid_column": null,
            "overflow_y": null,
            "overflow_x": null,
            "grid_auto_flow": null,
            "grid_area": null,
            "grid_template_columns": null,
            "flex": null,
            "_model_name": "LayoutModel",
            "justify_items": null,
            "grid_row": null,
            "max_height": null,
            "align_content": null,
            "visibility": null,
            "align_self": null,
            "height": null,
            "min_height": null,
            "padding": null,
            "grid_auto_rows": null,
            "grid_gap": null,
            "max_width": null,
            "order": null,
            "_view_module_version": "1.2.0",
            "grid_template_areas": null,
            "object_position": null,
            "object_fit": null,
            "grid_auto_columns": null,
            "margin": null,
            "display": null,
            "left": null
          }
        },
        "8add3b0a26a2422fa40b7696aed1e3a1": {
          "model_module": "@jupyter-widgets/controls",
          "model_name": "DescriptionStyleModel",
          "state": {
            "_view_name": "StyleView",
            "_model_name": "DescriptionStyleModel",
            "description_width": "",
            "_view_module": "@jupyter-widgets/base",
            "_model_module_version": "1.5.0",
            "_view_count": null,
            "_view_module_version": "1.2.0",
            "_model_module": "@jupyter-widgets/controls"
          }
        },
        "e482b66f738c4c54adf1d5997b22b720": {
          "model_module": "@jupyter-widgets/base",
          "model_name": "LayoutModel",
          "state": {
            "_view_name": "LayoutView",
            "grid_template_rows": null,
            "right": null,
            "justify_content": null,
            "_view_module": "@jupyter-widgets/base",
            "overflow": null,
            "_model_module_version": "1.2.0",
            "_view_count": null,
            "flex_flow": null,
            "width": null,
            "min_width": null,
            "border": null,
            "align_items": null,
            "bottom": null,
            "_model_module": "@jupyter-widgets/base",
            "top": null,
            "grid_column": null,
            "overflow_y": null,
            "overflow_x": null,
            "grid_auto_flow": null,
            "grid_area": null,
            "grid_template_columns": null,
            "flex": null,
            "_model_name": "LayoutModel",
            "justify_items": null,
            "grid_row": null,
            "max_height": null,
            "align_content": null,
            "visibility": null,
            "align_self": null,
            "height": null,
            "min_height": null,
            "padding": null,
            "grid_auto_rows": null,
            "grid_gap": null,
            "max_width": null,
            "order": null,
            "_view_module_version": "1.2.0",
            "grid_template_areas": null,
            "object_position": null,
            "object_fit": null,
            "grid_auto_columns": null,
            "margin": null,
            "display": null,
            "left": null
          }
        },
        "50aa94a8b8ba4ce186df83687ec6cd00": {
          "model_module": "@jupyter-widgets/controls",
          "model_name": "HBoxModel",
          "state": {
            "_view_name": "HBoxView",
            "_dom_classes": [],
            "_model_name": "HBoxModel",
            "_view_module": "@jupyter-widgets/controls",
            "_model_module_version": "1.5.0",
            "_view_count": null,
            "_view_module_version": "1.5.0",
            "box_style": "",
            "layout": "IPY_MODEL_75bc0a306c624607b10f14e57cc704ef",
            "_model_module": "@jupyter-widgets/controls",
            "children": [
              "IPY_MODEL_294fc9cb5a564276b1f7b5bcd773f09b",
              "IPY_MODEL_f0da73d6d1cf45b588d356c1c7c64479"
            ]
          }
        },
        "75bc0a306c624607b10f14e57cc704ef": {
          "model_module": "@jupyter-widgets/base",
          "model_name": "LayoutModel",
          "state": {
            "_view_name": "LayoutView",
            "grid_template_rows": null,
            "right": null,
            "justify_content": null,
            "_view_module": "@jupyter-widgets/base",
            "overflow": null,
            "_model_module_version": "1.2.0",
            "_view_count": null,
            "flex_flow": null,
            "width": null,
            "min_width": null,
            "border": null,
            "align_items": null,
            "bottom": null,
            "_model_module": "@jupyter-widgets/base",
            "top": null,
            "grid_column": null,
            "overflow_y": null,
            "overflow_x": null,
            "grid_auto_flow": null,
            "grid_area": null,
            "grid_template_columns": null,
            "flex": null,
            "_model_name": "LayoutModel",
            "justify_items": null,
            "grid_row": null,
            "max_height": null,
            "align_content": null,
            "visibility": null,
            "align_self": null,
            "height": null,
            "min_height": null,
            "padding": null,
            "grid_auto_rows": null,
            "grid_gap": null,
            "max_width": null,
            "order": null,
            "_view_module_version": "1.2.0",
            "grid_template_areas": null,
            "object_position": null,
            "object_fit": null,
            "grid_auto_columns": null,
            "margin": null,
            "display": null,
            "left": null
          }
        },
        "294fc9cb5a564276b1f7b5bcd773f09b": {
          "model_module": "@jupyter-widgets/controls",
          "model_name": "FloatProgressModel",
          "state": {
            "_view_name": "ProgressView",
            "style": "IPY_MODEL_c3eec2a6c647481b8ef10075e895de1d",
            "_dom_classes": [],
            "description": "",
            "_model_name": "FloatProgressModel",
            "bar_style": "success",
            "max": 28881,
            "_view_module": "@jupyter-widgets/controls",
            "_model_module_version": "1.5.0",
            "value": 28881,
            "_view_count": null,
            "_view_module_version": "1.5.0",
            "orientation": "horizontal",
            "min": 0,
            "description_tooltip": null,
            "_model_module": "@jupyter-widgets/controls",
            "layout": "IPY_MODEL_cf6a221810ad45d99dacf95bfcb1dc56"
          }
        },
        "f0da73d6d1cf45b588d356c1c7c64479": {
          "model_module": "@jupyter-widgets/controls",
          "model_name": "HTMLModel",
          "state": {
            "_view_name": "HTMLView",
            "style": "IPY_MODEL_9461c19aad874dfd855294e8d1f44c34",
            "_dom_classes": [],
            "description": "",
            "_model_name": "HTMLModel",
            "placeholder": "​",
            "_view_module": "@jupyter-widgets/controls",
            "_model_module_version": "1.5.0",
            "value": " 29696/? [00:01&lt;00:00, 29494.01it/s]",
            "_view_count": null,
            "_view_module_version": "1.5.0",
            "description_tooltip": null,
            "_model_module": "@jupyter-widgets/controls",
            "layout": "IPY_MODEL_500e5baa638c4a5abe3d010b6fe09ba0"
          }
        },
        "c3eec2a6c647481b8ef10075e895de1d": {
          "model_module": "@jupyter-widgets/controls",
          "model_name": "ProgressStyleModel",
          "state": {
            "_view_name": "StyleView",
            "_model_name": "ProgressStyleModel",
            "description_width": "initial",
            "_view_module": "@jupyter-widgets/base",
            "_model_module_version": "1.5.0",
            "_view_count": null,
            "_view_module_version": "1.2.0",
            "bar_color": null,
            "_model_module": "@jupyter-widgets/controls"
          }
        },
        "cf6a221810ad45d99dacf95bfcb1dc56": {
          "model_module": "@jupyter-widgets/base",
          "model_name": "LayoutModel",
          "state": {
            "_view_name": "LayoutView",
            "grid_template_rows": null,
            "right": null,
            "justify_content": null,
            "_view_module": "@jupyter-widgets/base",
            "overflow": null,
            "_model_module_version": "1.2.0",
            "_view_count": null,
            "flex_flow": null,
            "width": null,
            "min_width": null,
            "border": null,
            "align_items": null,
            "bottom": null,
            "_model_module": "@jupyter-widgets/base",
            "top": null,
            "grid_column": null,
            "overflow_y": null,
            "overflow_x": null,
            "grid_auto_flow": null,
            "grid_area": null,
            "grid_template_columns": null,
            "flex": null,
            "_model_name": "LayoutModel",
            "justify_items": null,
            "grid_row": null,
            "max_height": null,
            "align_content": null,
            "visibility": null,
            "align_self": null,
            "height": null,
            "min_height": null,
            "padding": null,
            "grid_auto_rows": null,
            "grid_gap": null,
            "max_width": null,
            "order": null,
            "_view_module_version": "1.2.0",
            "grid_template_areas": null,
            "object_position": null,
            "object_fit": null,
            "grid_auto_columns": null,
            "margin": null,
            "display": null,
            "left": null
          }
        },
        "9461c19aad874dfd855294e8d1f44c34": {
          "model_module": "@jupyter-widgets/controls",
          "model_name": "DescriptionStyleModel",
          "state": {
            "_view_name": "StyleView",
            "_model_name": "DescriptionStyleModel",
            "description_width": "",
            "_view_module": "@jupyter-widgets/base",
            "_model_module_version": "1.5.0",
            "_view_count": null,
            "_view_module_version": "1.2.0",
            "_model_module": "@jupyter-widgets/controls"
          }
        },
        "500e5baa638c4a5abe3d010b6fe09ba0": {
          "model_module": "@jupyter-widgets/base",
          "model_name": "LayoutModel",
          "state": {
            "_view_name": "LayoutView",
            "grid_template_rows": null,
            "right": null,
            "justify_content": null,
            "_view_module": "@jupyter-widgets/base",
            "overflow": null,
            "_model_module_version": "1.2.0",
            "_view_count": null,
            "flex_flow": null,
            "width": null,
            "min_width": null,
            "border": null,
            "align_items": null,
            "bottom": null,
            "_model_module": "@jupyter-widgets/base",
            "top": null,
            "grid_column": null,
            "overflow_y": null,
            "overflow_x": null,
            "grid_auto_flow": null,
            "grid_area": null,
            "grid_template_columns": null,
            "flex": null,
            "_model_name": "LayoutModel",
            "justify_items": null,
            "grid_row": null,
            "max_height": null,
            "align_content": null,
            "visibility": null,
            "align_self": null,
            "height": null,
            "min_height": null,
            "padding": null,
            "grid_auto_rows": null,
            "grid_gap": null,
            "max_width": null,
            "order": null,
            "_view_module_version": "1.2.0",
            "grid_template_areas": null,
            "object_position": null,
            "object_fit": null,
            "grid_auto_columns": null,
            "margin": null,
            "display": null,
            "left": null
          }
        },
        "2b663f648d4148c69b6c1fa4ff7eb7a9": {
          "model_module": "@jupyter-widgets/controls",
          "model_name": "HBoxModel",
          "state": {
            "_view_name": "HBoxView",
            "_dom_classes": [],
            "_model_name": "HBoxModel",
            "_view_module": "@jupyter-widgets/controls",
            "_model_module_version": "1.5.0",
            "_view_count": null,
            "_view_module_version": "1.5.0",
            "box_style": "",
            "layout": "IPY_MODEL_d8dc120445d945658ab81b331d1b0f4b",
            "_model_module": "@jupyter-widgets/controls",
            "children": [
              "IPY_MODEL_02c7d43c11214f98a6d31c4d3ed11f3c",
              "IPY_MODEL_56356a2a0e924d6b85e70036766711cd"
            ]
          }
        },
        "d8dc120445d945658ab81b331d1b0f4b": {
          "model_module": "@jupyter-widgets/base",
          "model_name": "LayoutModel",
          "state": {
            "_view_name": "LayoutView",
            "grid_template_rows": null,
            "right": null,
            "justify_content": null,
            "_view_module": "@jupyter-widgets/base",
            "overflow": null,
            "_model_module_version": "1.2.0",
            "_view_count": null,
            "flex_flow": null,
            "width": null,
            "min_width": null,
            "border": null,
            "align_items": null,
            "bottom": null,
            "_model_module": "@jupyter-widgets/base",
            "top": null,
            "grid_column": null,
            "overflow_y": null,
            "overflow_x": null,
            "grid_auto_flow": null,
            "grid_area": null,
            "grid_template_columns": null,
            "flex": null,
            "_model_name": "LayoutModel",
            "justify_items": null,
            "grid_row": null,
            "max_height": null,
            "align_content": null,
            "visibility": null,
            "align_self": null,
            "height": null,
            "min_height": null,
            "padding": null,
            "grid_auto_rows": null,
            "grid_gap": null,
            "max_width": null,
            "order": null,
            "_view_module_version": "1.2.0",
            "grid_template_areas": null,
            "object_position": null,
            "object_fit": null,
            "grid_auto_columns": null,
            "margin": null,
            "display": null,
            "left": null
          }
        },
        "02c7d43c11214f98a6d31c4d3ed11f3c": {
          "model_module": "@jupyter-widgets/controls",
          "model_name": "FloatProgressModel",
          "state": {
            "_view_name": "ProgressView",
            "style": "IPY_MODEL_0c6589bd827144dc9df631c62f854912",
            "_dom_classes": [],
            "description": "",
            "_model_name": "FloatProgressModel",
            "bar_style": "success",
            "max": 1648877,
            "_view_module": "@jupyter-widgets/controls",
            "_model_module_version": "1.5.0",
            "value": 1648877,
            "_view_count": null,
            "_view_module_version": "1.5.0",
            "orientation": "horizontal",
            "min": 0,
            "description_tooltip": null,
            "_model_module": "@jupyter-widgets/controls",
            "layout": "IPY_MODEL_e3977b1618474fc6828f3ae61bdd53cd"
          }
        },
        "56356a2a0e924d6b85e70036766711cd": {
          "model_module": "@jupyter-widgets/controls",
          "model_name": "HTMLModel",
          "state": {
            "_view_name": "HTMLView",
            "style": "IPY_MODEL_fccd5d241cf24aff9b4e86f86aa5e16d",
            "_dom_classes": [],
            "description": "",
            "_model_name": "HTMLModel",
            "placeholder": "​",
            "_view_module": "@jupyter-widgets/controls",
            "_model_module_version": "1.5.0",
            "value": " 1649664/? [39:57&lt;00:00, 688.09it/s]",
            "_view_count": null,
            "_view_module_version": "1.5.0",
            "description_tooltip": null,
            "_model_module": "@jupyter-widgets/controls",
            "layout": "IPY_MODEL_6d14a59eef034e71a4fbe94d2a6aab84"
          }
        },
        "0c6589bd827144dc9df631c62f854912": {
          "model_module": "@jupyter-widgets/controls",
          "model_name": "ProgressStyleModel",
          "state": {
            "_view_name": "StyleView",
            "_model_name": "ProgressStyleModel",
            "description_width": "initial",
            "_view_module": "@jupyter-widgets/base",
            "_model_module_version": "1.5.0",
            "_view_count": null,
            "_view_module_version": "1.2.0",
            "bar_color": null,
            "_model_module": "@jupyter-widgets/controls"
          }
        },
        "e3977b1618474fc6828f3ae61bdd53cd": {
          "model_module": "@jupyter-widgets/base",
          "model_name": "LayoutModel",
          "state": {
            "_view_name": "LayoutView",
            "grid_template_rows": null,
            "right": null,
            "justify_content": null,
            "_view_module": "@jupyter-widgets/base",
            "overflow": null,
            "_model_module_version": "1.2.0",
            "_view_count": null,
            "flex_flow": null,
            "width": null,
            "min_width": null,
            "border": null,
            "align_items": null,
            "bottom": null,
            "_model_module": "@jupyter-widgets/base",
            "top": null,
            "grid_column": null,
            "overflow_y": null,
            "overflow_x": null,
            "grid_auto_flow": null,
            "grid_area": null,
            "grid_template_columns": null,
            "flex": null,
            "_model_name": "LayoutModel",
            "justify_items": null,
            "grid_row": null,
            "max_height": null,
            "align_content": null,
            "visibility": null,
            "align_self": null,
            "height": null,
            "min_height": null,
            "padding": null,
            "grid_auto_rows": null,
            "grid_gap": null,
            "max_width": null,
            "order": null,
            "_view_module_version": "1.2.0",
            "grid_template_areas": null,
            "object_position": null,
            "object_fit": null,
            "grid_auto_columns": null,
            "margin": null,
            "display": null,
            "left": null
          }
        },
        "fccd5d241cf24aff9b4e86f86aa5e16d": {
          "model_module": "@jupyter-widgets/controls",
          "model_name": "DescriptionStyleModel",
          "state": {
            "_view_name": "StyleView",
            "_model_name": "DescriptionStyleModel",
            "description_width": "",
            "_view_module": "@jupyter-widgets/base",
            "_model_module_version": "1.5.0",
            "_view_count": null,
            "_view_module_version": "1.2.0",
            "_model_module": "@jupyter-widgets/controls"
          }
        },
        "6d14a59eef034e71a4fbe94d2a6aab84": {
          "model_module": "@jupyter-widgets/base",
          "model_name": "LayoutModel",
          "state": {
            "_view_name": "LayoutView",
            "grid_template_rows": null,
            "right": null,
            "justify_content": null,
            "_view_module": "@jupyter-widgets/base",
            "overflow": null,
            "_model_module_version": "1.2.0",
            "_view_count": null,
            "flex_flow": null,
            "width": null,
            "min_width": null,
            "border": null,
            "align_items": null,
            "bottom": null,
            "_model_module": "@jupyter-widgets/base",
            "top": null,
            "grid_column": null,
            "overflow_y": null,
            "overflow_x": null,
            "grid_auto_flow": null,
            "grid_area": null,
            "grid_template_columns": null,
            "flex": null,
            "_model_name": "LayoutModel",
            "justify_items": null,
            "grid_row": null,
            "max_height": null,
            "align_content": null,
            "visibility": null,
            "align_self": null,
            "height": null,
            "min_height": null,
            "padding": null,
            "grid_auto_rows": null,
            "grid_gap": null,
            "max_width": null,
            "order": null,
            "_view_module_version": "1.2.0",
            "grid_template_areas": null,
            "object_position": null,
            "object_fit": null,
            "grid_auto_columns": null,
            "margin": null,
            "display": null,
            "left": null
          }
        },
        "7b95f02243434c21922b151f7c36420e": {
          "model_module": "@jupyter-widgets/controls",
          "model_name": "HBoxModel",
          "state": {
            "_view_name": "HBoxView",
            "_dom_classes": [],
            "_model_name": "HBoxModel",
            "_view_module": "@jupyter-widgets/controls",
            "_model_module_version": "1.5.0",
            "_view_count": null,
            "_view_module_version": "1.5.0",
            "box_style": "",
            "layout": "IPY_MODEL_826fb4710fe9435eb25892d8ed9f7ba5",
            "_model_module": "@jupyter-widgets/controls",
            "children": [
              "IPY_MODEL_faf0ff32d88a47f39d331f48aca9c879",
              "IPY_MODEL_b5b5a9a7fd86417b92d8176b947749c0"
            ]
          }
        },
        "826fb4710fe9435eb25892d8ed9f7ba5": {
          "model_module": "@jupyter-widgets/base",
          "model_name": "LayoutModel",
          "state": {
            "_view_name": "LayoutView",
            "grid_template_rows": null,
            "right": null,
            "justify_content": null,
            "_view_module": "@jupyter-widgets/base",
            "overflow": null,
            "_model_module_version": "1.2.0",
            "_view_count": null,
            "flex_flow": null,
            "width": null,
            "min_width": null,
            "border": null,
            "align_items": null,
            "bottom": null,
            "_model_module": "@jupyter-widgets/base",
            "top": null,
            "grid_column": null,
            "overflow_y": null,
            "overflow_x": null,
            "grid_auto_flow": null,
            "grid_area": null,
            "grid_template_columns": null,
            "flex": null,
            "_model_name": "LayoutModel",
            "justify_items": null,
            "grid_row": null,
            "max_height": null,
            "align_content": null,
            "visibility": null,
            "align_self": null,
            "height": null,
            "min_height": null,
            "padding": null,
            "grid_auto_rows": null,
            "grid_gap": null,
            "max_width": null,
            "order": null,
            "_view_module_version": "1.2.0",
            "grid_template_areas": null,
            "object_position": null,
            "object_fit": null,
            "grid_auto_columns": null,
            "margin": null,
            "display": null,
            "left": null
          }
        },
        "faf0ff32d88a47f39d331f48aca9c879": {
          "model_module": "@jupyter-widgets/controls",
          "model_name": "FloatProgressModel",
          "state": {
            "_view_name": "ProgressView",
            "style": "IPY_MODEL_a3b12a1586f74f938064ff819a6ddbce",
            "_dom_classes": [],
            "description": "",
            "_model_name": "FloatProgressModel",
            "bar_style": "success",
            "max": 4542,
            "_view_module": "@jupyter-widgets/controls",
            "_model_module_version": "1.5.0",
            "value": 4542,
            "_view_count": null,
            "_view_module_version": "1.5.0",
            "orientation": "horizontal",
            "min": 0,
            "description_tooltip": null,
            "_model_module": "@jupyter-widgets/controls",
            "layout": "IPY_MODEL_84457dcc96b2403291eb7dc1830bc5a1"
          }
        },
        "b5b5a9a7fd86417b92d8176b947749c0": {
          "model_module": "@jupyter-widgets/controls",
          "model_name": "HTMLModel",
          "state": {
            "_view_name": "HTMLView",
            "style": "IPY_MODEL_b1b3f453139e4dd0b1e19f546271d9f8",
            "_dom_classes": [],
            "description": "",
            "_model_name": "HTMLModel",
            "placeholder": "​",
            "_view_module": "@jupyter-widgets/controls",
            "_model_module_version": "1.5.0",
            "value": " 5120/? [00:11&lt;00:00, 437.88it/s]",
            "_view_count": null,
            "_view_module_version": "1.5.0",
            "description_tooltip": null,
            "_model_module": "@jupyter-widgets/controls",
            "layout": "IPY_MODEL_e503470f6d2b450387eaa8c2eee35920"
          }
        },
        "a3b12a1586f74f938064ff819a6ddbce": {
          "model_module": "@jupyter-widgets/controls",
          "model_name": "ProgressStyleModel",
          "state": {
            "_view_name": "StyleView",
            "_model_name": "ProgressStyleModel",
            "description_width": "initial",
            "_view_module": "@jupyter-widgets/base",
            "_model_module_version": "1.5.0",
            "_view_count": null,
            "_view_module_version": "1.2.0",
            "bar_color": null,
            "_model_module": "@jupyter-widgets/controls"
          }
        },
        "84457dcc96b2403291eb7dc1830bc5a1": {
          "model_module": "@jupyter-widgets/base",
          "model_name": "LayoutModel",
          "state": {
            "_view_name": "LayoutView",
            "grid_template_rows": null,
            "right": null,
            "justify_content": null,
            "_view_module": "@jupyter-widgets/base",
            "overflow": null,
            "_model_module_version": "1.2.0",
            "_view_count": null,
            "flex_flow": null,
            "width": null,
            "min_width": null,
            "border": null,
            "align_items": null,
            "bottom": null,
            "_model_module": "@jupyter-widgets/base",
            "top": null,
            "grid_column": null,
            "overflow_y": null,
            "overflow_x": null,
            "grid_auto_flow": null,
            "grid_area": null,
            "grid_template_columns": null,
            "flex": null,
            "_model_name": "LayoutModel",
            "justify_items": null,
            "grid_row": null,
            "max_height": null,
            "align_content": null,
            "visibility": null,
            "align_self": null,
            "height": null,
            "min_height": null,
            "padding": null,
            "grid_auto_rows": null,
            "grid_gap": null,
            "max_width": null,
            "order": null,
            "_view_module_version": "1.2.0",
            "grid_template_areas": null,
            "object_position": null,
            "object_fit": null,
            "grid_auto_columns": null,
            "margin": null,
            "display": null,
            "left": null
          }
        },
        "b1b3f453139e4dd0b1e19f546271d9f8": {
          "model_module": "@jupyter-widgets/controls",
          "model_name": "DescriptionStyleModel",
          "state": {
            "_view_name": "StyleView",
            "_model_name": "DescriptionStyleModel",
            "description_width": "",
            "_view_module": "@jupyter-widgets/base",
            "_model_module_version": "1.5.0",
            "_view_count": null,
            "_view_module_version": "1.2.0",
            "_model_module": "@jupyter-widgets/controls"
          }
        },
        "e503470f6d2b450387eaa8c2eee35920": {
          "model_module": "@jupyter-widgets/base",
          "model_name": "LayoutModel",
          "state": {
            "_view_name": "LayoutView",
            "grid_template_rows": null,
            "right": null,
            "justify_content": null,
            "_view_module": "@jupyter-widgets/base",
            "overflow": null,
            "_model_module_version": "1.2.0",
            "_view_count": null,
            "flex_flow": null,
            "width": null,
            "min_width": null,
            "border": null,
            "align_items": null,
            "bottom": null,
            "_model_module": "@jupyter-widgets/base",
            "top": null,
            "grid_column": null,
            "overflow_y": null,
            "overflow_x": null,
            "grid_auto_flow": null,
            "grid_area": null,
            "grid_template_columns": null,
            "flex": null,
            "_model_name": "LayoutModel",
            "justify_items": null,
            "grid_row": null,
            "max_height": null,
            "align_content": null,
            "visibility": null,
            "align_self": null,
            "height": null,
            "min_height": null,
            "padding": null,
            "grid_auto_rows": null,
            "grid_gap": null,
            "max_width": null,
            "order": null,
            "_view_module_version": "1.2.0",
            "grid_template_areas": null,
            "object_position": null,
            "object_fit": null,
            "grid_auto_columns": null,
            "margin": null,
            "display": null,
            "left": null
          }
        }
      }
    }
  },
  "cells": [
    {
      "cell_type": "markdown",
      "metadata": {
        "id": "view-in-github",
        "colab_type": "text"
      },
      "source": [
        "<a href=\"https://colab.research.google.com/github/KaveeshBaddage/DataScienceImpl/blob/main/Generative_Adversarial_Network_(GAN)_for_MNIST_kaveesha_v4.ipynb\" target=\"_parent\"><img src=\"https://colab.research.google.com/assets/colab-badge.svg\" alt=\"Open In Colab\"/></a>"
      ]
    },
    {
      "cell_type": "markdown",
      "metadata": {
        "id": "O4ttDU6Fu4W7"
      },
      "source": [
        "# Import required libraries"
      ]
    },
    {
      "cell_type": "code",
      "metadata": {
        "id": "-WJ-pykBpiLi"
      },
      "source": [
        "import torch\n",
        "import torch.nn as nn\n",
        "import torch.optim as optim\n",
        "import torch.nn.functional as F\n",
        "from torch.autograd import Variable\n",
        "from torchvision.utils import save_image\n",
        "from torchvision import datasets, transforms\n",
        "\n",
        "import numpy as np\n",
        "\n",
        "# to save Generator, Discriminator\n",
        "import pickle as pkl\n",
        "\n",
        "#to create and download the zipped files\n",
        "import shutil\n",
        "from google.colab import files\n",
        "\n",
        "# Device configuration\n",
        "device = torch.device('cuda' if torch.cuda.is_available() else 'cpu')"
      ],
      "execution_count": 1,
      "outputs": []
    },
    {
      "cell_type": "markdown",
      "metadata": {
        "id": "2tcm_9x51kgx"
      },
      "source": [
        "# Load MNIST train and test data \n"
      ]
    },
    {
      "cell_type": "code",
      "metadata": {
        "colab": {
          "base_uri": "https://localhost:8080/",
          "height": 573,
          "referenced_widgets": [
            "f13c40583240402980b71cc60d8a334e",
            "b16be377a1ed413fa058175b2cbf81a4",
            "a559172cc6144947afb9015dbb62b742",
            "e20c89ee2c9c474da1f47da15586e410",
            "e3230b5aed394b58af7bb676a015696f",
            "478617b62c3142c89ccf7d56a84e465c",
            "8add3b0a26a2422fa40b7696aed1e3a1",
            "e482b66f738c4c54adf1d5997b22b720",
            "50aa94a8b8ba4ce186df83687ec6cd00",
            "75bc0a306c624607b10f14e57cc704ef",
            "294fc9cb5a564276b1f7b5bcd773f09b",
            "f0da73d6d1cf45b588d356c1c7c64479",
            "c3eec2a6c647481b8ef10075e895de1d",
            "cf6a221810ad45d99dacf95bfcb1dc56",
            "9461c19aad874dfd855294e8d1f44c34",
            "500e5baa638c4a5abe3d010b6fe09ba0",
            "2b663f648d4148c69b6c1fa4ff7eb7a9",
            "d8dc120445d945658ab81b331d1b0f4b",
            "02c7d43c11214f98a6d31c4d3ed11f3c",
            "56356a2a0e924d6b85e70036766711cd",
            "0c6589bd827144dc9df631c62f854912",
            "e3977b1618474fc6828f3ae61bdd53cd",
            "fccd5d241cf24aff9b4e86f86aa5e16d",
            "6d14a59eef034e71a4fbe94d2a6aab84",
            "7b95f02243434c21922b151f7c36420e",
            "826fb4710fe9435eb25892d8ed9f7ba5",
            "faf0ff32d88a47f39d331f48aca9c879",
            "b5b5a9a7fd86417b92d8176b947749c0",
            "a3b12a1586f74f938064ff819a6ddbce",
            "84457dcc96b2403291eb7dc1830bc5a1",
            "b1b3f453139e4dd0b1e19f546271d9f8",
            "e503470f6d2b450387eaa8c2eee35920"
          ]
        },
        "id": "WHzfPJrB70VM",
        "outputId": "5dfbf15a-cfaa-4c91-c16b-f0cd6fd466a5"
      },
      "source": [
        "# define the data transformer\n",
        "transform = transforms.Compose([transforms.ToTensor(),\n",
        "  transforms.Normalize((0.5,), (0.5,))\n",
        "])\n",
        "\n",
        "# get train dataset\n",
        "train_dataset = datasets.MNIST(\n",
        "    root='data/',\n",
        "    train=True,\n",
        "    download=True,\n",
        "    transform=transform\n",
        "    )  \n",
        "print(\"train_dataset size ->\",train_dataset.data.size())\n",
        "\n",
        "# Dataset stores the samples and their corresponding labels, and DataLoader wraps an iterable around the Dataset to enable easy access to the samples.\n",
        "train_loader = torch.utils.data.DataLoader(\n",
        "    dataset=train_dataset, \n",
        "    batch_size=100,\n",
        "    shuffle=True\n",
        "    # num_workers=0\n",
        "    )\n",
        "\n",
        "# get test dataset\n",
        "test_dataset = datasets.MNIST(\n",
        "    root='data/', \n",
        "    train=False, \n",
        "    transform=transform\n",
        "    )\n",
        "print(\"test_dataset size ->\",test_dataset.data.size())\n",
        "\n",
        "#DataLoader wraps an iterable around the test_dataset to enable easy access to the samples.\n",
        "test_loader = torch.utils.data.DataLoader(\n",
        "    dataset=test_dataset, \n",
        "    batch_size=100,\n",
        "    # num_workers=0\n",
        "    shuffle=True\n",
        "    )"
      ],
      "execution_count": 3,
      "outputs": [
        {
          "output_type": "stream",
          "text": [
            "Downloading http://yann.lecun.com/exdb/mnist/train-images-idx3-ubyte.gz\n",
            "Downloading http://yann.lecun.com/exdb/mnist/train-images-idx3-ubyte.gz to data/MNIST/raw/train-images-idx3-ubyte.gz\n"
          ],
          "name": "stdout"
        },
        {
          "output_type": "display_data",
          "data": {
            "application/vnd.jupyter.widget-view+json": {
              "model_id": "f13c40583240402980b71cc60d8a334e",
              "version_minor": 0,
              "version_major": 2
            },
            "text/plain": [
              "HBox(children=(FloatProgress(value=0.0, max=9912422.0), HTML(value='')))"
            ]
          },
          "metadata": {
            "tags": []
          }
        },
        {
          "output_type": "stream",
          "text": [
            "\n",
            "Extracting data/MNIST/raw/train-images-idx3-ubyte.gz to data/MNIST/raw\n",
            "\n",
            "Downloading http://yann.lecun.com/exdb/mnist/train-labels-idx1-ubyte.gz\n",
            "Downloading http://yann.lecun.com/exdb/mnist/train-labels-idx1-ubyte.gz to data/MNIST/raw/train-labels-idx1-ubyte.gz\n"
          ],
          "name": "stdout"
        },
        {
          "output_type": "display_data",
          "data": {
            "application/vnd.jupyter.widget-view+json": {
              "model_id": "50aa94a8b8ba4ce186df83687ec6cd00",
              "version_minor": 0,
              "version_major": 2
            },
            "text/plain": [
              "HBox(children=(FloatProgress(value=0.0, max=28881.0), HTML(value='')))"
            ]
          },
          "metadata": {
            "tags": []
          }
        },
        {
          "output_type": "stream",
          "text": [
            "\n",
            "Extracting data/MNIST/raw/train-labels-idx1-ubyte.gz to data/MNIST/raw\n",
            "\n",
            "Downloading http://yann.lecun.com/exdb/mnist/t10k-images-idx3-ubyte.gz\n",
            "Downloading http://yann.lecun.com/exdb/mnist/t10k-images-idx3-ubyte.gz to data/MNIST/raw/t10k-images-idx3-ubyte.gz\n"
          ],
          "name": "stdout"
        },
        {
          "output_type": "display_data",
          "data": {
            "application/vnd.jupyter.widget-view+json": {
              "model_id": "2b663f648d4148c69b6c1fa4ff7eb7a9",
              "version_minor": 0,
              "version_major": 2
            },
            "text/plain": [
              "HBox(children=(FloatProgress(value=0.0, max=1648877.0), HTML(value='')))"
            ]
          },
          "metadata": {
            "tags": []
          }
        },
        {
          "output_type": "stream",
          "text": [
            "\n",
            "Extracting data/MNIST/raw/t10k-images-idx3-ubyte.gz to data/MNIST/raw\n",
            "\n",
            "Downloading http://yann.lecun.com/exdb/mnist/t10k-labels-idx1-ubyte.gz\n",
            "Downloading http://yann.lecun.com/exdb/mnist/t10k-labels-idx1-ubyte.gz to data/MNIST/raw/t10k-labels-idx1-ubyte.gz\n"
          ],
          "name": "stdout"
        },
        {
          "output_type": "display_data",
          "data": {
            "application/vnd.jupyter.widget-view+json": {
              "model_id": "7b95f02243434c21922b151f7c36420e",
              "version_minor": 0,
              "version_major": 2
            },
            "text/plain": [
              "HBox(children=(FloatProgress(value=0.0, max=4542.0), HTML(value='')))"
            ]
          },
          "metadata": {
            "tags": []
          }
        },
        {
          "output_type": "stream",
          "text": [
            "\n",
            "Extracting data/MNIST/raw/t10k-labels-idx1-ubyte.gz to data/MNIST/raw\n",
            "\n",
            "train_dataset size -> torch.Size([60000, 28, 28])\n",
            "test_dataset size -> torch.Size([10000, 28, 28])\n"
          ],
          "name": "stdout"
        },
        {
          "output_type": "stream",
          "text": [
            "/usr/local/lib/python3.7/dist-packages/torchvision/datasets/mnist.py:498: UserWarning: The given NumPy array is not writeable, and PyTorch does not support non-writeable tensors. This means you can write to the underlying (supposedly non-writeable) NumPy array using the tensor. You may want to copy the array to protect its data or make it writeable before converting it to a tensor. This type of warning will be suppressed for the rest of this program. (Triggered internally at  /pytorch/torch/csrc/utils/tensor_numpy.cpp:180.)\n",
            "  return torch.from_numpy(parsed.astype(m[2], copy=False)).view(*s)\n"
          ],
          "name": "stderr"
        }
      ]
    },
    {
      "cell_type": "markdown",
      "metadata": {
        "id": "anPoM9dgwcrg"
      },
      "source": [
        "# Define Discriminator and Generator classes"
      ]
    },
    {
      "cell_type": "code",
      "metadata": {
        "id": "LEl7U-Qrzrc8"
      },
      "source": [
        "# defining Discriminator class\n",
        "\n",
        "class Discriminator(nn.Module):\n",
        "\n",
        "    def __init__(self, input_size, d_output_size):\n",
        "\n",
        "        # access methods from parent class nn.Module\n",
        "        super(Discriminator, self).__init__()\n",
        "        \n",
        "        # Hidden linear layers\n",
        "        self.fc1 = nn.Linear(input_size, 1024)\n",
        "        self.fc2 = nn.Linear(self.fc1.out_features, self.fc1.out_features//2)\n",
        "        self.fc3 = nn.Linear(self.fc2.out_features, self.fc1.out_features//2)\n",
        "        \n",
        "        # Final output layer\n",
        "        self.fc4 = nn.Linear(self.fc3.out_features, d_output_size)\n",
        "        \n",
        "    def forward(self, x):\n",
        "        # flatten image\n",
        "        x = x.view(-1, 28*28) #  reshape the tensor to 28*28 tensor\n",
        "        # all hidden layers\n",
        "        x = F.leaky_relu(self.fc1(x), 0.2) # (input, negative_slope=0.2) This function returns x if it receives any positive input, but for any negative value of x, it returns a really small value which is 0.02 times x\n",
        "        x = F.dropout(x, 0.3) #  “deactivates” few neurons in the neural network randomly in the probability  in order to avoid the problem of overfitting.\n",
        "        x = F.leaky_relu(self.fc2(x), 0.2)\n",
        "        x = F.dropout(x, 0.3)\n",
        "        x = F.leaky_relu(self.fc3(x), 0.2)\n",
        "        x = F.dropout(x, 0.3)\n",
        "        # final layer\n",
        "        output = torch.sigmoid(self.fc4(x)) # squishes any real number into a range between 0 and 1\n",
        "\n",
        "\n",
        "        return output"
      ],
      "execution_count": 4,
      "outputs": []
    },
    {
      "cell_type": "code",
      "metadata": {
        "id": "JHtnuKw1dRoF"
      },
      "source": [
        "# defining generator class 1\n",
        "\n",
        "class Generator(nn.Module):\n",
        "\n",
        "    def __init__(self, input_size, g_output_size):\n",
        "        super(Generator, self).__init__()\n",
        "        \n",
        "        # Hidden linear layers\n",
        "        self.fc1 = nn.Linear(input_size, 256)\n",
        "        self.fc2 = nn.Linear(self.fc1.out_features, self.fc1.out_features*2)\n",
        "        self.fc3 = nn.Linear(self.fc2.out_features, self.fc1.out_features*2)\n",
        "        \n",
        "        # Final output layer\n",
        "        self.fc4 = nn.Linear(self.fc3.out_features, g_output_size)\n",
        "\n",
        "    def forward(self, x):\n",
        "        # all hidden layers\n",
        "        x = F.leaky_relu(self.fc1(x), 0.2) # (input, negative_slope=0.2)\n",
        "        x = F.leaky_relu(self.fc2(x), 0.2)\n",
        "        x = F.leaky_relu(self.fc3(x), 0.2)\n",
        "        output = torch.tanh(self.fc4(x)) #Returns a new tensor with the hyperbolic tangent of the elements of self.fc4(x)\n",
        "\n",
        "        return output"
      ],
      "execution_count": 5,
      "outputs": []
    },
    {
      "cell_type": "markdown",
      "metadata": {
        "id": "lockZ7igwrJ6"
      },
      "source": [
        "# Define Hyper Parameters and initiate the Discriminator and Generator"
      ]
    },
    {
      "cell_type": "code",
      "metadata": {
        "colab": {
          "base_uri": "https://localhost:8080/"
        },
        "id": "bpCg5qV_2Yei",
        "outputId": "2cede210-807b-4151-b8eb-c172476f67da"
      },
      "source": [
        "\n",
        "# Discriminator hyperparams\n",
        "\n",
        "# Size of input image to Discriminator (28*28)\n",
        "input_size = 784\n",
        "# Size of discriminator output (real or fake)\n",
        "d_output_size = 1\n",
        "\n",
        "\n",
        "# Generator hyperparams\n",
        "\n",
        "#Generator input  latent vector size\n",
        "z_size = 100\n",
        "# Discriminator output size\n",
        "g_output_size = 784\n",
        "\n",
        "\n",
        "\n",
        "D = Discriminator(input_size, d_output_size).to(device)\n",
        "G = Generator(z_size, g_output_size).to(device)\n",
        "\n",
        "print(D)\n",
        "print(G)"
      ],
      "execution_count": 6,
      "outputs": [
        {
          "output_type": "stream",
          "text": [
            "Discriminator(\n",
            "  (fc1): Linear(in_features=784, out_features=1024, bias=True)\n",
            "  (fc2): Linear(in_features=1024, out_features=512, bias=True)\n",
            "  (fc3): Linear(in_features=512, out_features=512, bias=True)\n",
            "  (fc4): Linear(in_features=512, out_features=1, bias=True)\n",
            ")\n",
            "Generator(\n",
            "  (fc1): Linear(in_features=100, out_features=256, bias=True)\n",
            "  (fc2): Linear(in_features=256, out_features=512, bias=True)\n",
            "  (fc3): Linear(in_features=512, out_features=512, bias=True)\n",
            "  (fc4): Linear(in_features=512, out_features=784, bias=True)\n",
            ")\n"
          ],
          "name": "stdout"
        }
      ]
    },
    {
      "cell_type": "code",
      "metadata": {
        "id": "AskYo9UPxbES"
      },
      "source": [
        "# Measures the Binary Cross Entropy between the target and the output\n",
        "criterion = nn.BCELoss() \n",
        "\n",
        "# Set learning rate and optimizers\n",
        "lr = 0.0002 \n",
        "G_optimizer = optim.Adam(G.parameters(), lr = lr)\n",
        "D_optimizer = optim.Adam(D.parameters(), lr = lr)"
      ],
      "execution_count": 7,
      "outputs": []
    },
    {
      "cell_type": "markdown",
      "metadata": {
        "id": "ifpgSDKmx6f1"
      },
      "source": [
        "# Define model training functions"
      ]
    },
    {
      "cell_type": "code",
      "metadata": {
        "id": "gmiP9uHaxedV"
      },
      "source": [
        "def Train_Discriminator(x):\n",
        "    \n",
        "    # clear out the gradients of all Variables since no need to keep the gradient calculation result of the previous batch\n",
        "    D.zero_grad()\n",
        "\n",
        "    # train discriminator on real\n",
        "    x_real, y_real = x.view(-1, 28*28), torch.ones(100, 1)\n",
        "    x_real, y_real = Variable(x_real.to(device)), Variable(y_real.to(device))\n",
        "\n",
        "    D_output = D(x_real)\n",
        "    D_real_loss = criterion(D_output, y_real)\n",
        "    D_real_score = D_output\n",
        "\n",
        "    # train discriminator on facke\n",
        "    z = Variable(torch.randn(100, 100).to(device))\n",
        "    x_fake, y_fake = G(z), Variable(torch.zeros(100, 1).to(device))\n",
        "\n",
        "    D_output = D(x_fake)\n",
        "    D_fake_loss = criterion(D_output, y_fake)\n",
        "    D_fake_score = D_output\n",
        "\n",
        "    # gradient backprop & optimize ONLY D's parameters\n",
        "    D_loss = D_real_loss + D_fake_loss\n",
        "    D_loss.backward()\n",
        "    D_optimizer.step()\n",
        "        \n",
        "    return  D_loss.data.item()"
      ],
      "execution_count": 8,
      "outputs": []
    },
    {
      "cell_type": "code",
      "metadata": {
        "id": "aOGWeJVIFEDZ"
      },
      "source": [
        "def Train_Generator(x):\n",
        "    \n",
        "    # clear out the gradients of all Variables since no need to keep the gradient calculation result of the previous batch\n",
        "    G.zero_grad()\n",
        "\n",
        "    z = Variable(torch.randn(100, 100).to(device))\n",
        "    y = Variable(torch.ones(100, 1).to(device))\n",
        "\n",
        "    G_output = G(z)\n",
        "    D_output = D(G_output)\n",
        "    G_loss = criterion(D_output, y)\n",
        "\n",
        "    # gradient backprop & optimize ONLY G's parameters\n",
        "    G_loss.backward()\n",
        "    G_optimizer.step()\n",
        "        \n",
        "    return G_loss.data.item()"
      ],
      "execution_count": 9,
      "outputs": []
    },
    {
      "cell_type": "markdown",
      "metadata": {
        "id": "5dBuC5VByfc1"
      },
      "source": [
        "# Train the models"
      ]
    },
    {
      "cell_type": "code",
      "metadata": {
        "colab": {
          "base_uri": "https://localhost:8080/"
        },
        "id": "2hONjC0ixnxa",
        "outputId": "d7278d10-e9cb-4495-b53f-0b3b7aee735b"
      },
      "source": [
        "n_epoch = 200\n",
        "for epoch in range(1, n_epoch+1):           \n",
        "    D_losses, G_losses = [], []\n",
        "    for batch_idx, (x, _) in enumerate(train_loader):\n",
        "        D_losses.append(Train_Discriminator(x))\n",
        "        G_losses.append(Train_Generator(x))\n",
        "\n",
        "    print('[%d/%d]: loss_d: %.3f, loss_g: %.3f' % (\n",
        "            (epoch), n_epoch, torch.mean(torch.FloatTensor(D_losses)), torch.mean(torch.FloatTensor(G_losses))))"
      ],
      "execution_count": 10,
      "outputs": [
        {
          "output_type": "stream",
          "text": [
            "[1/200]: loss_d: 0.998, loss_g: 2.149\n",
            "[2/200]: loss_d: 0.983, loss_g: 1.971\n",
            "[3/200]: loss_d: 1.045, loss_g: 2.336\n",
            "[4/200]: loss_d: 0.988, loss_g: 1.666\n",
            "[5/200]: loss_d: 0.593, loss_g: 2.919\n",
            "[6/200]: loss_d: 0.363, loss_g: 4.041\n",
            "[7/200]: loss_d: 0.605, loss_g: 2.985\n",
            "[8/200]: loss_d: 0.608, loss_g: 2.721\n",
            "[9/200]: loss_d: 0.544, loss_g: 2.751\n",
            "[10/200]: loss_d: 0.560, loss_g: 2.656\n",
            "[11/200]: loss_d: 0.605, loss_g: 2.521\n",
            "[12/200]: loss_d: 0.663, loss_g: 2.245\n",
            "[13/200]: loss_d: 0.674, loss_g: 2.210\n",
            "[14/200]: loss_d: 0.703, loss_g: 2.330\n",
            "[15/200]: loss_d: 0.700, loss_g: 2.249\n",
            "[16/200]: loss_d: 0.740, loss_g: 2.145\n",
            "[17/200]: loss_d: 0.723, loss_g: 2.051\n",
            "[18/200]: loss_d: 0.750, loss_g: 2.039\n",
            "[19/200]: loss_d: 0.784, loss_g: 1.954\n",
            "[20/200]: loss_d: 0.774, loss_g: 1.945\n",
            "[21/200]: loss_d: 0.817, loss_g: 1.862\n",
            "[22/200]: loss_d: 0.840, loss_g: 1.767\n",
            "[23/200]: loss_d: 0.823, loss_g: 1.826\n",
            "[24/200]: loss_d: 0.853, loss_g: 1.761\n",
            "[25/200]: loss_d: 0.854, loss_g: 1.685\n",
            "[26/200]: loss_d: 0.909, loss_g: 1.606\n",
            "[27/200]: loss_d: 0.924, loss_g: 1.589\n",
            "[28/200]: loss_d: 0.927, loss_g: 1.617\n",
            "[29/200]: loss_d: 0.949, loss_g: 1.537\n",
            "[30/200]: loss_d: 0.937, loss_g: 1.538\n",
            "[31/200]: loss_d: 0.941, loss_g: 1.531\n",
            "[32/200]: loss_d: 0.971, loss_g: 1.516\n",
            "[33/200]: loss_d: 0.975, loss_g: 1.488\n",
            "[34/200]: loss_d: 0.981, loss_g: 1.469\n",
            "[35/200]: loss_d: 0.985, loss_g: 1.448\n",
            "[36/200]: loss_d: 0.990, loss_g: 1.457\n",
            "[37/200]: loss_d: 1.001, loss_g: 1.420\n",
            "[38/200]: loss_d: 1.001, loss_g: 1.393\n",
            "[39/200]: loss_d: 1.016, loss_g: 1.388\n",
            "[40/200]: loss_d: 1.032, loss_g: 1.349\n",
            "[41/200]: loss_d: 1.045, loss_g: 1.329\n",
            "[42/200]: loss_d: 1.059, loss_g: 1.293\n",
            "[43/200]: loss_d: 1.051, loss_g: 1.326\n",
            "[44/200]: loss_d: 1.077, loss_g: 1.273\n",
            "[45/200]: loss_d: 1.058, loss_g: 1.282\n",
            "[46/200]: loss_d: 1.087, loss_g: 1.252\n",
            "[47/200]: loss_d: 1.094, loss_g: 1.224\n",
            "[48/200]: loss_d: 1.072, loss_g: 1.301\n",
            "[49/200]: loss_d: 1.090, loss_g: 1.230\n",
            "[50/200]: loss_d: 1.104, loss_g: 1.208\n",
            "[51/200]: loss_d: 1.099, loss_g: 1.222\n",
            "[52/200]: loss_d: 1.105, loss_g: 1.193\n",
            "[53/200]: loss_d: 1.112, loss_g: 1.201\n",
            "[54/200]: loss_d: 1.113, loss_g: 1.169\n",
            "[55/200]: loss_d: 1.127, loss_g: 1.169\n",
            "[56/200]: loss_d: 1.127, loss_g: 1.171\n",
            "[57/200]: loss_d: 1.117, loss_g: 1.170\n",
            "[58/200]: loss_d: 1.125, loss_g: 1.161\n",
            "[59/200]: loss_d: 1.152, loss_g: 1.118\n",
            "[60/200]: loss_d: 1.148, loss_g: 1.118\n",
            "[61/200]: loss_d: 1.155, loss_g: 1.116\n",
            "[62/200]: loss_d: 1.151, loss_g: 1.139\n",
            "[63/200]: loss_d: 1.160, loss_g: 1.097\n",
            "[64/200]: loss_d: 1.157, loss_g: 1.087\n",
            "[65/200]: loss_d: 1.156, loss_g: 1.115\n",
            "[66/200]: loss_d: 1.164, loss_g: 1.095\n",
            "[67/200]: loss_d: 1.176, loss_g: 1.073\n",
            "[68/200]: loss_d: 1.174, loss_g: 1.087\n",
            "[69/200]: loss_d: 1.177, loss_g: 1.063\n",
            "[70/200]: loss_d: 1.179, loss_g: 1.058\n",
            "[71/200]: loss_d: 1.189, loss_g: 1.054\n",
            "[72/200]: loss_d: 1.182, loss_g: 1.055\n",
            "[73/200]: loss_d: 1.193, loss_g: 1.050\n",
            "[74/200]: loss_d: 1.192, loss_g: 1.059\n",
            "[75/200]: loss_d: 1.179, loss_g: 1.071\n",
            "[76/200]: loss_d: 1.187, loss_g: 1.052\n",
            "[77/200]: loss_d: 1.187, loss_g: 1.032\n",
            "[78/200]: loss_d: 1.191, loss_g: 1.050\n",
            "[79/200]: loss_d: 1.201, loss_g: 1.032\n",
            "[80/200]: loss_d: 1.196, loss_g: 1.025\n",
            "[81/200]: loss_d: 1.195, loss_g: 1.037\n",
            "[82/200]: loss_d: 1.196, loss_g: 1.042\n",
            "[83/200]: loss_d: 1.198, loss_g: 1.030\n",
            "[84/200]: loss_d: 1.199, loss_g: 1.022\n",
            "[85/200]: loss_d: 1.204, loss_g: 1.017\n",
            "[86/200]: loss_d: 1.212, loss_g: 1.003\n",
            "[87/200]: loss_d: 1.209, loss_g: 1.017\n",
            "[88/200]: loss_d: 1.210, loss_g: 1.039\n",
            "[89/200]: loss_d: 1.211, loss_g: 1.001\n",
            "[90/200]: loss_d: 1.216, loss_g: 1.009\n",
            "[91/200]: loss_d: 1.207, loss_g: 1.028\n",
            "[92/200]: loss_d: 1.211, loss_g: 1.007\n",
            "[93/200]: loss_d: 1.214, loss_g: 1.013\n",
            "[94/200]: loss_d: 1.214, loss_g: 1.000\n",
            "[95/200]: loss_d: 1.215, loss_g: 0.994\n",
            "[96/200]: loss_d: 1.222, loss_g: 0.996\n",
            "[97/200]: loss_d: 1.226, loss_g: 0.975\n",
            "[98/200]: loss_d: 1.223, loss_g: 0.983\n",
            "[99/200]: loss_d: 1.216, loss_g: 1.004\n",
            "[100/200]: loss_d: 1.225, loss_g: 0.979\n",
            "[101/200]: loss_d: 1.229, loss_g: 0.987\n",
            "[102/200]: loss_d: 1.225, loss_g: 0.985\n",
            "[103/200]: loss_d: 1.228, loss_g: 0.991\n",
            "[104/200]: loss_d: 1.232, loss_g: 0.968\n",
            "[105/200]: loss_d: 1.232, loss_g: 0.966\n",
            "[106/200]: loss_d: 1.238, loss_g: 0.964\n",
            "[107/200]: loss_d: 1.227, loss_g: 0.974\n",
            "[108/200]: loss_d: 1.225, loss_g: 0.980\n",
            "[109/200]: loss_d: 1.230, loss_g: 0.986\n",
            "[110/200]: loss_d: 1.232, loss_g: 0.967\n",
            "[111/200]: loss_d: 1.234, loss_g: 0.969\n",
            "[112/200]: loss_d: 1.231, loss_g: 0.977\n",
            "[113/200]: loss_d: 1.230, loss_g: 0.974\n",
            "[114/200]: loss_d: 1.233, loss_g: 0.971\n",
            "[115/200]: loss_d: 1.233, loss_g: 0.974\n",
            "[116/200]: loss_d: 1.235, loss_g: 0.968\n",
            "[117/200]: loss_d: 1.236, loss_g: 0.957\n",
            "[118/200]: loss_d: 1.245, loss_g: 0.950\n",
            "[119/200]: loss_d: 1.230, loss_g: 0.970\n",
            "[120/200]: loss_d: 1.233, loss_g: 0.972\n",
            "[121/200]: loss_d: 1.239, loss_g: 0.961\n",
            "[122/200]: loss_d: 1.243, loss_g: 0.956\n",
            "[123/200]: loss_d: 1.233, loss_g: 0.969\n",
            "[124/200]: loss_d: 1.240, loss_g: 0.969\n",
            "[125/200]: loss_d: 1.238, loss_g: 0.959\n",
            "[126/200]: loss_d: 1.240, loss_g: 0.959\n",
            "[127/200]: loss_d: 1.238, loss_g: 0.961\n",
            "[128/200]: loss_d: 1.237, loss_g: 0.957\n",
            "[129/200]: loss_d: 1.240, loss_g: 0.949\n",
            "[130/200]: loss_d: 1.236, loss_g: 0.970\n",
            "[131/200]: loss_d: 1.241, loss_g: 0.960\n",
            "[132/200]: loss_d: 1.235, loss_g: 0.955\n",
            "[133/200]: loss_d: 1.243, loss_g: 0.964\n",
            "[134/200]: loss_d: 1.242, loss_g: 0.960\n",
            "[135/200]: loss_d: 1.239, loss_g: 0.954\n",
            "[136/200]: loss_d: 1.243, loss_g: 0.964\n",
            "[137/200]: loss_d: 1.239, loss_g: 0.961\n",
            "[138/200]: loss_d: 1.243, loss_g: 0.948\n",
            "[139/200]: loss_d: 1.241, loss_g: 0.953\n",
            "[140/200]: loss_d: 1.244, loss_g: 0.945\n",
            "[141/200]: loss_d: 1.246, loss_g: 0.943\n",
            "[142/200]: loss_d: 1.242, loss_g: 0.951\n",
            "[143/200]: loss_d: 1.245, loss_g: 0.951\n",
            "[144/200]: loss_d: 1.245, loss_g: 0.947\n",
            "[145/200]: loss_d: 1.243, loss_g: 0.949\n",
            "[146/200]: loss_d: 1.246, loss_g: 0.943\n",
            "[147/200]: loss_d: 1.244, loss_g: 0.950\n",
            "[148/200]: loss_d: 1.249, loss_g: 0.939\n",
            "[149/200]: loss_d: 1.250, loss_g: 0.946\n",
            "[150/200]: loss_d: 1.244, loss_g: 0.949\n",
            "[151/200]: loss_d: 1.249, loss_g: 0.936\n",
            "[152/200]: loss_d: 1.245, loss_g: 0.947\n",
            "[153/200]: loss_d: 1.252, loss_g: 0.933\n",
            "[154/200]: loss_d: 1.241, loss_g: 0.956\n",
            "[155/200]: loss_d: 1.247, loss_g: 0.946\n",
            "[156/200]: loss_d: 1.249, loss_g: 0.941\n",
            "[157/200]: loss_d: 1.245, loss_g: 0.942\n",
            "[158/200]: loss_d: 1.246, loss_g: 0.948\n",
            "[159/200]: loss_d: 1.245, loss_g: 0.938\n",
            "[160/200]: loss_d: 1.250, loss_g: 0.948\n",
            "[161/200]: loss_d: 1.246, loss_g: 0.943\n",
            "[162/200]: loss_d: 1.252, loss_g: 0.943\n",
            "[163/200]: loss_d: 1.247, loss_g: 0.946\n",
            "[164/200]: loss_d: 1.245, loss_g: 0.943\n",
            "[165/200]: loss_d: 1.244, loss_g: 0.943\n",
            "[166/200]: loss_d: 1.253, loss_g: 0.930\n",
            "[167/200]: loss_d: 1.247, loss_g: 0.933\n",
            "[168/200]: loss_d: 1.249, loss_g: 0.941\n",
            "[169/200]: loss_d: 1.251, loss_g: 0.931\n",
            "[170/200]: loss_d: 1.250, loss_g: 0.946\n",
            "[171/200]: loss_d: 1.247, loss_g: 0.942\n",
            "[172/200]: loss_d: 1.245, loss_g: 0.943\n",
            "[173/200]: loss_d: 1.249, loss_g: 0.934\n",
            "[174/200]: loss_d: 1.255, loss_g: 0.925\n",
            "[175/200]: loss_d: 1.255, loss_g: 0.934\n",
            "[176/200]: loss_d: 1.247, loss_g: 0.950\n",
            "[177/200]: loss_d: 1.248, loss_g: 0.938\n",
            "[178/200]: loss_d: 1.254, loss_g: 0.934\n",
            "[179/200]: loss_d: 1.249, loss_g: 0.932\n",
            "[180/200]: loss_d: 1.251, loss_g: 0.945\n",
            "[181/200]: loss_d: 1.246, loss_g: 0.937\n",
            "[182/200]: loss_d: 1.255, loss_g: 0.940\n",
            "[183/200]: loss_d: 1.251, loss_g: 0.941\n",
            "[184/200]: loss_d: 1.249, loss_g: 0.931\n",
            "[185/200]: loss_d: 1.254, loss_g: 0.934\n",
            "[186/200]: loss_d: 1.256, loss_g: 0.932\n",
            "[187/200]: loss_d: 1.249, loss_g: 0.936\n",
            "[188/200]: loss_d: 1.250, loss_g: 0.933\n",
            "[189/200]: loss_d: 1.244, loss_g: 0.943\n",
            "[190/200]: loss_d: 1.253, loss_g: 0.930\n",
            "[191/200]: loss_d: 1.255, loss_g: 0.938\n",
            "[192/200]: loss_d: 1.249, loss_g: 0.947\n",
            "[193/200]: loss_d: 1.250, loss_g: 0.938\n",
            "[194/200]: loss_d: 1.253, loss_g: 0.932\n",
            "[195/200]: loss_d: 1.248, loss_g: 0.936\n",
            "[196/200]: loss_d: 1.249, loss_g: 0.945\n",
            "[197/200]: loss_d: 1.249, loss_g: 0.938\n",
            "[198/200]: loss_d: 1.250, loss_g: 0.935\n",
            "[199/200]: loss_d: 1.254, loss_g: 0.928\n",
            "[200/200]: loss_d: 1.247, loss_g: 0.943\n"
          ],
          "name": "stdout"
        }
      ]
    },
    {
      "cell_type": "markdown",
      "metadata": {
        "id": "stMuqWAZyo_a"
      },
      "source": [
        "# Save and download the models"
      ]
    },
    {
      "cell_type": "code",
      "metadata": {
        "id": "w7Rr69h_DmLa",
        "colab": {
          "base_uri": "https://localhost:8080/",
          "height": 17
        },
        "outputId": "2eb94c92-6b72-470b-bf73-0b9403cc0506"
      },
      "source": [
        "# Save the Generator\n",
        "with open('G.pkl', 'wb') as f:\n",
        "    pkl.dump(G, f)\n",
        "\n",
        "# Save the Discriminator\n",
        "with open('D.pkl', 'wb') as f:\n",
        "    pkl.dump(D, f)\n",
        "\n",
        "\n",
        "# download files into the local machine\n",
        "files.download('D.pkl')\n",
        "files.download('G.pkl')\n"
      ],
      "execution_count": 11,
      "outputs": [
        {
          "output_type": "display_data",
          "data": {
            "application/javascript": [
              "\n",
              "    async function download(id, filename, size) {\n",
              "      if (!google.colab.kernel.accessAllowed) {\n",
              "        return;\n",
              "      }\n",
              "      const div = document.createElement('div');\n",
              "      const label = document.createElement('label');\n",
              "      label.textContent = `Downloading \"${filename}\": `;\n",
              "      div.appendChild(label);\n",
              "      const progress = document.createElement('progress');\n",
              "      progress.max = size;\n",
              "      div.appendChild(progress);\n",
              "      document.body.appendChild(div);\n",
              "\n",
              "      const buffers = [];\n",
              "      let downloaded = 0;\n",
              "\n",
              "      const channel = await google.colab.kernel.comms.open(id);\n",
              "      // Send a message to notify the kernel that we're ready.\n",
              "      channel.send({})\n",
              "\n",
              "      for await (const message of channel.messages) {\n",
              "        // Send a message to notify the kernel that we're ready.\n",
              "        channel.send({})\n",
              "        if (message.buffers) {\n",
              "          for (const buffer of message.buffers) {\n",
              "            buffers.push(buffer);\n",
              "            downloaded += buffer.byteLength;\n",
              "            progress.value = downloaded;\n",
              "          }\n",
              "        }\n",
              "      }\n",
              "      const blob = new Blob(buffers, {type: 'application/binary'});\n",
              "      const a = document.createElement('a');\n",
              "      a.href = window.URL.createObjectURL(blob);\n",
              "      a.download = filename;\n",
              "      div.appendChild(a);\n",
              "      a.click();\n",
              "      div.remove();\n",
              "    }\n",
              "  "
            ],
            "text/plain": [
              "<IPython.core.display.Javascript object>"
            ]
          },
          "metadata": {
            "tags": []
          }
        },
        {
          "output_type": "display_data",
          "data": {
            "application/javascript": [
              "download(\"download_aa5aaf05-4ed6-4811-a9ef-d058a670642b\", \"D.pkl\", 6370833)"
            ],
            "text/plain": [
              "<IPython.core.display.Javascript object>"
            ]
          },
          "metadata": {
            "tags": []
          }
        },
        {
          "output_type": "display_data",
          "data": {
            "application/javascript": [
              "\n",
              "    async function download(id, filename, size) {\n",
              "      if (!google.colab.kernel.accessAllowed) {\n",
              "        return;\n",
              "      }\n",
              "      const div = document.createElement('div');\n",
              "      const label = document.createElement('label');\n",
              "      label.textContent = `Downloading \"${filename}\": `;\n",
              "      div.appendChild(label);\n",
              "      const progress = document.createElement('progress');\n",
              "      progress.max = size;\n",
              "      div.appendChild(progress);\n",
              "      document.body.appendChild(div);\n",
              "\n",
              "      const buffers = [];\n",
              "      let downloaded = 0;\n",
              "\n",
              "      const channel = await google.colab.kernel.comms.open(id);\n",
              "      // Send a message to notify the kernel that we're ready.\n",
              "      channel.send({})\n",
              "\n",
              "      for await (const message of channel.messages) {\n",
              "        // Send a message to notify the kernel that we're ready.\n",
              "        channel.send({})\n",
              "        if (message.buffers) {\n",
              "          for (const buffer of message.buffers) {\n",
              "            buffers.push(buffer);\n",
              "            downloaded += buffer.byteLength;\n",
              "            progress.value = downloaded;\n",
              "          }\n",
              "        }\n",
              "      }\n",
              "      const blob = new Blob(buffers, {type: 'application/binary'});\n",
              "      const a = document.createElement('a');\n",
              "      a.href = window.URL.createObjectURL(blob);\n",
              "      a.download = filename;\n",
              "      div.appendChild(a);\n",
              "      a.click();\n",
              "      div.remove();\n",
              "    }\n",
              "  "
            ],
            "text/plain": [
              "<IPython.core.display.Javascript object>"
            ]
          },
          "metadata": {
            "tags": []
          }
        },
        {
          "output_type": "display_data",
          "data": {
            "application/javascript": [
              "download(\"download_24b6a74c-4c3b-4b39-83ef-a4ed7a83795c\", \"G.pkl\", 3292746)"
            ],
            "text/plain": [
              "<IPython.core.display.Javascript object>"
            ]
          },
          "metadata": {
            "tags": []
          }
        }
      ]
    },
    {
      "cell_type": "markdown",
      "metadata": {
        "id": "pM6wRWQhy1WL"
      },
      "source": [
        "# Create and annotate a fake data set"
      ]
    },
    {
      "cell_type": "code",
      "metadata": {
        "id": "xfBOrx-XB6m7",
        "colab": {
          "base_uri": "https://localhost:8080/",
          "height": 35
        },
        "outputId": "399795b2-2d25-40b6-85da-cafda37aab5f"
      },
      "source": [
        "#create directory to save generated images and files\n",
        "!mkdir images\n",
        "\n",
        "#create 100 latent vectors which has 100  dimension\n",
        "\n",
        "sample_size=100\n",
        "\n",
        "z = np.random.uniform(-1, 1, size=(sample_size, z_size))\n",
        "z = torch.from_numpy(z).float()\n",
        "\n",
        "G.eval() # eval mode\n",
        "\n",
        "# set image directory root location\n",
        "root = '/content'\n",
        "\n",
        "#get the grid image\n",
        "grid_view = G(z.to(device))\n",
        "save_image(grid_view.view(grid_view.size(0), 1, 28, 28), root + r'/grid.png', normalize = True) \n",
        "\n",
        "\n",
        "for i, image_tensor in enumerate(z):\n",
        "    image_tensor = image_tensor.detach()\n",
        "\n",
        "    # save the latent vector, related to the image\n",
        "    f = open(root + r'/images/%d.txt' %i,'a')\n",
        "    f.write(np.array2string(image_tensor.numpy(), separator=','))\n",
        "    f.close()\n",
        "\n",
        "    # create image using latent vector\n",
        "    rand_image = G(image_tensor.to(device)) \n",
        "\n",
        "    # save image\n",
        "    rand_image = rand_image.view(-1, 28) # convert [784] tensor in to [28,28] tensor to create image\n",
        "    save_image(rand_image, root + r'/images/%d.png' %i, normalize = True)\n",
        "\n",
        "\n",
        "#create and download zip file contains generated image files and Latent vectors\n",
        "shutil.make_archive('images', 'zip', 'images')\n",
        "files.download('images.zip')"
      ],
      "execution_count": 22,
      "outputs": [
        {
          "output_type": "execute_result",
          "data": {
            "application/vnd.google.colaboratory.intrinsic+json": {
              "type": "string"
            },
            "text/plain": [
              "'/content/images.zip'"
            ]
          },
          "metadata": {
            "tags": []
          },
          "execution_count": 22
        }
      ]
    },
    {
      "cell_type": "markdown",
      "metadata": {
        "id": "o2989Xe8zJ38"
      },
      "source": [
        "# Create random digit images From the real MNIST test data set"
      ]
    },
    {
      "cell_type": "code",
      "metadata": {
        "colab": {
          "base_uri": "https://localhost:8080/",
          "height": 17
        },
        "id": "GTjrMt6dT8tr",
        "outputId": "c2ca110c-6bc1-4425-d407-a95d52dc6621"
      },
      "source": [
        "#create directory to save generated images and test files\n",
        "!mkdir real_images\n",
        "\n",
        "# extract 100 random digit images from the real MNIST test data set\n",
        "\n",
        "for idx, (img, _) in enumerate(test_dataset):\n",
        "\n",
        "    # save the latent vector, related to the image\n",
        "    f = open(root + r'/real_images/%d.txt' %idx,'a')\n",
        "    f.write(np.array2string(img.numpy(), separator=','))\n",
        "    f.close()\n",
        "\n",
        "    # save the image\n",
        "    save_image(img, '/content/real_images/%d.png' %idx, normalize = True)\n",
        "\n",
        "    # stop the iteration after creating 100 images\n",
        "    if idx == 100: \n",
        "        break   \n",
        "\n",
        "#create and download a zip file contains generated image files and Latent vectors\n",
        "shutil.make_archive('real_images', 'zip', 'real_images')\n",
        "files.download('real_images.zip')\n"
      ],
      "execution_count": 23,
      "outputs": [
        {
          "output_type": "display_data",
          "data": {
            "application/javascript": [
              "\n",
              "    async function download(id, filename, size) {\n",
              "      if (!google.colab.kernel.accessAllowed) {\n",
              "        return;\n",
              "      }\n",
              "      const div = document.createElement('div');\n",
              "      const label = document.createElement('label');\n",
              "      label.textContent = `Downloading \"${filename}\": `;\n",
              "      div.appendChild(label);\n",
              "      const progress = document.createElement('progress');\n",
              "      progress.max = size;\n",
              "      div.appendChild(progress);\n",
              "      document.body.appendChild(div);\n",
              "\n",
              "      const buffers = [];\n",
              "      let downloaded = 0;\n",
              "\n",
              "      const channel = await google.colab.kernel.comms.open(id);\n",
              "      // Send a message to notify the kernel that we're ready.\n",
              "      channel.send({})\n",
              "\n",
              "      for await (const message of channel.messages) {\n",
              "        // Send a message to notify the kernel that we're ready.\n",
              "        channel.send({})\n",
              "        if (message.buffers) {\n",
              "          for (const buffer of message.buffers) {\n",
              "            buffers.push(buffer);\n",
              "            downloaded += buffer.byteLength;\n",
              "            progress.value = downloaded;\n",
              "          }\n",
              "        }\n",
              "      }\n",
              "      const blob = new Blob(buffers, {type: 'application/binary'});\n",
              "      const a = document.createElement('a');\n",
              "      a.href = window.URL.createObjectURL(blob);\n",
              "      a.download = filename;\n",
              "      div.appendChild(a);\n",
              "      a.click();\n",
              "      div.remove();\n",
              "    }\n",
              "  "
            ],
            "text/plain": [
              "<IPython.core.display.Javascript object>"
            ]
          },
          "metadata": {
            "tags": []
          }
        },
        {
          "output_type": "display_data",
          "data": {
            "application/javascript": [
              "download(\"download_9423b0f7-c823-49be-aec9-bd8d1784c83b\", \"real_images.zip\", 122187)"
            ],
            "text/plain": [
              "<IPython.core.display.Javascript object>"
            ]
          },
          "metadata": {
            "tags": []
          }
        }
      ]
    },
    {
      "cell_type": "code",
      "metadata": {
        "id": "ZxyNFHh5OtPW"
      },
      "source": [
        "#unzip the uploaded s0 zipped file\n",
        "!unzip '/content/Fake_Digits.zip' -d '/content/Fake_Digits'"
      ],
      "execution_count": null,
      "outputs": []
    },
    {
      "cell_type": "code",
      "metadata": {
        "id": "N_0-p0lnSCVy"
      },
      "source": [
        "#open previously created Generator\n",
        "with open('G.pkl', 'rb') as f:\n",
        "    G = pkl.load(f)"
      ],
      "execution_count": null,
      "outputs": []
    },
    {
      "cell_type": "markdown",
      "metadata": {
        "id": "ySDh2fCzilbW"
      },
      "source": [
        "# Create Classifier"
      ]
    },
    {
      "cell_type": "code",
      "metadata": {
        "id": "3pv_MAVAixyu"
      },
      "source": [
        "3upload image zip files and extract them\n",
        "!unzip '/content/real_images.zip' -d '/content/real_images'\n",
        "!unzip '/content/Fake_Digits.zip' -d '/content/Fake_Digits'"
      ],
      "execution_count": null,
      "outputs": []
    },
    {
      "cell_type": "code",
      "metadata": {
        "id": "CBkN7l4KivRf"
      },
      "source": [
        "data_dir = '/content/Fake_Digits/Fake_Digits/'\n",
        "\n",
        "#create train and test dataset using images\n",
        "\n",
        "def load_split_train_test(datadir, valid_size = .2):\n",
        "    train_transforms = transforms.Compose([transforms.Resize(224),\n",
        "                                       transforms.ToTensor(),\n",
        "                                       ])\n",
        "    test_transforms = transforms.Compose([transforms.Resize(224),\n",
        "                                      transforms.ToTensor(),\n",
        "                                      ])\n",
        "    train_data = datasets.ImageFolder(datadir,       \n",
        "                    transform=train_transforms)\n",
        "    test_data = datasets.ImageFolder(datadir,\n",
        "                    transform=test_transforms)\n",
        "    num_train = len(train_data)\n",
        "    indices = list(range(num_train))\n",
        "    split = int(np.floor(valid_size * num_train))\n",
        "    np.random.shuffle(indices)\n",
        "    from torch.utils.data.sampler import SubsetRandomSampler\n",
        "    train_idx, test_idx = indices[split:], indices[:split]\n",
        "    train_sampler = SubsetRandomSampler(train_idx)\n",
        "    test_sampler = SubsetRandomSampler(test_idx)\n",
        "    trainloader = torch.utils.data.DataLoader(train_data,\n",
        "                   sampler=train_sampler, batch_size=64)\n",
        "    testloader = torch.utils.data.DataLoader(test_data,\n",
        "                   sampler=test_sampler, batch_size=64)\n",
        "    return trainloader, testloader\n",
        "trainloader, testloader = load_split_train_test(data_dir, .2)\n",
        "\n",
        "print(trainloader.dataset.classes)\n"
      ],
      "execution_count": null,
      "outputs": []
    }
  ]
}