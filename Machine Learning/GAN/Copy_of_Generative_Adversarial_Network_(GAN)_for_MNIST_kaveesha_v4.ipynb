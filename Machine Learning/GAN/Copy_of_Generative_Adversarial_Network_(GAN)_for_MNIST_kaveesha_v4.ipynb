{
  "nbformat": 4,
  "nbformat_minor": 0,
  "metadata": {
    "accelerator": "GPU",
    "colab": {
      "name": "Copy of Generative Adversarial Network (GAN) for MNIST kaveesha v4",
      "provenance": [],
      "collapsed_sections": [],
      "mount_file_id": "1VRjAHFg38VRXh4FA4qkuzBH_MLd0geJ3",
      "authorship_tag": "ABX9TyNRemn9yLV/0frMTKw0Fo59",
      "include_colab_link": true
    },
    "kernelspec": {
      "display_name": "Python 3",
      "name": "python3"
    },
    "language_info": {
      "name": "python"
    },
    "widgets": {
      "application/vnd.jupyter.widget-state+json": {
        "0883e47fa0074bd5ab107dcc1bdff908": {
          "model_module": "@jupyter-widgets/controls",
          "model_name": "HBoxModel",
          "state": {
            "_view_name": "HBoxView",
            "_dom_classes": [],
            "_model_name": "HBoxModel",
            "_view_module": "@jupyter-widgets/controls",
            "_model_module_version": "1.5.0",
            "_view_count": null,
            "_view_module_version": "1.5.0",
            "box_style": "",
            "layout": "IPY_MODEL_1716ab5b04ea46bfba7ad4fd3bebb718",
            "_model_module": "@jupyter-widgets/controls",
            "children": [
              "IPY_MODEL_9a30ba6b0bd44cf381ae379980b7428c",
              "IPY_MODEL_258a10ebda7d46c0a289f2de79df320f"
            ]
          }
        },
        "1716ab5b04ea46bfba7ad4fd3bebb718": {
          "model_module": "@jupyter-widgets/base",
          "model_name": "LayoutModel",
          "state": {
            "_view_name": "LayoutView",
            "grid_template_rows": null,
            "right": null,
            "justify_content": null,
            "_view_module": "@jupyter-widgets/base",
            "overflow": null,
            "_model_module_version": "1.2.0",
            "_view_count": null,
            "flex_flow": null,
            "width": null,
            "min_width": null,
            "border": null,
            "align_items": null,
            "bottom": null,
            "_model_module": "@jupyter-widgets/base",
            "top": null,
            "grid_column": null,
            "overflow_y": null,
            "overflow_x": null,
            "grid_auto_flow": null,
            "grid_area": null,
            "grid_template_columns": null,
            "flex": null,
            "_model_name": "LayoutModel",
            "justify_items": null,
            "grid_row": null,
            "max_height": null,
            "align_content": null,
            "visibility": null,
            "align_self": null,
            "height": null,
            "min_height": null,
            "padding": null,
            "grid_auto_rows": null,
            "grid_gap": null,
            "max_width": null,
            "order": null,
            "_view_module_version": "1.2.0",
            "grid_template_areas": null,
            "object_position": null,
            "object_fit": null,
            "grid_auto_columns": null,
            "margin": null,
            "display": null,
            "left": null
          }
        },
        "9a30ba6b0bd44cf381ae379980b7428c": {
          "model_module": "@jupyter-widgets/controls",
          "model_name": "FloatProgressModel",
          "state": {
            "_view_name": "ProgressView",
            "style": "IPY_MODEL_c4e6e84c31ee4183b0e563015a754bb3",
            "_dom_classes": [],
            "description": "",
            "_model_name": "FloatProgressModel",
            "bar_style": "success",
            "max": 9912422,
            "_view_module": "@jupyter-widgets/controls",
            "_model_module_version": "1.5.0",
            "value": 9912422,
            "_view_count": null,
            "_view_module_version": "1.5.0",
            "orientation": "horizontal",
            "min": 0,
            "description_tooltip": null,
            "_model_module": "@jupyter-widgets/controls",
            "layout": "IPY_MODEL_7aa59409e6cd4a1084ee734cd717cb9d"
          }
        },
        "258a10ebda7d46c0a289f2de79df320f": {
          "model_module": "@jupyter-widgets/controls",
          "model_name": "HTMLModel",
          "state": {
            "_view_name": "HTMLView",
            "style": "IPY_MODEL_73363c5e5bc748b3b6a973f8cf74723d",
            "_dom_classes": [],
            "description": "",
            "_model_name": "HTMLModel",
            "placeholder": "​",
            "_view_module": "@jupyter-widgets/controls",
            "_model_module_version": "1.5.0",
            "value": " 9913344/? [18:00&lt;00:00, 9172.24it/s]",
            "_view_count": null,
            "_view_module_version": "1.5.0",
            "description_tooltip": null,
            "_model_module": "@jupyter-widgets/controls",
            "layout": "IPY_MODEL_15a8f19395b5453c8c3f540f90539d8b"
          }
        },
        "c4e6e84c31ee4183b0e563015a754bb3": {
          "model_module": "@jupyter-widgets/controls",
          "model_name": "ProgressStyleModel",
          "state": {
            "_view_name": "StyleView",
            "_model_name": "ProgressStyleModel",
            "description_width": "initial",
            "_view_module": "@jupyter-widgets/base",
            "_model_module_version": "1.5.0",
            "_view_count": null,
            "_view_module_version": "1.2.0",
            "bar_color": null,
            "_model_module": "@jupyter-widgets/controls"
          }
        },
        "7aa59409e6cd4a1084ee734cd717cb9d": {
          "model_module": "@jupyter-widgets/base",
          "model_name": "LayoutModel",
          "state": {
            "_view_name": "LayoutView",
            "grid_template_rows": null,
            "right": null,
            "justify_content": null,
            "_view_module": "@jupyter-widgets/base",
            "overflow": null,
            "_model_module_version": "1.2.0",
            "_view_count": null,
            "flex_flow": null,
            "width": null,
            "min_width": null,
            "border": null,
            "align_items": null,
            "bottom": null,
            "_model_module": "@jupyter-widgets/base",
            "top": null,
            "grid_column": null,
            "overflow_y": null,
            "overflow_x": null,
            "grid_auto_flow": null,
            "grid_area": null,
            "grid_template_columns": null,
            "flex": null,
            "_model_name": "LayoutModel",
            "justify_items": null,
            "grid_row": null,
            "max_height": null,
            "align_content": null,
            "visibility": null,
            "align_self": null,
            "height": null,
            "min_height": null,
            "padding": null,
            "grid_auto_rows": null,
            "grid_gap": null,
            "max_width": null,
            "order": null,
            "_view_module_version": "1.2.0",
            "grid_template_areas": null,
            "object_position": null,
            "object_fit": null,
            "grid_auto_columns": null,
            "margin": null,
            "display": null,
            "left": null
          }
        },
        "73363c5e5bc748b3b6a973f8cf74723d": {
          "model_module": "@jupyter-widgets/controls",
          "model_name": "DescriptionStyleModel",
          "state": {
            "_view_name": "StyleView",
            "_model_name": "DescriptionStyleModel",
            "description_width": "",
            "_view_module": "@jupyter-widgets/base",
            "_model_module_version": "1.5.0",
            "_view_count": null,
            "_view_module_version": "1.2.0",
            "_model_module": "@jupyter-widgets/controls"
          }
        },
        "15a8f19395b5453c8c3f540f90539d8b": {
          "model_module": "@jupyter-widgets/base",
          "model_name": "LayoutModel",
          "state": {
            "_view_name": "LayoutView",
            "grid_template_rows": null,
            "right": null,
            "justify_content": null,
            "_view_module": "@jupyter-widgets/base",
            "overflow": null,
            "_model_module_version": "1.2.0",
            "_view_count": null,
            "flex_flow": null,
            "width": null,
            "min_width": null,
            "border": null,
            "align_items": null,
            "bottom": null,
            "_model_module": "@jupyter-widgets/base",
            "top": null,
            "grid_column": null,
            "overflow_y": null,
            "overflow_x": null,
            "grid_auto_flow": null,
            "grid_area": null,
            "grid_template_columns": null,
            "flex": null,
            "_model_name": "LayoutModel",
            "justify_items": null,
            "grid_row": null,
            "max_height": null,
            "align_content": null,
            "visibility": null,
            "align_self": null,
            "height": null,
            "min_height": null,
            "padding": null,
            "grid_auto_rows": null,
            "grid_gap": null,
            "max_width": null,
            "order": null,
            "_view_module_version": "1.2.0",
            "grid_template_areas": null,
            "object_position": null,
            "object_fit": null,
            "grid_auto_columns": null,
            "margin": null,
            "display": null,
            "left": null
          }
        },
        "cee8a4855a44448e84b929a1ed0e59b6": {
          "model_module": "@jupyter-widgets/controls",
          "model_name": "HBoxModel",
          "state": {
            "_view_name": "HBoxView",
            "_dom_classes": [],
            "_model_name": "HBoxModel",
            "_view_module": "@jupyter-widgets/controls",
            "_model_module_version": "1.5.0",
            "_view_count": null,
            "_view_module_version": "1.5.0",
            "box_style": "",
            "layout": "IPY_MODEL_968e706ea6474597a398e9fbd8f02976",
            "_model_module": "@jupyter-widgets/controls",
            "children": [
              "IPY_MODEL_ed0b3c15b5cd46c6bdd4207a7d758510",
              "IPY_MODEL_7a7d0a8db0fc416296317e56a3ca9eec"
            ]
          }
        },
        "968e706ea6474597a398e9fbd8f02976": {
          "model_module": "@jupyter-widgets/base",
          "model_name": "LayoutModel",
          "state": {
            "_view_name": "LayoutView",
            "grid_template_rows": null,
            "right": null,
            "justify_content": null,
            "_view_module": "@jupyter-widgets/base",
            "overflow": null,
            "_model_module_version": "1.2.0",
            "_view_count": null,
            "flex_flow": null,
            "width": null,
            "min_width": null,
            "border": null,
            "align_items": null,
            "bottom": null,
            "_model_module": "@jupyter-widgets/base",
            "top": null,
            "grid_column": null,
            "overflow_y": null,
            "overflow_x": null,
            "grid_auto_flow": null,
            "grid_area": null,
            "grid_template_columns": null,
            "flex": null,
            "_model_name": "LayoutModel",
            "justify_items": null,
            "grid_row": null,
            "max_height": null,
            "align_content": null,
            "visibility": null,
            "align_self": null,
            "height": null,
            "min_height": null,
            "padding": null,
            "grid_auto_rows": null,
            "grid_gap": null,
            "max_width": null,
            "order": null,
            "_view_module_version": "1.2.0",
            "grid_template_areas": null,
            "object_position": null,
            "object_fit": null,
            "grid_auto_columns": null,
            "margin": null,
            "display": null,
            "left": null
          }
        },
        "ed0b3c15b5cd46c6bdd4207a7d758510": {
          "model_module": "@jupyter-widgets/controls",
          "model_name": "FloatProgressModel",
          "state": {
            "_view_name": "ProgressView",
            "style": "IPY_MODEL_b1ca994299924d1f816634c6bfaa3e08",
            "_dom_classes": [],
            "description": "",
            "_model_name": "FloatProgressModel",
            "bar_style": "success",
            "max": 28881,
            "_view_module": "@jupyter-widgets/controls",
            "_model_module_version": "1.5.0",
            "value": 28881,
            "_view_count": null,
            "_view_module_version": "1.5.0",
            "orientation": "horizontal",
            "min": 0,
            "description_tooltip": null,
            "_model_module": "@jupyter-widgets/controls",
            "layout": "IPY_MODEL_f46afb7ec68040a69a8051dc64cda58d"
          }
        },
        "7a7d0a8db0fc416296317e56a3ca9eec": {
          "model_module": "@jupyter-widgets/controls",
          "model_name": "HTMLModel",
          "state": {
            "_view_name": "HTMLView",
            "style": "IPY_MODEL_60a0333687284d84aa80cfcad7bb9aab",
            "_dom_classes": [],
            "description": "",
            "_model_name": "HTMLModel",
            "placeholder": "​",
            "_view_module": "@jupyter-widgets/controls",
            "_model_module_version": "1.5.0",
            "value": " 29696/? [00:00&lt;00:00, 30059.04it/s]",
            "_view_count": null,
            "_view_module_version": "1.5.0",
            "description_tooltip": null,
            "_model_module": "@jupyter-widgets/controls",
            "layout": "IPY_MODEL_78a675950e6b4c8fa814ee3937573757"
          }
        },
        "b1ca994299924d1f816634c6bfaa3e08": {
          "model_module": "@jupyter-widgets/controls",
          "model_name": "ProgressStyleModel",
          "state": {
            "_view_name": "StyleView",
            "_model_name": "ProgressStyleModel",
            "description_width": "initial",
            "_view_module": "@jupyter-widgets/base",
            "_model_module_version": "1.5.0",
            "_view_count": null,
            "_view_module_version": "1.2.0",
            "bar_color": null,
            "_model_module": "@jupyter-widgets/controls"
          }
        },
        "f46afb7ec68040a69a8051dc64cda58d": {
          "model_module": "@jupyter-widgets/base",
          "model_name": "LayoutModel",
          "state": {
            "_view_name": "LayoutView",
            "grid_template_rows": null,
            "right": null,
            "justify_content": null,
            "_view_module": "@jupyter-widgets/base",
            "overflow": null,
            "_model_module_version": "1.2.0",
            "_view_count": null,
            "flex_flow": null,
            "width": null,
            "min_width": null,
            "border": null,
            "align_items": null,
            "bottom": null,
            "_model_module": "@jupyter-widgets/base",
            "top": null,
            "grid_column": null,
            "overflow_y": null,
            "overflow_x": null,
            "grid_auto_flow": null,
            "grid_area": null,
            "grid_template_columns": null,
            "flex": null,
            "_model_name": "LayoutModel",
            "justify_items": null,
            "grid_row": null,
            "max_height": null,
            "align_content": null,
            "visibility": null,
            "align_self": null,
            "height": null,
            "min_height": null,
            "padding": null,
            "grid_auto_rows": null,
            "grid_gap": null,
            "max_width": null,
            "order": null,
            "_view_module_version": "1.2.0",
            "grid_template_areas": null,
            "object_position": null,
            "object_fit": null,
            "grid_auto_columns": null,
            "margin": null,
            "display": null,
            "left": null
          }
        },
        "60a0333687284d84aa80cfcad7bb9aab": {
          "model_module": "@jupyter-widgets/controls",
          "model_name": "DescriptionStyleModel",
          "state": {
            "_view_name": "StyleView",
            "_model_name": "DescriptionStyleModel",
            "description_width": "",
            "_view_module": "@jupyter-widgets/base",
            "_model_module_version": "1.5.0",
            "_view_count": null,
            "_view_module_version": "1.2.0",
            "_model_module": "@jupyter-widgets/controls"
          }
        },
        "78a675950e6b4c8fa814ee3937573757": {
          "model_module": "@jupyter-widgets/base",
          "model_name": "LayoutModel",
          "state": {
            "_view_name": "LayoutView",
            "grid_template_rows": null,
            "right": null,
            "justify_content": null,
            "_view_module": "@jupyter-widgets/base",
            "overflow": null,
            "_model_module_version": "1.2.0",
            "_view_count": null,
            "flex_flow": null,
            "width": null,
            "min_width": null,
            "border": null,
            "align_items": null,
            "bottom": null,
            "_model_module": "@jupyter-widgets/base",
            "top": null,
            "grid_column": null,
            "overflow_y": null,
            "overflow_x": null,
            "grid_auto_flow": null,
            "grid_area": null,
            "grid_template_columns": null,
            "flex": null,
            "_model_name": "LayoutModel",
            "justify_items": null,
            "grid_row": null,
            "max_height": null,
            "align_content": null,
            "visibility": null,
            "align_self": null,
            "height": null,
            "min_height": null,
            "padding": null,
            "grid_auto_rows": null,
            "grid_gap": null,
            "max_width": null,
            "order": null,
            "_view_module_version": "1.2.0",
            "grid_template_areas": null,
            "object_position": null,
            "object_fit": null,
            "grid_auto_columns": null,
            "margin": null,
            "display": null,
            "left": null
          }
        },
        "beb5538e12834d4fb0cf60a36f8efb3a": {
          "model_module": "@jupyter-widgets/controls",
          "model_name": "HBoxModel",
          "state": {
            "_view_name": "HBoxView",
            "_dom_classes": [],
            "_model_name": "HBoxModel",
            "_view_module": "@jupyter-widgets/controls",
            "_model_module_version": "1.5.0",
            "_view_count": null,
            "_view_module_version": "1.5.0",
            "box_style": "",
            "layout": "IPY_MODEL_2a8c10f5bea741709111678ed78028f8",
            "_model_module": "@jupyter-widgets/controls",
            "children": [
              "IPY_MODEL_70067c39debc499c89d27f6ecf54a937",
              "IPY_MODEL_88322a99ed92461397a49fb07a315732"
            ]
          }
        },
        "2a8c10f5bea741709111678ed78028f8": {
          "model_module": "@jupyter-widgets/base",
          "model_name": "LayoutModel",
          "state": {
            "_view_name": "LayoutView",
            "grid_template_rows": null,
            "right": null,
            "justify_content": null,
            "_view_module": "@jupyter-widgets/base",
            "overflow": null,
            "_model_module_version": "1.2.0",
            "_view_count": null,
            "flex_flow": null,
            "width": null,
            "min_width": null,
            "border": null,
            "align_items": null,
            "bottom": null,
            "_model_module": "@jupyter-widgets/base",
            "top": null,
            "grid_column": null,
            "overflow_y": null,
            "overflow_x": null,
            "grid_auto_flow": null,
            "grid_area": null,
            "grid_template_columns": null,
            "flex": null,
            "_model_name": "LayoutModel",
            "justify_items": null,
            "grid_row": null,
            "max_height": null,
            "align_content": null,
            "visibility": null,
            "align_self": null,
            "height": null,
            "min_height": null,
            "padding": null,
            "grid_auto_rows": null,
            "grid_gap": null,
            "max_width": null,
            "order": null,
            "_view_module_version": "1.2.0",
            "grid_template_areas": null,
            "object_position": null,
            "object_fit": null,
            "grid_auto_columns": null,
            "margin": null,
            "display": null,
            "left": null
          }
        },
        "70067c39debc499c89d27f6ecf54a937": {
          "model_module": "@jupyter-widgets/controls",
          "model_name": "FloatProgressModel",
          "state": {
            "_view_name": "ProgressView",
            "style": "IPY_MODEL_1f8fca23e77e4e758edb11c34f9dcb89",
            "_dom_classes": [],
            "description": "",
            "_model_name": "FloatProgressModel",
            "bar_style": "success",
            "max": 1648877,
            "_view_module": "@jupyter-widgets/controls",
            "_model_module_version": "1.5.0",
            "value": 1648877,
            "_view_count": null,
            "_view_module_version": "1.5.0",
            "orientation": "horizontal",
            "min": 0,
            "description_tooltip": null,
            "_model_module": "@jupyter-widgets/controls",
            "layout": "IPY_MODEL_c095f10af5c24dc08f2c0591a900023b"
          }
        },
        "88322a99ed92461397a49fb07a315732": {
          "model_module": "@jupyter-widgets/controls",
          "model_name": "HTMLModel",
          "state": {
            "_view_name": "HTMLView",
            "style": "IPY_MODEL_5c91521a1dfd4fd58d3aae484dcb91bb",
            "_dom_classes": [],
            "description": "",
            "_model_name": "HTMLModel",
            "placeholder": "​",
            "_view_module": "@jupyter-widgets/controls",
            "_model_module_version": "1.5.0",
            "value": " 1649664/? [17:58&lt;00:00, 1529.94it/s]",
            "_view_count": null,
            "_view_module_version": "1.5.0",
            "description_tooltip": null,
            "_model_module": "@jupyter-widgets/controls",
            "layout": "IPY_MODEL_2181ad3c25b341d0a088ab8bc35b9497"
          }
        },
        "1f8fca23e77e4e758edb11c34f9dcb89": {
          "model_module": "@jupyter-widgets/controls",
          "model_name": "ProgressStyleModel",
          "state": {
            "_view_name": "StyleView",
            "_model_name": "ProgressStyleModel",
            "description_width": "initial",
            "_view_module": "@jupyter-widgets/base",
            "_model_module_version": "1.5.0",
            "_view_count": null,
            "_view_module_version": "1.2.0",
            "bar_color": null,
            "_model_module": "@jupyter-widgets/controls"
          }
        },
        "c095f10af5c24dc08f2c0591a900023b": {
          "model_module": "@jupyter-widgets/base",
          "model_name": "LayoutModel",
          "state": {
            "_view_name": "LayoutView",
            "grid_template_rows": null,
            "right": null,
            "justify_content": null,
            "_view_module": "@jupyter-widgets/base",
            "overflow": null,
            "_model_module_version": "1.2.0",
            "_view_count": null,
            "flex_flow": null,
            "width": null,
            "min_width": null,
            "border": null,
            "align_items": null,
            "bottom": null,
            "_model_module": "@jupyter-widgets/base",
            "top": null,
            "grid_column": null,
            "overflow_y": null,
            "overflow_x": null,
            "grid_auto_flow": null,
            "grid_area": null,
            "grid_template_columns": null,
            "flex": null,
            "_model_name": "LayoutModel",
            "justify_items": null,
            "grid_row": null,
            "max_height": null,
            "align_content": null,
            "visibility": null,
            "align_self": null,
            "height": null,
            "min_height": null,
            "padding": null,
            "grid_auto_rows": null,
            "grid_gap": null,
            "max_width": null,
            "order": null,
            "_view_module_version": "1.2.0",
            "grid_template_areas": null,
            "object_position": null,
            "object_fit": null,
            "grid_auto_columns": null,
            "margin": null,
            "display": null,
            "left": null
          }
        },
        "5c91521a1dfd4fd58d3aae484dcb91bb": {
          "model_module": "@jupyter-widgets/controls",
          "model_name": "DescriptionStyleModel",
          "state": {
            "_view_name": "StyleView",
            "_model_name": "DescriptionStyleModel",
            "description_width": "",
            "_view_module": "@jupyter-widgets/base",
            "_model_module_version": "1.5.0",
            "_view_count": null,
            "_view_module_version": "1.2.0",
            "_model_module": "@jupyter-widgets/controls"
          }
        },
        "2181ad3c25b341d0a088ab8bc35b9497": {
          "model_module": "@jupyter-widgets/base",
          "model_name": "LayoutModel",
          "state": {
            "_view_name": "LayoutView",
            "grid_template_rows": null,
            "right": null,
            "justify_content": null,
            "_view_module": "@jupyter-widgets/base",
            "overflow": null,
            "_model_module_version": "1.2.0",
            "_view_count": null,
            "flex_flow": null,
            "width": null,
            "min_width": null,
            "border": null,
            "align_items": null,
            "bottom": null,
            "_model_module": "@jupyter-widgets/base",
            "top": null,
            "grid_column": null,
            "overflow_y": null,
            "overflow_x": null,
            "grid_auto_flow": null,
            "grid_area": null,
            "grid_template_columns": null,
            "flex": null,
            "_model_name": "LayoutModel",
            "justify_items": null,
            "grid_row": null,
            "max_height": null,
            "align_content": null,
            "visibility": null,
            "align_self": null,
            "height": null,
            "min_height": null,
            "padding": null,
            "grid_auto_rows": null,
            "grid_gap": null,
            "max_width": null,
            "order": null,
            "_view_module_version": "1.2.0",
            "grid_template_areas": null,
            "object_position": null,
            "object_fit": null,
            "grid_auto_columns": null,
            "margin": null,
            "display": null,
            "left": null
          }
        },
        "8ecc6f411d974f508720404e7420dfea": {
          "model_module": "@jupyter-widgets/controls",
          "model_name": "HBoxModel",
          "state": {
            "_view_name": "HBoxView",
            "_dom_classes": [],
            "_model_name": "HBoxModel",
            "_view_module": "@jupyter-widgets/controls",
            "_model_module_version": "1.5.0",
            "_view_count": null,
            "_view_module_version": "1.5.0",
            "box_style": "",
            "layout": "IPY_MODEL_f93a8615d0374fc8b6c87af8b39f62d9",
            "_model_module": "@jupyter-widgets/controls",
            "children": [
              "IPY_MODEL_4dc304b1699447c8b44984deaac82838",
              "IPY_MODEL_0447e6e3e8444aa9b916392f8a564e7b"
            ]
          }
        },
        "f93a8615d0374fc8b6c87af8b39f62d9": {
          "model_module": "@jupyter-widgets/base",
          "model_name": "LayoutModel",
          "state": {
            "_view_name": "LayoutView",
            "grid_template_rows": null,
            "right": null,
            "justify_content": null,
            "_view_module": "@jupyter-widgets/base",
            "overflow": null,
            "_model_module_version": "1.2.0",
            "_view_count": null,
            "flex_flow": null,
            "width": null,
            "min_width": null,
            "border": null,
            "align_items": null,
            "bottom": null,
            "_model_module": "@jupyter-widgets/base",
            "top": null,
            "grid_column": null,
            "overflow_y": null,
            "overflow_x": null,
            "grid_auto_flow": null,
            "grid_area": null,
            "grid_template_columns": null,
            "flex": null,
            "_model_name": "LayoutModel",
            "justify_items": null,
            "grid_row": null,
            "max_height": null,
            "align_content": null,
            "visibility": null,
            "align_self": null,
            "height": null,
            "min_height": null,
            "padding": null,
            "grid_auto_rows": null,
            "grid_gap": null,
            "max_width": null,
            "order": null,
            "_view_module_version": "1.2.0",
            "grid_template_areas": null,
            "object_position": null,
            "object_fit": null,
            "grid_auto_columns": null,
            "margin": null,
            "display": null,
            "left": null
          }
        },
        "4dc304b1699447c8b44984deaac82838": {
          "model_module": "@jupyter-widgets/controls",
          "model_name": "FloatProgressModel",
          "state": {
            "_view_name": "ProgressView",
            "style": "IPY_MODEL_94c1fc9dac86420d87426f7b008455f3",
            "_dom_classes": [],
            "description": "",
            "_model_name": "FloatProgressModel",
            "bar_style": "success",
            "max": 4542,
            "_view_module": "@jupyter-widgets/controls",
            "_model_module_version": "1.5.0",
            "value": 4542,
            "_view_count": null,
            "_view_module_version": "1.5.0",
            "orientation": "horizontal",
            "min": 0,
            "description_tooltip": null,
            "_model_module": "@jupyter-widgets/controls",
            "layout": "IPY_MODEL_34395115f9b646f6a3f70cdc805ba722"
          }
        },
        "0447e6e3e8444aa9b916392f8a564e7b": {
          "model_module": "@jupyter-widgets/controls",
          "model_name": "HTMLModel",
          "state": {
            "_view_name": "HTMLView",
            "style": "IPY_MODEL_dfbec645f6db441e87842245d9c87f28",
            "_dom_classes": [],
            "description": "",
            "_model_name": "HTMLModel",
            "placeholder": "​",
            "_view_module": "@jupyter-widgets/controls",
            "_model_module_version": "1.5.0",
            "value": " 5120/? [02:31&lt;00:00, 33.85it/s]",
            "_view_count": null,
            "_view_module_version": "1.5.0",
            "description_tooltip": null,
            "_model_module": "@jupyter-widgets/controls",
            "layout": "IPY_MODEL_51add564908b4c569c5faad0d1b816c0"
          }
        },
        "94c1fc9dac86420d87426f7b008455f3": {
          "model_module": "@jupyter-widgets/controls",
          "model_name": "ProgressStyleModel",
          "state": {
            "_view_name": "StyleView",
            "_model_name": "ProgressStyleModel",
            "description_width": "initial",
            "_view_module": "@jupyter-widgets/base",
            "_model_module_version": "1.5.0",
            "_view_count": null,
            "_view_module_version": "1.2.0",
            "bar_color": null,
            "_model_module": "@jupyter-widgets/controls"
          }
        },
        "34395115f9b646f6a3f70cdc805ba722": {
          "model_module": "@jupyter-widgets/base",
          "model_name": "LayoutModel",
          "state": {
            "_view_name": "LayoutView",
            "grid_template_rows": null,
            "right": null,
            "justify_content": null,
            "_view_module": "@jupyter-widgets/base",
            "overflow": null,
            "_model_module_version": "1.2.0",
            "_view_count": null,
            "flex_flow": null,
            "width": null,
            "min_width": null,
            "border": null,
            "align_items": null,
            "bottom": null,
            "_model_module": "@jupyter-widgets/base",
            "top": null,
            "grid_column": null,
            "overflow_y": null,
            "overflow_x": null,
            "grid_auto_flow": null,
            "grid_area": null,
            "grid_template_columns": null,
            "flex": null,
            "_model_name": "LayoutModel",
            "justify_items": null,
            "grid_row": null,
            "max_height": null,
            "align_content": null,
            "visibility": null,
            "align_self": null,
            "height": null,
            "min_height": null,
            "padding": null,
            "grid_auto_rows": null,
            "grid_gap": null,
            "max_width": null,
            "order": null,
            "_view_module_version": "1.2.0",
            "grid_template_areas": null,
            "object_position": null,
            "object_fit": null,
            "grid_auto_columns": null,
            "margin": null,
            "display": null,
            "left": null
          }
        },
        "dfbec645f6db441e87842245d9c87f28": {
          "model_module": "@jupyter-widgets/controls",
          "model_name": "DescriptionStyleModel",
          "state": {
            "_view_name": "StyleView",
            "_model_name": "DescriptionStyleModel",
            "description_width": "",
            "_view_module": "@jupyter-widgets/base",
            "_model_module_version": "1.5.0",
            "_view_count": null,
            "_view_module_version": "1.2.0",
            "_model_module": "@jupyter-widgets/controls"
          }
        },
        "51add564908b4c569c5faad0d1b816c0": {
          "model_module": "@jupyter-widgets/base",
          "model_name": "LayoutModel",
          "state": {
            "_view_name": "LayoutView",
            "grid_template_rows": null,
            "right": null,
            "justify_content": null,
            "_view_module": "@jupyter-widgets/base",
            "overflow": null,
            "_model_module_version": "1.2.0",
            "_view_count": null,
            "flex_flow": null,
            "width": null,
            "min_width": null,
            "border": null,
            "align_items": null,
            "bottom": null,
            "_model_module": "@jupyter-widgets/base",
            "top": null,
            "grid_column": null,
            "overflow_y": null,
            "overflow_x": null,
            "grid_auto_flow": null,
            "grid_area": null,
            "grid_template_columns": null,
            "flex": null,
            "_model_name": "LayoutModel",
            "justify_items": null,
            "grid_row": null,
            "max_height": null,
            "align_content": null,
            "visibility": null,
            "align_self": null,
            "height": null,
            "min_height": null,
            "padding": null,
            "grid_auto_rows": null,
            "grid_gap": null,
            "max_width": null,
            "order": null,
            "_view_module_version": "1.2.0",
            "grid_template_areas": null,
            "object_position": null,
            "object_fit": null,
            "grid_auto_columns": null,
            "margin": null,
            "display": null,
            "left": null
          }
        }
      }
    }
  },
  "cells": [
    {
      "cell_type": "markdown",
      "metadata": {
        "id": "view-in-github",
        "colab_type": "text"
      },
      "source": [
        "<a href=\"https://colab.research.google.com/github/KaveeshBaddage/DataScienceImpl/blob/main/Copy_of_Generative_Adversarial_Network_(GAN)_for_MNIST_kaveesha_v4.ipynb\" target=\"_parent\"><img src=\"https://colab.research.google.com/assets/colab-badge.svg\" alt=\"Open In Colab\"/></a>"
      ]
    },
    {
      "cell_type": "code",
      "metadata": {
        "id": "-WJ-pykBpiLi"
      },
      "source": [
        "import torch\n",
        "import torch.nn as nn\n",
        "import torch.nn.functional as F\n",
        "import torch.optim as optim\n",
        "from torchvision import datasets, transforms\n",
        "from torch.autograd import Variable\n",
        "from torchvision.utils import save_image\n",
        "\n",
        "import pickle as pkl\n",
        "\n",
        "from google.colab import files\n",
        "\n",
        "import numpy as np\n",
        "\n",
        "#to download the zipped files\n",
        "import shutil\n",
        "\n",
        "# Device configuration\n",
        "device = torch.device('cuda' if torch.cuda.is_available() else 'cpu')"
      ],
      "execution_count": 48,
      "outputs": []
    },
    {
      "cell_type": "markdown",
      "metadata": {
        "id": "tm7_dUO283-Z"
      },
      "source": [
        "Load MNIST Data set to Run Time\n",
        "\n",
        "\n",
        "\n",
        "transform=ToTensor() <- converts data in the range 0-255 to 0-1.\n",
        "\n"
      ]
    },
    {
      "cell_type": "code",
      "metadata": {
        "colab": {
          "base_uri": "https://localhost:8080/",
          "height": 845,
          "referenced_widgets": [
            "0883e47fa0074bd5ab107dcc1bdff908",
            "1716ab5b04ea46bfba7ad4fd3bebb718",
            "9a30ba6b0bd44cf381ae379980b7428c",
            "258a10ebda7d46c0a289f2de79df320f",
            "c4e6e84c31ee4183b0e563015a754bb3",
            "7aa59409e6cd4a1084ee734cd717cb9d",
            "73363c5e5bc748b3b6a973f8cf74723d",
            "15a8f19395b5453c8c3f540f90539d8b",
            "cee8a4855a44448e84b929a1ed0e59b6",
            "968e706ea6474597a398e9fbd8f02976",
            "ed0b3c15b5cd46c6bdd4207a7d758510",
            "7a7d0a8db0fc416296317e56a3ca9eec",
            "b1ca994299924d1f816634c6bfaa3e08",
            "f46afb7ec68040a69a8051dc64cda58d",
            "60a0333687284d84aa80cfcad7bb9aab",
            "78a675950e6b4c8fa814ee3937573757",
            "beb5538e12834d4fb0cf60a36f8efb3a",
            "2a8c10f5bea741709111678ed78028f8",
            "70067c39debc499c89d27f6ecf54a937",
            "88322a99ed92461397a49fb07a315732",
            "1f8fca23e77e4e758edb11c34f9dcb89",
            "c095f10af5c24dc08f2c0591a900023b",
            "5c91521a1dfd4fd58d3aae484dcb91bb",
            "2181ad3c25b341d0a088ab8bc35b9497",
            "8ecc6f411d974f508720404e7420dfea",
            "f93a8615d0374fc8b6c87af8b39f62d9",
            "4dc304b1699447c8b44984deaac82838",
            "0447e6e3e8444aa9b916392f8a564e7b",
            "94c1fc9dac86420d87426f7b008455f3",
            "34395115f9b646f6a3f70cdc805ba722",
            "dfbec645f6db441e87842245d9c87f28",
            "51add564908b4c569c5faad0d1b816c0"
          ]
        },
        "id": "WHzfPJrB70VM",
        "outputId": "46305a4e-4447-4515-8968-83ee49c25b5b"
      },
      "source": [
        "transform = transforms.Compose([transforms.ToTensor(),\n",
        "  transforms.Normalize((0.5,), (0.5,))\n",
        "])\n",
        "\n",
        "train_dataset = datasets.MNIST(\n",
        "    root='data/',\n",
        "    train=True,\n",
        "    download=True,\n",
        "    transform=transform\n",
        "    )  \n",
        "print(\"train_dataset.data.size() ->\",train_dataset.data.size())\n",
        "\n",
        "# Dataset stores the samples and their corresponding labels, and DataLoader wraps an iterable around the Dataset to enable easy access to the samples.\n",
        "train_loader = torch.utils.data.DataLoader(\n",
        "    dataset=train_dataset, \n",
        "    batch_size=100,\n",
        "    shuffle=True\n",
        "    # num_workers=0\n",
        "    )\n",
        "\n",
        "test_dataset = datasets.MNIST(\n",
        "    root='data/', \n",
        "    train=False, \n",
        "    transform=transform\n",
        "    )\n",
        "print(\"test_dataset_sizec ->\",test_dataset.data.size())\n",
        "\n",
        "\n",
        "test_loader = torch.utils.data.DataLoader(\n",
        "    dataset=test_dataset, \n",
        "    batch_size=100,\n",
        "    # num_workers=0\n",
        "    shuffle=True\n",
        "    )"
      ],
      "execution_count": 8,
      "outputs": [
        {
          "output_type": "stream",
          "text": [
            "Downloading http://yann.lecun.com/exdb/mnist/train-images-idx3-ubyte.gz\n",
            "Failed to download (trying next):\n",
            "HTTP Error 503: Service Unavailable\n",
            "\n",
            "Downloading https://ossci-datasets.s3.amazonaws.com/mnist/train-images-idx3-ubyte.gz\n",
            "Downloading https://ossci-datasets.s3.amazonaws.com/mnist/train-images-idx3-ubyte.gz to data/MNIST/raw/train-images-idx3-ubyte.gz\n"
          ],
          "name": "stdout"
        },
        {
          "output_type": "display_data",
          "data": {
            "application/vnd.jupyter.widget-view+json": {
              "model_id": "0883e47fa0074bd5ab107dcc1bdff908",
              "version_minor": 0,
              "version_major": 2
            },
            "text/plain": [
              "HBox(children=(FloatProgress(value=0.0, max=9912422.0), HTML(value='')))"
            ]
          },
          "metadata": {
            "tags": []
          }
        },
        {
          "output_type": "stream",
          "text": [
            "\n",
            "Extracting data/MNIST/raw/train-images-idx3-ubyte.gz to data/MNIST/raw\n",
            "\n",
            "Downloading http://yann.lecun.com/exdb/mnist/train-labels-idx1-ubyte.gz\n",
            "Failed to download (trying next):\n",
            "HTTP Error 503: Service Unavailable\n",
            "\n",
            "Downloading https://ossci-datasets.s3.amazonaws.com/mnist/train-labels-idx1-ubyte.gz\n",
            "Downloading https://ossci-datasets.s3.amazonaws.com/mnist/train-labels-idx1-ubyte.gz to data/MNIST/raw/train-labels-idx1-ubyte.gz\n"
          ],
          "name": "stdout"
        },
        {
          "output_type": "display_data",
          "data": {
            "application/vnd.jupyter.widget-view+json": {
              "model_id": "cee8a4855a44448e84b929a1ed0e59b6",
              "version_minor": 0,
              "version_major": 2
            },
            "text/plain": [
              "HBox(children=(FloatProgress(value=0.0, max=28881.0), HTML(value='')))"
            ]
          },
          "metadata": {
            "tags": []
          }
        },
        {
          "output_type": "stream",
          "text": [
            "\n",
            "Extracting data/MNIST/raw/train-labels-idx1-ubyte.gz to data/MNIST/raw\n",
            "\n",
            "Downloading http://yann.lecun.com/exdb/mnist/t10k-images-idx3-ubyte.gz\n",
            "Failed to download (trying next):\n",
            "HTTP Error 503: Service Unavailable\n",
            "\n",
            "Downloading https://ossci-datasets.s3.amazonaws.com/mnist/t10k-images-idx3-ubyte.gz\n",
            "Downloading https://ossci-datasets.s3.amazonaws.com/mnist/t10k-images-idx3-ubyte.gz to data/MNIST/raw/t10k-images-idx3-ubyte.gz\n"
          ],
          "name": "stdout"
        },
        {
          "output_type": "display_data",
          "data": {
            "application/vnd.jupyter.widget-view+json": {
              "model_id": "beb5538e12834d4fb0cf60a36f8efb3a",
              "version_minor": 0,
              "version_major": 2
            },
            "text/plain": [
              "HBox(children=(FloatProgress(value=0.0, max=1648877.0), HTML(value='')))"
            ]
          },
          "metadata": {
            "tags": []
          }
        },
        {
          "output_type": "stream",
          "text": [
            "\n",
            "Extracting data/MNIST/raw/t10k-images-idx3-ubyte.gz to data/MNIST/raw\n",
            "\n",
            "Downloading http://yann.lecun.com/exdb/mnist/t10k-labels-idx1-ubyte.gz\n",
            "Failed to download (trying next):\n",
            "HTTP Error 503: Service Unavailable\n",
            "\n",
            "Downloading https://ossci-datasets.s3.amazonaws.com/mnist/t10k-labels-idx1-ubyte.gz\n",
            "Downloading https://ossci-datasets.s3.amazonaws.com/mnist/t10k-labels-idx1-ubyte.gz to data/MNIST/raw/t10k-labels-idx1-ubyte.gz\n"
          ],
          "name": "stdout"
        },
        {
          "output_type": "display_data",
          "data": {
            "application/vnd.jupyter.widget-view+json": {
              "model_id": "8ecc6f411d974f508720404e7420dfea",
              "version_minor": 0,
              "version_major": 2
            },
            "text/plain": [
              "HBox(children=(FloatProgress(value=0.0, max=4542.0), HTML(value='')))"
            ]
          },
          "metadata": {
            "tags": []
          }
        },
        {
          "output_type": "stream",
          "text": [
            "\n",
            "Extracting data/MNIST/raw/t10k-labels-idx1-ubyte.gz to data/MNIST/raw\n",
            "\n",
            "train_dataset.data.size() -> torch.Size([60000, 28, 28])\n",
            "test_dataset_sizec -> torch.Size([10000, 28, 28])\n"
          ],
          "name": "stdout"
        },
        {
          "output_type": "stream",
          "text": [
            "/usr/local/lib/python3.7/dist-packages/torchvision/datasets/mnist.py:498: UserWarning: The given NumPy array is not writeable, and PyTorch does not support non-writeable tensors. This means you can write to the underlying (supposedly non-writeable) NumPy array using the tensor. You may want to copy the array to protect its data or make it writeable before converting it to a tensor. This type of warning will be suppressed for the rest of this program. (Triggered internally at  /pytorch/torch/csrc/utils/tensor_numpy.cpp:180.)\n",
            "  return torch.from_numpy(parsed.astype(m[2], copy=False)).view(*s)\n"
          ],
          "name": "stderr"
        }
      ]
    },
    {
      "cell_type": "markdown",
      "metadata": {
        "id": "2tcm_9x51kgx"
      },
      "source": [
        "# torch.utils.data.DataLoader Parameters\n",
        "\n",
        "dataset (Dataset) – dataset from which to load the data.\n",
        "\n",
        "batch_size (int, optional) – how many samples per batch to load (default: 1).\n",
        "\n",
        "num_workers (int, optional) – how many subprocesses to use for data loading. 0 means that the data will be loaded in the main process.\n",
        "\n",
        "\n",
        "----------\n",
        "\n",
        "The iter() function creates an object which can be iterated one element at a time.\n",
        "\n"
      ]
    },
    {
      "cell_type": "code",
      "metadata": {
        "id": "LEl7U-Qrzrc8"
      },
      "source": [
        "# defining Discriminator class\n",
        "\n",
        "class Discriminator(nn.Module):\n",
        "\n",
        "    def __init__(self, input_size, d_output_size):\n",
        "        # access methods from parent class nn.Module\n",
        "        super(Discriminator, self).__init__()\n",
        "        \n",
        "        # define hidden linear layers\n",
        "        self.fc1 = nn.Linear(input_size, 1024)\n",
        "        self.fc2 = nn.Linear(self.fc1.out_features, self.fc1.out_features//2)\n",
        "        self.fc3 = nn.Linear(self.fc2.out_features, self.fc1.out_features//2)\n",
        "        \n",
        "        # final fully-connected layer\n",
        "        self.fc4 = nn.Linear(self.fc3.out_features, d_output_size)\n",
        "        \n",
        "    def forward(self, x):\n",
        "        # flatten image\n",
        "        x = x.view(-1, 28*28) #  reshape the tensor to 28*28 tensor\n",
        "        # all hidden layers\n",
        "        x = F.leaky_relu(self.fc1(x), 0.2) # (input, negative_slope=0.2) This function returns x if it receives any positive input, but for any negative value of x, it returns a really small value which is 0.02 times x\n",
        "        x = F.dropout(x, 0.3)\n",
        "        x = F.leaky_relu(self.fc2(x), 0.2)\n",
        "        x = F.dropout(x, 0.3)\n",
        "        x = F.leaky_relu(self.fc3(x), 0.2)\n",
        "        x = F.dropout(x, 0.3)\n",
        "        # final layer\n",
        "        out = torch.sigmoid(self.fc4(x))\n",
        "\n",
        "\n",
        "        return out"
      ],
      "execution_count": 9,
      "outputs": []
    },
    {
      "cell_type": "code",
      "metadata": {
        "id": "JHtnuKw1dRoF"
      },
      "source": [
        "# defining generator class 1\n",
        "\n",
        "class Generator(nn.Module):\n",
        "\n",
        "    def __init__(self, input_size, g_output_size):\n",
        "        super(Generator, self).__init__()\n",
        "        \n",
        "        # define hidden linear layers\n",
        "        self.fc1 = nn.Linear(input_size, 256)\n",
        "        self.fc2 = nn.Linear(self.fc1.out_features, self.fc1.out_features*2)\n",
        "        self.fc3 = nn.Linear(self.fc2.out_features, self.fc1.out_features*2)\n",
        "        \n",
        "        # final fully-connected layer\n",
        "        self.fc4 = nn.Linear(self.fc3.out_features, g_output_size)\n",
        "\n",
        "    def forward(self, x):\n",
        "        # all hidden layers\n",
        "        x = F.leaky_relu(self.fc1(x), 0.2) # (input, negative_slope=0.2)\n",
        "        x = F.leaky_relu(self.fc2(x), 0.2)\n",
        "        x = F.leaky_relu(self.fc3(x), 0.2)\n",
        "        out = torch.tanh(self.fc4(x))\n",
        "\n",
        "        return out"
      ],
      "execution_count": 10,
      "outputs": []
    },
    {
      "cell_type": "markdown",
      "metadata": {
        "id": "eZdam9tiIAF7"
      },
      "source": [
        "Reference - https://deeplizard.com/learn/video/bH9Nkg7G8S0"
      ]
    },
    {
      "cell_type": "markdown",
      "metadata": {
        "id": "hgZhSBCrE_A4"
      },
      "source": [
        "nn.Sequential - A sequential container. Modules will be added to it in the order they are passed in the constructor\n",
        "The Sequential class allows us to build PyTorch neural networks on-the-fly without having to build an explicit class\n",
        "\n",
        "---------\n",
        "\n",
        "Rectified Linear Activation Function(ReLU) do\n",
        "\n",
        "if(input > 0){\n",
        "\treturn input \n",
        "  }\n",
        "else{\n",
        "\treturn 0\n",
        "}"
      ]
    },
    {
      "cell_type": "code",
      "metadata": {
        "colab": {
          "base_uri": "https://localhost:8080/"
        },
        "id": "bpCg5qV_2Yei",
        "outputId": "1a764539-17cb-48e3-8e67-4b1ddb436b5f"
      },
      "source": [
        "\n",
        "# Discriminator hyperparams\n",
        "\n",
        "# Size of input image to discriminator (28*28)\n",
        "input_size = 784\n",
        "# Size of discriminator output (real or fake)\n",
        "d_output_size = 1\n",
        "# Size of last hidden layer in the discriminator\n",
        "d_hidden_size = 64\n",
        "\n",
        "# Generator hyperparams\n",
        "\n",
        "# Size of latent vector to give to generator\n",
        "z_size = 100\n",
        "# Size of discriminator output (generated image)\n",
        "g_output_size = 784\n",
        "# Size of first hidden layer in the generator\n",
        "g_hidden_size = 32\n",
        "\n",
        "\n",
        "D = Discriminator(input_size, d_output_size).to(device)\n",
        "G = Generator(z_size, g_output_size).to(device)\n",
        "\n",
        "# check that they are as you expect\n",
        "print(D)\n",
        "print()\n",
        "print(G)"
      ],
      "execution_count": 11,
      "outputs": [
        {
          "output_type": "stream",
          "text": [
            "Discriminator(\n",
            "  (fc1): Linear(in_features=784, out_features=1024, bias=True)\n",
            "  (fc2): Linear(in_features=1024, out_features=512, bias=True)\n",
            "  (fc3): Linear(in_features=512, out_features=512, bias=True)\n",
            "  (fc4): Linear(in_features=512, out_features=1, bias=True)\n",
            ")\n",
            "\n",
            "Generator(\n",
            "  (fc1): Linear(in_features=100, out_features=256, bias=True)\n",
            "  (fc2): Linear(in_features=256, out_features=512, bias=True)\n",
            "  (fc3): Linear(in_features=512, out_features=512, bias=True)\n",
            "  (fc4): Linear(in_features=512, out_features=784, bias=True)\n",
            ")\n"
          ],
          "name": "stdout"
        }
      ]
    },
    {
      "cell_type": "code",
      "metadata": {
        "id": "AskYo9UPxbES"
      },
      "source": [
        "# loss\n",
        "criterion = nn.BCELoss() \n",
        "\n",
        "# optimizer\n",
        "lr = 0.0002 \n",
        "G_optimizer = optim.Adam(G.parameters(), lr = lr)\n",
        "D_optimizer = optim.Adam(D.parameters(), lr = lr)"
      ],
      "execution_count": 6,
      "outputs": []
    },
    {
      "cell_type": "code",
      "metadata": {
        "id": "gmiP9uHaxedV"
      },
      "source": [
        "def D_train(x):\n",
        "    #=======================Train the discriminator=======================#\n",
        "    D.zero_grad()\n",
        "\n",
        "    # train discriminator on real\n",
        "    x_real, y_real = x.view(-1, 28*28), torch.ones(100, 1)\n",
        "    x_real, y_real = Variable(x_real.to(device)), Variable(y_real.to(device))\n",
        "\n",
        "    D_output = D(x_real)\n",
        "    D_real_loss = criterion(D_output, y_real)\n",
        "    D_real_score = D_output\n",
        "\n",
        "    # train discriminator on facke\n",
        "    z = Variable(torch.randn(100, 100).to(device))\n",
        "    x_fake, y_fake = G(z), Variable(torch.zeros(100, 1).to(device))\n",
        "\n",
        "    D_output = D(x_fake)\n",
        "    D_fake_loss = criterion(D_output, y_fake)\n",
        "    D_fake_score = D_output\n",
        "\n",
        "    # gradient backprop & optimize ONLY D's parameters\n",
        "    D_loss = D_real_loss + D_fake_loss\n",
        "    D_loss.backward()\n",
        "    D_optimizer.step()\n",
        "        \n",
        "    return  D_loss.data.item()"
      ],
      "execution_count": 7,
      "outputs": []
    },
    {
      "cell_type": "code",
      "metadata": {
        "id": "aOGWeJVIFEDZ"
      },
      "source": [
        "def G_train(x):\n",
        "    #=======================Train the generator=======================#\n",
        "    G.zero_grad()\n",
        "\n",
        "    z = Variable(torch.randn(100, 100).to(device))\n",
        "    y = Variable(torch.ones(100, 1).to(device))\n",
        "\n",
        "    G_output = G(z)\n",
        "    D_output = D(G_output)\n",
        "    G_loss = criterion(D_output, y)\n",
        "\n",
        "    # gradient backprop & optimize ONLY G's parameters\n",
        "    G_loss.backward()\n",
        "    G_optimizer.step()\n",
        "        \n",
        "    return G_loss.data.item()"
      ],
      "execution_count": 8,
      "outputs": []
    },
    {
      "cell_type": "markdown",
      "metadata": {
        "id": "mMn6WyJ0HYxI"
      },
      "source": [
        "*    train_loader contains 938 batches and each batch has 64 tensors. Because we define batch_size as 64 when storing dataset in to the DataLoader.\n",
        "    *    938 X 64 = 60032  // which equals to train_dataset:60000 \n",
        "*    Each tensor in a batch represent single image. \n",
        "*    Image representing tensor  has following format.\n",
        "    *    `[[28 real numbers][28 real numbers]]`\n",
        "\n"
      ]
    },
    {
      "cell_type": "code",
      "metadata": {
        "colab": {
          "base_uri": "https://localhost:8080/"
        },
        "id": "2hONjC0ixnxa",
        "outputId": "bfb5b3cb-ee2a-4feb-8245-b3f00e5552a8"
      },
      "source": [
        "n_epoch = 200\n",
        "for epoch in range(1, n_epoch+1):           \n",
        "    D_losses, G_losses = [], []\n",
        "    for batch_idx, (x, _) in enumerate(train_loader):\n",
        "        D_losses.append(D_train(x))\n",
        "        G_losses.append(G_train(x))\n",
        "\n",
        "    print('[%d/%d]: loss_d: %.3f, loss_g: %.3f' % (\n",
        "            (epoch), n_epoch, torch.mean(torch.FloatTensor(D_losses)), torch.mean(torch.FloatTensor(G_losses))))"
      ],
      "execution_count": 9,
      "outputs": [
        {
          "output_type": "stream",
          "text": [
            "[1/200]: loss_d: 0.748, loss_g: 3.923\n",
            "[2/200]: loss_d: 0.782, loss_g: 2.603\n",
            "[3/200]: loss_d: 0.791, loss_g: 2.585\n",
            "[4/200]: loss_d: 0.647, loss_g: 2.833\n",
            "[5/200]: loss_d: 0.356, loss_g: 3.651\n",
            "[6/200]: loss_d: 0.416, loss_g: 3.748\n",
            "[7/200]: loss_d: 0.448, loss_g: 3.351\n",
            "[8/200]: loss_d: 0.482, loss_g: 3.035\n",
            "[9/200]: loss_d: 0.490, loss_g: 3.161\n",
            "[10/200]: loss_d: 0.520, loss_g: 2.988\n",
            "[11/200]: loss_d: 0.540, loss_g: 2.736\n",
            "[12/200]: loss_d: 0.552, loss_g: 2.706\n",
            "[13/200]: loss_d: 0.600, loss_g: 2.437\n",
            "[14/200]: loss_d: 0.652, loss_g: 2.336\n",
            "[15/200]: loss_d: 0.651, loss_g: 2.338\n",
            "[16/200]: loss_d: 0.730, loss_g: 2.283\n",
            "[17/200]: loss_d: 0.698, loss_g: 2.214\n",
            "[18/200]: loss_d: 0.738, loss_g: 2.095\n",
            "[19/200]: loss_d: 0.808, loss_g: 1.891\n",
            "[20/200]: loss_d: 0.792, loss_g: 2.002\n",
            "[21/200]: loss_d: 0.792, loss_g: 1.947\n",
            "[22/200]: loss_d: 0.792, loss_g: 1.921\n",
            "[23/200]: loss_d: 0.862, loss_g: 1.737\n",
            "[24/200]: loss_d: 0.872, loss_g: 1.721\n",
            "[25/200]: loss_d: 0.891, loss_g: 1.667\n",
            "[26/200]: loss_d: 0.913, loss_g: 1.687\n",
            "[27/200]: loss_d: 0.885, loss_g: 1.674\n",
            "[28/200]: loss_d: 0.905, loss_g: 1.666\n",
            "[29/200]: loss_d: 0.923, loss_g: 1.586\n",
            "[30/200]: loss_d: 0.911, loss_g: 1.581\n",
            "[31/200]: loss_d: 0.947, loss_g: 1.501\n",
            "[32/200]: loss_d: 0.966, loss_g: 1.506\n",
            "[33/200]: loss_d: 0.982, loss_g: 1.467\n",
            "[34/200]: loss_d: 1.011, loss_g: 1.435\n",
            "[35/200]: loss_d: 1.018, loss_g: 1.399\n",
            "[36/200]: loss_d: 0.993, loss_g: 1.433\n",
            "[37/200]: loss_d: 1.012, loss_g: 1.404\n",
            "[38/200]: loss_d: 1.032, loss_g: 1.359\n",
            "[39/200]: loss_d: 1.032, loss_g: 1.359\n",
            "[40/200]: loss_d: 1.021, loss_g: 1.374\n",
            "[41/200]: loss_d: 1.049, loss_g: 1.313\n",
            "[42/200]: loss_d: 1.068, loss_g: 1.282\n",
            "[43/200]: loss_d: 1.075, loss_g: 1.265\n",
            "[44/200]: loss_d: 1.072, loss_g: 1.293\n",
            "[45/200]: loss_d: 1.046, loss_g: 1.339\n",
            "[46/200]: loss_d: 1.072, loss_g: 1.270\n",
            "[47/200]: loss_d: 1.079, loss_g: 1.269\n",
            "[48/200]: loss_d: 1.079, loss_g: 1.266\n",
            "[49/200]: loss_d: 1.077, loss_g: 1.272\n",
            "[50/200]: loss_d: 1.100, loss_g: 1.214\n",
            "[51/200]: loss_d: 1.095, loss_g: 1.221\n",
            "[52/200]: loss_d: 1.116, loss_g: 1.191\n",
            "[53/200]: loss_d: 1.107, loss_g: 1.200\n",
            "[54/200]: loss_d: 1.136, loss_g: 1.165\n",
            "[55/200]: loss_d: 1.128, loss_g: 1.171\n",
            "[56/200]: loss_d: 1.117, loss_g: 1.194\n",
            "[57/200]: loss_d: 1.128, loss_g: 1.161\n",
            "[58/200]: loss_d: 1.125, loss_g: 1.172\n",
            "[59/200]: loss_d: 1.138, loss_g: 1.152\n",
            "[60/200]: loss_d: 1.142, loss_g: 1.147\n",
            "[61/200]: loss_d: 1.159, loss_g: 1.121\n",
            "[62/200]: loss_d: 1.151, loss_g: 1.128\n",
            "[63/200]: loss_d: 1.162, loss_g: 1.098\n",
            "[64/200]: loss_d: 1.174, loss_g: 1.117\n",
            "[65/200]: loss_d: 1.163, loss_g: 1.101\n",
            "[66/200]: loss_d: 1.162, loss_g: 1.103\n",
            "[67/200]: loss_d: 1.172, loss_g: 1.102\n",
            "[68/200]: loss_d: 1.166, loss_g: 1.101\n",
            "[69/200]: loss_d: 1.178, loss_g: 1.075\n",
            "[70/200]: loss_d: 1.166, loss_g: 1.094\n",
            "[71/200]: loss_d: 1.176, loss_g: 1.078\n",
            "[72/200]: loss_d: 1.171, loss_g: 1.093\n",
            "[73/200]: loss_d: 1.172, loss_g: 1.091\n",
            "[74/200]: loss_d: 1.179, loss_g: 1.078\n",
            "[75/200]: loss_d: 1.179, loss_g: 1.056\n",
            "[76/200]: loss_d: 1.181, loss_g: 1.070\n",
            "[77/200]: loss_d: 1.184, loss_g: 1.062\n",
            "[78/200]: loss_d: 1.184, loss_g: 1.063\n",
            "[79/200]: loss_d: 1.181, loss_g: 1.077\n",
            "[80/200]: loss_d: 1.190, loss_g: 1.042\n",
            "[81/200]: loss_d: 1.185, loss_g: 1.075\n",
            "[82/200]: loss_d: 1.199, loss_g: 1.036\n",
            "[83/200]: loss_d: 1.196, loss_g: 1.037\n",
            "[84/200]: loss_d: 1.189, loss_g: 1.060\n",
            "[85/200]: loss_d: 1.185, loss_g: 1.051\n",
            "[86/200]: loss_d: 1.200, loss_g: 1.026\n",
            "[87/200]: loss_d: 1.209, loss_g: 1.012\n",
            "[88/200]: loss_d: 1.209, loss_g: 1.018\n",
            "[89/200]: loss_d: 1.200, loss_g: 1.025\n",
            "[90/200]: loss_d: 1.206, loss_g: 1.026\n",
            "[91/200]: loss_d: 1.202, loss_g: 1.019\n",
            "[92/200]: loss_d: 1.206, loss_g: 1.013\n",
            "[93/200]: loss_d: 1.212, loss_g: 1.002\n",
            "[94/200]: loss_d: 1.213, loss_g: 1.012\n",
            "[95/200]: loss_d: 1.218, loss_g: 1.005\n",
            "[96/200]: loss_d: 1.215, loss_g: 1.022\n",
            "[97/200]: loss_d: 1.216, loss_g: 1.007\n",
            "[98/200]: loss_d: 1.218, loss_g: 1.001\n",
            "[99/200]: loss_d: 1.220, loss_g: 1.021\n",
            "[100/200]: loss_d: 1.211, loss_g: 1.010\n",
            "[101/200]: loss_d: 1.223, loss_g: 0.995\n",
            "[102/200]: loss_d: 1.224, loss_g: 0.987\n",
            "[103/200]: loss_d: 1.223, loss_g: 0.985\n",
            "[104/200]: loss_d: 1.226, loss_g: 1.009\n",
            "[105/200]: loss_d: 1.221, loss_g: 0.991\n",
            "[106/200]: loss_d: 1.223, loss_g: 0.997\n",
            "[107/200]: loss_d: 1.223, loss_g: 0.991\n",
            "[108/200]: loss_d: 1.220, loss_g: 0.989\n",
            "[109/200]: loss_d: 1.231, loss_g: 0.984\n",
            "[110/200]: loss_d: 1.225, loss_g: 0.988\n",
            "[111/200]: loss_d: 1.232, loss_g: 0.989\n",
            "[112/200]: loss_d: 1.233, loss_g: 0.969\n",
            "[113/200]: loss_d: 1.228, loss_g: 0.982\n",
            "[114/200]: loss_d: 1.235, loss_g: 0.998\n",
            "[115/200]: loss_d: 1.236, loss_g: 0.967\n",
            "[116/200]: loss_d: 1.224, loss_g: 0.988\n",
            "[117/200]: loss_d: 1.230, loss_g: 0.990\n",
            "[118/200]: loss_d: 1.231, loss_g: 0.979\n",
            "[119/200]: loss_d: 1.235, loss_g: 0.971\n",
            "[120/200]: loss_d: 1.241, loss_g: 0.983\n",
            "[121/200]: loss_d: 1.230, loss_g: 0.971\n",
            "[122/200]: loss_d: 1.240, loss_g: 0.960\n",
            "[123/200]: loss_d: 1.237, loss_g: 0.960\n",
            "[124/200]: loss_d: 1.237, loss_g: 0.971\n",
            "[125/200]: loss_d: 1.236, loss_g: 0.969\n",
            "[126/200]: loss_d: 1.232, loss_g: 0.973\n",
            "[127/200]: loss_d: 1.231, loss_g: 0.972\n",
            "[128/200]: loss_d: 1.239, loss_g: 0.956\n",
            "[129/200]: loss_d: 1.237, loss_g: 0.983\n",
            "[130/200]: loss_d: 1.233, loss_g: 0.975\n",
            "[131/200]: loss_d: 1.244, loss_g: 0.957\n",
            "[132/200]: loss_d: 1.242, loss_g: 0.957\n",
            "[133/200]: loss_d: 1.237, loss_g: 0.965\n",
            "[134/200]: loss_d: 1.239, loss_g: 0.962\n",
            "[135/200]: loss_d: 1.246, loss_g: 0.952\n",
            "[136/200]: loss_d: 1.245, loss_g: 0.955\n",
            "[137/200]: loss_d: 1.241, loss_g: 0.959\n",
            "[138/200]: loss_d: 1.231, loss_g: 0.980\n",
            "[139/200]: loss_d: 1.244, loss_g: 0.956\n",
            "[140/200]: loss_d: 1.242, loss_g: 0.956\n",
            "[141/200]: loss_d: 1.241, loss_g: 0.966\n",
            "[142/200]: loss_d: 1.236, loss_g: 0.969\n",
            "[143/200]: loss_d: 1.245, loss_g: 0.954\n",
            "[144/200]: loss_d: 1.248, loss_g: 0.949\n",
            "[145/200]: loss_d: 1.241, loss_g: 0.958\n",
            "[146/200]: loss_d: 1.244, loss_g: 0.951\n",
            "[147/200]: loss_d: 1.242, loss_g: 0.953\n",
            "[148/200]: loss_d: 1.239, loss_g: 0.971\n",
            "[149/200]: loss_d: 1.240, loss_g: 0.961\n",
            "[150/200]: loss_d: 1.240, loss_g: 0.961\n",
            "[151/200]: loss_d: 1.247, loss_g: 0.941\n",
            "[152/200]: loss_d: 1.240, loss_g: 0.963\n",
            "[153/200]: loss_d: 1.242, loss_g: 0.956\n",
            "[154/200]: loss_d: 1.244, loss_g: 0.949\n",
            "[155/200]: loss_d: 1.246, loss_g: 0.959\n",
            "[156/200]: loss_d: 1.240, loss_g: 0.953\n",
            "[157/200]: loss_d: 1.247, loss_g: 0.962\n",
            "[158/200]: loss_d: 1.239, loss_g: 0.968\n",
            "[159/200]: loss_d: 1.242, loss_g: 0.953\n",
            "[160/200]: loss_d: 1.243, loss_g: 0.957\n",
            "[161/200]: loss_d: 1.245, loss_g: 0.951\n",
            "[162/200]: loss_d: 1.248, loss_g: 0.946\n",
            "[163/200]: loss_d: 1.245, loss_g: 0.948\n",
            "[164/200]: loss_d: 1.246, loss_g: 0.949\n",
            "[165/200]: loss_d: 1.244, loss_g: 0.961\n",
            "[166/200]: loss_d: 1.248, loss_g: 0.946\n",
            "[167/200]: loss_d: 1.247, loss_g: 0.950\n",
            "[168/200]: loss_d: 1.247, loss_g: 0.938\n",
            "[169/200]: loss_d: 1.247, loss_g: 0.947\n",
            "[170/200]: loss_d: 1.249, loss_g: 0.944\n",
            "[171/200]: loss_d: 1.253, loss_g: 0.930\n",
            "[172/200]: loss_d: 1.248, loss_g: 0.946\n",
            "[173/200]: loss_d: 1.245, loss_g: 0.941\n",
            "[174/200]: loss_d: 1.249, loss_g: 0.944\n",
            "[175/200]: loss_d: 1.249, loss_g: 0.941\n",
            "[176/200]: loss_d: 1.246, loss_g: 0.949\n",
            "[177/200]: loss_d: 1.249, loss_g: 0.946\n",
            "[178/200]: loss_d: 1.249, loss_g: 0.941\n",
            "[179/200]: loss_d: 1.244, loss_g: 0.964\n",
            "[180/200]: loss_d: 1.257, loss_g: 0.930\n",
            "[181/200]: loss_d: 1.253, loss_g: 0.926\n",
            "[182/200]: loss_d: 1.250, loss_g: 0.941\n",
            "[183/200]: loss_d: 1.247, loss_g: 0.953\n",
            "[184/200]: loss_d: 1.245, loss_g: 0.948\n",
            "[185/200]: loss_d: 1.252, loss_g: 0.939\n",
            "[186/200]: loss_d: 1.246, loss_g: 0.944\n",
            "[187/200]: loss_d: 1.253, loss_g: 0.936\n",
            "[188/200]: loss_d: 1.249, loss_g: 0.945\n",
            "[189/200]: loss_d: 1.254, loss_g: 0.937\n",
            "[190/200]: loss_d: 1.257, loss_g: 0.933\n",
            "[191/200]: loss_d: 1.257, loss_g: 0.934\n",
            "[192/200]: loss_d: 1.251, loss_g: 0.952\n",
            "[193/200]: loss_d: 1.247, loss_g: 0.946\n",
            "[194/200]: loss_d: 1.256, loss_g: 0.938\n",
            "[195/200]: loss_d: 1.254, loss_g: 0.933\n",
            "[196/200]: loss_d: 1.244, loss_g: 0.950\n",
            "[197/200]: loss_d: 1.248, loss_g: 0.939\n",
            "[198/200]: loss_d: 1.251, loss_g: 0.952\n",
            "[199/200]: loss_d: 1.243, loss_g: 0.952\n",
            "[200/200]: loss_d: 1.246, loss_g: 0.946\n"
          ],
          "name": "stdout"
        }
      ]
    },
    {
      "cell_type": "markdown",
      "metadata": {
        "id": "mQXkHNEhjkES"
      },
      "source": [
        "Enumerate() method adds a counter to an iterable and returns it in a form of enumerate objec"
      ]
    },
    {
      "cell_type": "code",
      "metadata": {
        "id": "w7Rr69h_DmLa",
        "colab": {
          "base_uri": "https://localhost:8080/",
          "height": 17
        },
        "outputId": "8baadf3a-913d-4da7-dc7a-63d5d49651a6"
      },
      "source": [
        "\n",
        "# Save the Generator\n",
        "with open('G.pkl', 'wb') as f:\n",
        "    pkl.dump(G, f)\n",
        "\n",
        "# Save the Discriminator\n",
        "with open('D.pkl', 'wb') as f:\n",
        "    pkl.dump(D, f)\n",
        "\n",
        "\n",
        "# download files into the local machine\n",
        "files.download('D.pkl')\n",
        "files.download('G.pkl')\n"
      ],
      "execution_count": 16,
      "outputs": [
        {
          "output_type": "display_data",
          "data": {
            "application/javascript": [
              "\n",
              "    async function download(id, filename, size) {\n",
              "      if (!google.colab.kernel.accessAllowed) {\n",
              "        return;\n",
              "      }\n",
              "      const div = document.createElement('div');\n",
              "      const label = document.createElement('label');\n",
              "      label.textContent = `Downloading \"${filename}\": `;\n",
              "      div.appendChild(label);\n",
              "      const progress = document.createElement('progress');\n",
              "      progress.max = size;\n",
              "      div.appendChild(progress);\n",
              "      document.body.appendChild(div);\n",
              "\n",
              "      const buffers = [];\n",
              "      let downloaded = 0;\n",
              "\n",
              "      const channel = await google.colab.kernel.comms.open(id);\n",
              "      // Send a message to notify the kernel that we're ready.\n",
              "      channel.send({})\n",
              "\n",
              "      for await (const message of channel.messages) {\n",
              "        // Send a message to notify the kernel that we're ready.\n",
              "        channel.send({})\n",
              "        if (message.buffers) {\n",
              "          for (const buffer of message.buffers) {\n",
              "            buffers.push(buffer);\n",
              "            downloaded += buffer.byteLength;\n",
              "            progress.value = downloaded;\n",
              "          }\n",
              "        }\n",
              "      }\n",
              "      const blob = new Blob(buffers, {type: 'application/binary'});\n",
              "      const a = document.createElement('a');\n",
              "      a.href = window.URL.createObjectURL(blob);\n",
              "      a.download = filename;\n",
              "      div.appendChild(a);\n",
              "      a.click();\n",
              "      div.remove();\n",
              "    }\n",
              "  "
            ],
            "text/plain": [
              "<IPython.core.display.Javascript object>"
            ]
          },
          "metadata": {
            "tags": []
          }
        },
        {
          "output_type": "display_data",
          "data": {
            "application/javascript": [
              "download(\"download_3054a8ed-3ba8-4411-a706-dd2930c10400\", \"D.pkl\", 6370833)"
            ],
            "text/plain": [
              "<IPython.core.display.Javascript object>"
            ]
          },
          "metadata": {
            "tags": []
          }
        },
        {
          "output_type": "display_data",
          "data": {
            "application/javascript": [
              "\n",
              "    async function download(id, filename, size) {\n",
              "      if (!google.colab.kernel.accessAllowed) {\n",
              "        return;\n",
              "      }\n",
              "      const div = document.createElement('div');\n",
              "      const label = document.createElement('label');\n",
              "      label.textContent = `Downloading \"${filename}\": `;\n",
              "      div.appendChild(label);\n",
              "      const progress = document.createElement('progress');\n",
              "      progress.max = size;\n",
              "      div.appendChild(progress);\n",
              "      document.body.appendChild(div);\n",
              "\n",
              "      const buffers = [];\n",
              "      let downloaded = 0;\n",
              "\n",
              "      const channel = await google.colab.kernel.comms.open(id);\n",
              "      // Send a message to notify the kernel that we're ready.\n",
              "      channel.send({})\n",
              "\n",
              "      for await (const message of channel.messages) {\n",
              "        // Send a message to notify the kernel that we're ready.\n",
              "        channel.send({})\n",
              "        if (message.buffers) {\n",
              "          for (const buffer of message.buffers) {\n",
              "            buffers.push(buffer);\n",
              "            downloaded += buffer.byteLength;\n",
              "            progress.value = downloaded;\n",
              "          }\n",
              "        }\n",
              "      }\n",
              "      const blob = new Blob(buffers, {type: 'application/binary'});\n",
              "      const a = document.createElement('a');\n",
              "      a.href = window.URL.createObjectURL(blob);\n",
              "      a.download = filename;\n",
              "      div.appendChild(a);\n",
              "      a.click();\n",
              "      div.remove();\n",
              "    }\n",
              "  "
            ],
            "text/plain": [
              "<IPython.core.display.Javascript object>"
            ]
          },
          "metadata": {
            "tags": []
          }
        },
        {
          "output_type": "display_data",
          "data": {
            "application/javascript": [
              "download(\"download_d5806e61-58c3-44d8-9309-696410e8d281\", \"G.pkl\", 3292746)"
            ],
            "text/plain": [
              "<IPython.core.display.Javascript object>"
            ]
          },
          "metadata": {
            "tags": []
          }
        }
      ]
    },
    {
      "cell_type": "code",
      "metadata": {
        "id": "xfBOrx-XB6m7"
      },
      "source": [
        "# from torch.autograd import Variable\n",
        "# #device = torch.device('cuda' if torch.cuda.is_available() else 'cpu')\n",
        "# device = torch.device('cpu')\n",
        "# bs = 100 #Batch Size\n",
        "# z_dim = 100 #Z dimensions\n",
        "# z = Variable(torch.randn(bs, z_dim).to(device))\n",
        "\n",
        "\n",
        "\n",
        "sample_size=200\n",
        "#create 100 latent vectors which has 100  dimension\n",
        "z = np.random.uniform(-1, 1, size=(sample_size, z_size))\n",
        "z = torch.from_numpy(z).float()\n",
        "\n",
        "print(z[0].size())\n",
        "\n",
        "G.eval() # eval mode\n",
        "\n",
        "# set image directory root location\n",
        "root = '/content'\n",
        "\n",
        "\n",
        "for i, image_tensor in enumerate(z):\n",
        "    image_tensor = image_tensor.detach()\n",
        "    print(i,image_tensor)\n",
        "\n",
        "    # save the latent vector, related to the image\n",
        "    f = open(root + r'/images/%d.txt' %i,'a')\n",
        "    f.write(np.array2string(image_tensor.numpy(), separator=','))\n",
        "    f.close()\n",
        "\n",
        "    # create image using latent vector\n",
        "    rand_image = G(image_tensor.to(device)) \n",
        "    #view_samples(0, [rand_images])\n",
        "    #print(rand_image.size())\n",
        "\n",
        "    # save image\n",
        "    rand_image = rand_image.view(-1, 28) # convert [784] tensor in to [28,28] tensor to create image\n",
        "    print(rand_image.size())\n",
        "    save_image(rand_image, root + r'/images/%d.png' %i, normalize = True)\n",
        "\n",
        "\n",
        "#create a zip file contains generated image files and Latent vectors\n",
        "shutil.make_archive('images', 'zip', 'images')"
      ],
      "execution_count": null,
      "outputs": []
    },
    {
      "cell_type": "code",
      "metadata": {
        "colab": {
          "base_uri": "https://localhost:8080/",
          "height": 17
        },
        "id": "1g90rYaZoJJq",
        "outputId": "cb38dad2-11ca-4f5e-f2b0-59a54751161f"
      },
      "source": [
        "files.download('D.pkl')\n",
        "files.download('G.pkl')\n"
      ],
      "execution_count": 15,
      "outputs": [
        {
          "output_type": "display_data",
          "data": {
            "application/javascript": [
              "\n",
              "    async function download(id, filename, size) {\n",
              "      if (!google.colab.kernel.accessAllowed) {\n",
              "        return;\n",
              "      }\n",
              "      const div = document.createElement('div');\n",
              "      const label = document.createElement('label');\n",
              "      label.textContent = `Downloading \"${filename}\": `;\n",
              "      div.appendChild(label);\n",
              "      const progress = document.createElement('progress');\n",
              "      progress.max = size;\n",
              "      div.appendChild(progress);\n",
              "      document.body.appendChild(div);\n",
              "\n",
              "      const buffers = [];\n",
              "      let downloaded = 0;\n",
              "\n",
              "      const channel = await google.colab.kernel.comms.open(id);\n",
              "      // Send a message to notify the kernel that we're ready.\n",
              "      channel.send({})\n",
              "\n",
              "      for await (const message of channel.messages) {\n",
              "        // Send a message to notify the kernel that we're ready.\n",
              "        channel.send({})\n",
              "        if (message.buffers) {\n",
              "          for (const buffer of message.buffers) {\n",
              "            buffers.push(buffer);\n",
              "            downloaded += buffer.byteLength;\n",
              "            progress.value = downloaded;\n",
              "          }\n",
              "        }\n",
              "      }\n",
              "      const blob = new Blob(buffers, {type: 'application/binary'});\n",
              "      const a = document.createElement('a');\n",
              "      a.href = window.URL.createObjectURL(blob);\n",
              "      a.download = filename;\n",
              "      div.appendChild(a);\n",
              "      a.click();\n",
              "      div.remove();\n",
              "    }\n",
              "  "
            ],
            "text/plain": [
              "<IPython.core.display.Javascript object>"
            ]
          },
          "metadata": {
            "tags": []
          }
        },
        {
          "output_type": "display_data",
          "data": {
            "application/javascript": [
              "download(\"download_2ff4ae1a-cd9b-478f-b72f-e4a410505103\", \"D.pkl\", 6370833)"
            ],
            "text/plain": [
              "<IPython.core.display.Javascript object>"
            ]
          },
          "metadata": {
            "tags": []
          }
        }
      ]
    },
    {
      "cell_type": "code",
      "metadata": {
        "id": "ZxyNFHh5OtPW"
      },
      "source": [
        "#unzip the zipped file\n",
        "!unzip '/content/Fake_Digits.zip' -d '/content/Fake_Digits'"
      ],
      "execution_count": null,
      "outputs": []
    },
    {
      "cell_type": "code",
      "metadata": {
        "id": "N_0-p0lnSCVy"
      },
      "source": [
        "#open previously created Generator\n",
        "\n",
        "with open('G.pkl', 'rb') as f:\n",
        "    G = pkl.load(f)"
      ],
      "execution_count": 16,
      "outputs": []
    },
    {
      "cell_type": "code",
      "metadata": {
        "id": "GTjrMt6dT8tr"
      },
      "source": [
        "root = '/content'\n",
        "print(len(train_dataset))\n",
        "for idx, (img, _) in enumerate(train_dataset):\n",
        "    # save the latent vector, related to the image\n",
        "    print('1',idx,img.size())\n",
        "    f = open(root + r'/real_images/%d.txt' %idx,'a')\n",
        "    f.write(np.array2string(img.numpy(), separator=','))\n",
        "    f.close()\n",
        "    save_image(img, root + r'/real_images/%d.png' %idx, normalize = True)\n",
        "    print('2',idx)\n",
        "    if idx == 100:\n",
        "        break   \n",
        "\n",
        "#create a zip file contains generated image files and Latent vectors\n",
        "shutil.make_archive('real_images', 'zip', 'real_images')\n",
        "files.download('real_images.zip')\n"
      ],
      "execution_count": null,
      "outputs": []
    }
  ]
}