{
  "nbformat": 4,
  "nbformat_minor": 0,
  "metadata": {
    "colab": {
      "name": "NLTK_POS_TAGGERS.ipynb",
      "provenance": [],
      "collapsed_sections": [],
      "toc_visible": true,
      "include_colab_link": true
    },
    "kernelspec": {
      "name": "python3",
      "display_name": "Python 3"
    },
    "language_info": {
      "name": "python"
    }
  },
  "cells": [
    {
      "cell_type": "markdown",
      "metadata": {
        "id": "view-in-github",
        "colab_type": "text"
      },
      "source": [
        "<a href=\"https://colab.research.google.com/github/KaveeshBaddage/DataScienceImpl/blob/main/NLTK_POS_TAGGERS.ipynb\" target=\"_parent\"><img src=\"https://colab.research.google.com/assets/colab-badge.svg\" alt=\"Open In Colab\"/></a>"
      ]
    },
    {
      "cell_type": "markdown",
      "metadata": {
        "id": "vmCpOEm7hvpa"
      },
      "source": [
        "**Upload text file**"
      ]
    },
    {
      "cell_type": "code",
      "metadata": {
        "id": "PGvkrtkqhtIX",
        "colab": {
          "resources": {
            "http://localhost:8080/nbextensions/google.colab/files.js": {
              "data": "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",
              "ok": true,
              "headers": [
                [
                  "content-type",
                  "application/javascript"
                ]
              ],
              "status": 200,
              "status_text": ""
            }
          },
          "base_uri": "https://localhost:8080/",
          "height": 72
        },
        "outputId": "9c5ad93f-d9f2-407e-c5be-0c9a9fd9f645"
      },
      "source": [
        "from google.colab import files\n",
        "\n",
        "uploaded = files.upload()\n",
        "\n",
        "with open('anotate.txt', 'r') as file:\n",
        "  text = file.read().replace('\\n', '')\n",
        "\n",
        "\n"
      ],
      "execution_count": null,
      "outputs": [
        {
          "output_type": "display_data",
          "data": {
            "text/html": [
              "\n",
              "     <input type=\"file\" id=\"files-681e1bbd-fd50-41a6-84ae-ce0a3d9ad0d9\" name=\"files[]\" multiple disabled\n",
              "        style=\"border:none\" />\n",
              "     <output id=\"result-681e1bbd-fd50-41a6-84ae-ce0a3d9ad0d9\">\n",
              "      Upload widget is only available when the cell has been executed in the\n",
              "      current browser session. Please rerun this cell to enable.\n",
              "      </output>\n",
              "      <script src=\"/nbextensions/google.colab/files.js\"></script> "
            ],
            "text/plain": [
              "<IPython.core.display.HTML object>"
            ]
          },
          "metadata": {
            "tags": []
          }
        },
        {
          "output_type": "stream",
          "text": [
            "Saving anotate.txt to anotate.txt\n"
          ],
          "name": "stdout"
        }
      ]
    },
    {
      "cell_type": "markdown",
      "metadata": {
        "id": "jxsc1M0ge7rQ"
      },
      "source": [
        "**Import NLTK and other Packages**"
      ]
    },
    {
      "cell_type": "code",
      "metadata": {
        "colab": {
          "base_uri": "https://localhost:8080/"
        },
        "id": "LHeb94GLeGjd",
        "outputId": "5b044b1a-6e1a-4264-e0a6-45db1987de6d"
      },
      "source": [
        "import nltk\n",
        "import sys\n",
        "\n",
        "nltk.download('punkt')\n",
        "nltk.download('brown')\n",
        "nltk.download('treebank')"
      ],
      "execution_count": null,
      "outputs": [
        {
          "output_type": "stream",
          "text": [
            "[nltk_data] Downloading package punkt to /root/nltk_data...\n",
            "[nltk_data]   Unzipping tokenizers/punkt.zip.\n",
            "[nltk_data] Downloading package brown to /root/nltk_data...\n",
            "[nltk_data]   Unzipping corpora/brown.zip.\n",
            "[nltk_data] Downloading package treebank to /root/nltk_data...\n",
            "[nltk_data]   Unzipping corpora/treebank.zip.\n"
          ],
          "name": "stdout"
        },
        {
          "output_type": "execute_result",
          "data": {
            "text/plain": [
              "True"
            ]
          },
          "metadata": {
            "tags": []
          },
          "execution_count": 3
        }
      ]
    },
    {
      "cell_type": "markdown",
      "metadata": {
        "id": "KKD8lxrYLF_q"
      },
      "source": [
        "# Hidden Markov Model Tagger"
      ]
    },
    {
      "cell_type": "code",
      "metadata": {
        "id": "6Y018DdQLJys"
      },
      "source": [
        "from nltk.tag import HiddenMarkovModelTagger\n",
        "\n",
        "# Import the toolkit and tags\n",
        "import nltk\n",
        "from nltk.corpus import treebank\n",
        "\n",
        "# Train data - pretagged -  returns a list of tagged sentences in the corpus\n",
        "train_data = treebank.tagged_sents()[:3000]\n",
        "\n",
        "# Setup a trainer with default(None) values and train with the data\n",
        "tagger = HiddenMarkovModelTagger.train(train_data)\n",
        "\n",
        "# Return a tokenized copy of text\n",
        "hmm_tokens = nltk.word_tokenize(text)\n",
        "\n",
        "HMMTaggerOutputFileURL = \"/content/hmm_output.txt\"\n",
        "\n",
        "outputFile = open(HMMTaggerOutputFileURL, 'w')\n",
        "outputFile.writelines(str(tagger.tag(hmm_tokens)))\n",
        "outputFile.close()\n",
        "\n",
        "files.download('hmm_output.txt')"
      ],
      "execution_count": null,
      "outputs": []
    },
    {
      "cell_type": "code",
      "metadata": {
        "id": "N5ni_BHOmOIr"
      },
      "source": [
        ""
      ],
      "execution_count": null,
      "outputs": []
    },
    {
      "cell_type": "markdown",
      "metadata": {
        "id": "xsbsN7HqS7St"
      },
      "source": [
        "# Brill Tagger"
      ]
    },
    {
      "cell_type": "code",
      "metadata": {
        "id": "zFpXeyQWS3xP",
        "colab": {
          "base_uri": "https://localhost:8080/",
          "height": 1000
        },
        "outputId": "2f580d37-9485-4284-8247-a84d6a3d5107"
      },
      "source": [
        "import nltk\n",
        "from nltk.tag.brill import *\n",
        "import nltk.tag.brill_trainer as bt\n",
        "from nltk.corpus import brown\n",
        "\n",
        "Template._cleartemplates()\n",
        "templates = fntbl37()\n",
        "tagged_sentences = brown.tagged_sents(categories = 'news')\n",
        "tagged_sentences = tagged_sentences[:]\n",
        "tagger = nltk.tag.BigramTagger(tagged_sentences)\n",
        "tagger = bt.BrillTaggerTrainer(tagger, templates, trace=3)\n",
        "tagger = tagger.train(tagged_sentences, max_rules=250)\n",
        "\n",
        "brill_tokens = nltk.word_tokenize(text)\n",
        "\n",
        "BrillTaggerOutputFileURL = \"/content/brill_output.txt\"\n",
        "\n",
        "outputFile = open(BrillTaggerOutputFileURL, 'w')\n",
        "outputFile.writelines(str(tagger.tag(brill_tokens)))\n",
        "outputFile.close()\n",
        "\n",
        "files.download('brill_output.txt')"
      ],
      "execution_count": null,
      "outputs": [
        {
          "output_type": "stream",
          "text": [
            "TBL train (fast) (seqs: 4623; tokens: 100554; tpls: 37; min score: 2; min acc: None)\n",
            "Finding initial useful rules...\n",
            "    Found 365168 useful rules.\n",
            "\n",
            "           B      |\n",
            "   S   F   r   O  |        Score = Fixed - Broken\n",
            "   c   i   o   t  |  R     Fixed = num tags changed incorrect -> correct\n",
            "   o   x   k   h  |  u     Broken = num tags changed correct -> incorrect\n",
            "   r   e   e   e  |  l     Other = num tags changed incorrect -> incorrect\n",
            "   e   d   n   r  |  e\n",
            "------------------+-------------------------------------------------------\n",
            "26372637   015143  | None->NN if Pos:None@[1]\n",
            "12621262   0  30  | None->. if Pos:NN@[-3,-2,-1]\n",
            "11931193   0   3  | NN->AT if Word:the@[0] & Pos:NN@[1]\n",
            " 905 905   0   1  | NN->, if Word:,@[0]\n",
            " 568 598  30 338  | NN->IN if Pos:AT@[1] & Pos:NN@[2] & Word:the@[1]\n",
            " 516 574  58   2  | TO->IN if Pos:NN@[1,2]\n",
            " 427 427   0   5  | NN->CC if Word:and@[0]\n",
            " 379 379   0   0  | NN->AT if Word:a@[0]\n",
            " 359 359   0  21  | NN->IN if Word:of@[0]\n",
            " 243 243   0 118  | NN->TO if Word:to@[0]\n",
            " 242 242   0   9  | NN->IN if Word:in@[0]\n",
            " 187 187   0   0  | NN->'' if Word:''@[0]\n",
            " 163 176  13 116  | NN->VB if Pos:TO@[-1]\n",
            " 147 147   0   8  | NN->IN if Word:for@[0]\n",
            "  91  91   0   0  | NN->BEZ if Word:is@[0]\n",
            "  91  91   0  25  | NN->CS if Word:as@[0]\n",
            "  86  86   0   0  | NN->IN if Word:at@[0]\n",
            "  83  83   0   0  | NN->PPS if Word:he@[0]\n",
            "  81  81   0   0  | NN->`` if Word:``@[0]\n",
            "  77  77   0   1  | NN->PP$ if Word:his@[0]\n",
            "  76  76   0   0  | NN->BEDZ if Word:was@[0]\n",
            "  76  76   0   6  | NN->IN if Word:on@[0]\n",
            "  68  68   0  56  | NN->CS if Word:that@[0]\n",
            "  68  68   0   0  | NN->IN if Word:with@[0]\n",
            "  67  67   0   0  | NN->BE if Word:be@[0] & Pos:NN@[-1]\n",
            "  63  63   0   0  | NN->IN if Word:by@[0]\n",
            "  57  57   0   0  | NN->WPS if Word:who@[0]\n",
            "  54  54   0   0  | NN->PP$ if Word:their@[0] & Pos:NN@[1]\n",
            "  53  54   1   0  | NN->MD if Word:will@[0]\n",
            "  53  54   1   0  | IN->TO if Pos:VB@[1] & Pos:NN@[2]\n",
            "  52  52   0   0  | NN->AT if Word:an@[0] & Pos:NN@[1]\n",
            "  51  51   0   0  | NN->HVD if Word:had@[0]\n",
            "  50  50   0   0  | NN->WDT if Word:which@[0]\n",
            "  49  49   0   6  | IN->VB if Word:to@[-1]\n",
            "  48  50   2   0  | CS->QL if Word:as@[1,2,3]\n",
            "  48  53   5  21  | NN->VBN if Word:be@[-1]\n",
            "  47  47   0   0  | NN->* if Word:not@[0]\n",
            "  47  47   0  29  | NN->PPS if Word:it@[0]\n",
            "  46  46   0   0  | NN->IN if Word:from@[0]\n",
            "  46  46   0   0  | NN->PPSS if Word:they@[0]\n",
            "  45  45   0   0  | NN->DT if Word:this@[0]\n",
            "  44  44   0   1  | NN->VBD if Word:said@[0]\n",
            "  43  43   0   0  | NN->-- if Word:--@[0]\n",
            "  40  40   0   0  | NN->AP if Word:last@[0] & Pos:NN@[1]\n",
            "  38  38   0   0  | NN->BED if Word:were@[0]\n",
            "  37  37   0   0  | NN->CC if Word:but@[0]\n",
            "  36  36   0   0  | NN->) if Word:)@[0]\n",
            "  36  36   0   0  | NN->HVZ if Word:has@[0]\n",
            "  35  35   0   0  | NN->BER if Word:are@[0]\n",
            "  34  34   0   0  | NN->BEN if Word:been@[0]\n",
            "  32  32   0   2  | NN->CD if Word:one@[0]\n",
            "  32  32   0   0  | NN->HV if Word:have@[0]\n",
            "  31  31   0   0  | IN->CC if Word:and@[0] & Word:the@[1]\n",
            "  30  30   0   1  | NN->ABN if Word:all@[0]\n",
            "  30  30   0   0  | NN->MD if Word:would@[0]\n",
            "  30  30   0   1  | NN->RP if Word:up@[0]\n",
            "  30  30   0   4  | NN->VB if Pos:MD@[-1]\n",
            "  29  29   0   0  | NN->PP$ if Word:its@[0]\n",
            "  29  29   0  38  | NN->VBD if Pos:PPS@[-1]\n",
            "  28  28   0   0  | NN->AP if Word:other@[0]\n",
            "  28  28   0   0  | NN->CC if Word:or@[0]\n",
            "  26  37  11   4  | NN->NP if Word:Mrs.@[-3,-2,-1]\n",
            "  26  26   0   0  | NN->NNS if Word:years@[0]\n",
            "  26  26   0   0  | NN->PPO if Word:them@[0]\n",
            "  23  23   0   0  | NN->JJ if Word:new@[0] & Pos:NN@[1]\n",
            "  23  23   0   0  | NN->( if Word:(@[0]\n",
            "  23  23   0   4  | NN->RP if Word:out@[0]\n",
            "  22  22   0   0  | VB->BE if Word:be@[0] & Word:to@[-1]\n",
            "  22  22   0   0  | IN->CS if Word:as@[0] & Word:the@[1]\n",
            "  25  26   1   8  | NN->RB if Pos:QL@[-1] & Pos:CS@[1]\n",
            "  22  22   0   0  | NN->. if Word:;@[0] & Word:;@[1]\n",
            "  22  22   0   2  | NN->OD if Word:first@[0]\n",
            "  21  21   0   0  | NN->IN if Word:per@[0] & Pos:NN@[1]\n",
            "  21  21   0   0  | NN->JJ-TL if Word:New@[0] & Pos:NN@[1]\n",
            "  21  21   0   0  | NN->NN-TL if Word:President@[0]\n",
            "  21  22   1  11  | NN->VBN if Pos:HVD@[-1]\n",
            "  20  20   0   0  | NN->MD if Word:can@[0]\n",
            "  21  61  40 140  | NN->NP if Pos:,@[-1] & Pos:NN@[1]\n",
            "  20  20   0   0  | NN->PPO if Word:him@[0]\n",
            "  20  74  54 186  | NN->NP if Word:to@[-1]\n",
            "  19  20   1   6  | NN->NP-TL if Word:New@[-1]\n",
            "  18  18   0   0  | NN->PPSS if Word:I@[0]\n",
            "  17  17   0   0  | IN->CS if Word:that@[0] & Word:the@[1]\n",
            "  17  19   2   5  | NN->NP if Word:Dr.@[-3,-2,-1]\n",
            "  18  31  13  25  | NN->VBN if Word:was@[-1]\n",
            "  17  17   0   2  | NN->NP if Word:James@[-3,-2,-1]\n",
            "  17  17   0   9  | NN->AP if Word:more@[0]\n",
            "  17  17   0   0  | NN->CD if Word:two@[0]\n",
            "  17  17   0  13  | NN->CS if Word:than@[0]\n",
            "  17  17   0   0  | NN->NNS if Word:members@[0]\n",
            "  17  17   0   0  | NN->WDT if Word:what@[0]\n",
            "  17  17   0  16  | NN->VBD if Word:who@[-1]\n",
            "  16  16   0   0  | NN->NP if Word:Mrs.@[0] & Pos:NP@[1]\n",
            "  16  16   0   0  | NN->: if Word::@[0]\n",
            "  16  16   0   2  | NN->IN if Word:against@[0]\n",
            "  16  16   0   0  | NN->NNS if Word:people@[0]\n",
            "  15  18   3   0  | IN->RP if Word:in@[0] & Pos:IN@[1]\n",
            "  15  15   0   0  | NN->CS if Word:if@[0]\n",
            "  15  15   0   0  | NN->IN if Word:into@[0]\n",
            "  15  17   2  14  | NN->VBN if Word:been@[-1]\n",
            "  14  14   0   0  | NN->. if Word:?@[0] & Word:?@[1]\n",
            "  14  14   0   3  | NN->NP if Word:John@[-2,-1]\n",
            "  14  15   1   1  | CS->WPS if Word:that@[0] & Pos:MD@[1]\n",
            "  14  14   0   0  | NN->PP$ if Word:our@[0] & Pos:NN@[1]\n",
            "  14  14   0   0  | NN->VBN-TL if Word:United@[0] & Pos:NN@[1]\n",
            "  14  14   0   0  | TO->IN if Word:to@[0] & Pos:AT@[1]\n",
            "  14  14   0   0  | NN->AT if Word:no@[0]\n",
            "  14  14   0   1  | NN->JJ if Word:own@[0]\n",
            "  14  14   0   0  | NN->NR if Word:yesterday@[0]\n",
            "  14  14   0   3  | NN->NP if Word:Mr.@[-1]\n",
            "  13  13   0   0  | NN->DTI if Word:any@[0]\n",
            "  13  13   0   0  | NN->NN-TL if Word:University@[0]\n",
            "  13  13   0   0  | NN->NR if Word:today@[0]\n",
            "  13  13   0   0  | NN->PPS if Word:she@[0]\n",
            "  13  13   0   0  | NN->RB if Word:here@[0]\n",
            "  13  20   7   7  | NN->MD if Word:be@[1]\n",
            "  12  12   0   1  | NN->CD if Word:cent@[1,2]\n",
            "  12  12   0   0  | NN->BEG if Word:being@[0]\n",
            "  12  12   0   0  | NN->CD if Word:four@[0]\n",
            "  12  12   0   0  | NN->CD if Word:three@[0]\n",
            "  12  12   0   0  | NN->DTI if Word:some@[0]\n",
            "  12  12   0   0  | NN->IN if Word:without@[0]\n",
            "  12  14   2   0  | NN->JJ if Word:good@[0]\n",
            "  12  12   0   0  | NN->NP if Word:Mr.@[0]\n",
            "  12  12   0   0  | NN->NR if Word:Monday@[0]\n",
            "  12  12   0   0  | NN->WRB if Word:where@[0]\n",
            "  12  12   0   0  | NN->VBN if Word:being@[-1]\n",
            "  12  12   0   1  | IN->NN if Pos:AT@[-1] & Pos:AT@[1]\n",
            "  12  12   0  22  | NN->VB if Pos:PPSS@[-1]\n",
            "  11  14   3  10  | NN->NP if Word:President@[-2,-1]\n",
            "  11  12   1   0  | JJ->ABL if Word:such@[0] & Pos:AT@[1]\n",
            "  11  11   0   0  | NN->JJ-TL if Word:National@[0] & Pos:NN@[1]\n",
            "  11  11   0   3  | NN->EX if Word:there@[0]\n",
            "  11  11   0   7  | NN->IN if Word:after@[0]\n",
            "  11  12   1   0  | NN->NN-TL if Word:City@[0]\n",
            "  11  11   0   0  | NN->NN-TL if Word:League@[0]\n",
            "  11  11   0   0  | NN->NNS if Word:children@[0]\n",
            "  11  11   0   2  | NN->NP if Word:U.S.@[0]\n",
            "  11  11   0   0  | NN->PPSS if Word:we@[0]\n",
            "  11  11   0   0  | NN->RB if Word:also@[0]\n",
            "  11  11   0   6  | NN->VBD if Word:made@[0]\n",
            "  11  11   0   3  | NN->NNS-TL if Word:United@[-1]\n",
            "  11  14   3   1  | NN->VBN if Word:has@[-1]\n",
            "  11  11   0   3  | NN->NP if Pos:,@[-1] & Pos:VBD@[1]\n",
            "  11  11   0   0  | NP-TL->NP if Pos:AT@[-1] & Pos:NN@[1]\n",
            "  10  55  45  42  | CS->DT if Word:that@[0] & Pos:NN@[1]\n",
            "  22  35  13  21  | DT->WPS if Word:that@[0] & Pos:NN@[-1]\n",
            "  10  10   0   1  | NN->CS if Word:because@[0]\n",
            "  10  10   0   0  | NN->DT if Word:each@[0]\n",
            "  10  10   0   5  | NN->IN if Word:about@[0]\n",
            "  10  10   0   0  | NN->NR if Word:Saturday@[0]\n",
            "  10  10   0   4  | NN->PP$ if Word:her@[0]\n",
            "  10  10   0   0  | NN->RB if Word:now@[0]\n",
            "  10  11   1   3  | IN->VB if Pos:MD@[-1] & Pos:AT@[1]\n",
            "   9  11   2   0  | CS->IN if Word:than@[0] & Word:more@[-1]\n",
            "   9   9   0   0  | PPO->PPS if Word:it@[0] & Word:said@[-1]\n",
            "   9   9   0   4  | CS->WPS if Word:that@[0] & Word:is@[1]\n",
            "   9   9   0   0  | IN->TO if Word:to@[0] & Word:be@[1]\n",
            "   9   9   0   0  | IN->TO if Word:to@[0] & Word:the@[2]\n",
            "   9   9   0   1  | NN->CD if Word:p.m.@[1,2]\n",
            "   9   9   0   0  | NN->NP if Word:Chairman@[-2,-1]\n",
            "   9   9   0   0  | IN-TL->IN if Word:of@[0] & Pos:NN@[1]\n",
            "   9   9   0   3  | NN->JJ if Word:past@[0] & Pos:NN@[1]\n",
            "   9   9   0   0  | NN->QL if Word:too@[0] & Pos:NN@[1]\n",
            "   9   9   0   0  | NN->RB if Word:p.m.@[0] & Pos:CD@[-1]\n",
            "   9   9   0   0  | NN->DTS if Word:those@[0]\n",
            "   9   9   0   6  | NN->IN if Word:over@[0]\n",
            "   9   9   0   5  | NN->JJ if Word:American@[0]\n",
            "   9   9   0   0  | NN->JJ if Word:possible@[0]\n",
            "   9   9   0   1  | NN->NN-TL if Word:Dr.@[0]\n",
            "   9   9   0   1  | NN->NP if Word:Dallas@[0]\n",
            "   9   9   0   0  | NN->NR if Word:Sunday@[0]\n",
            "   9   9   0   0  | NN->RB if Word:again@[0]\n",
            "   9   9   0   0  | NN->RB if Word:then@[0]\n",
            "   8   8   0   0  | NN->NP if Word:Robert@[-2,-1]\n",
            "   8  10   2   3  | NN->NP-TL if Word:North@[-2,-1]\n",
            "   8   9   1   9  | NN->VB if Word:can@[-2,-1]\n",
            "   8   8   0   0  | NN->AT if Word:every@[0] & Pos:NN@[1]\n",
            "   8   8   0   0  | NN->JJ if Word:general@[0] & Pos:NN@[1]\n",
            "   8   8   0   0  | NN->JJ-TL if Word:Democratic@[0] & Pos:NN@[1]\n",
            "   8   8   0   0  | WPS->CS if Word:that@[0] & Pos:AT@[1]\n",
            "   8   8   0   0  | NN->NN-TL if Word:Committee@[0] & Pos:NN@[-1]\n",
            "   8   9   1   0  | PPS->PPO if Word:it@[0] & Pos:IN@[-1]\n",
            "  10  10   0   0  | IN->CS if Pos:PPS@[1]\n",
            "   8   8   0   0  | .->: if Word::@[0]\n",
            "   8   8   0   0  | NN->CD if Word:10@[0]\n",
            "   8   8   0   0  | NN->CD if Word:1960@[0]\n",
            "   8   8   0   0  | NN->CD if Word:million@[0]\n",
            "   8   8   0   1  | NN->JJ if Word:big@[0]\n",
            "   8   8   0   2  | NN->JJ if Word:such@[0]\n",
            "   8   8   0   0  | NN->NN-TL if Word:Church@[0]\n",
            "   8   8   0   0  | NN->NN-TL if Word:Senate@[0]\n",
            "   8   8   0   0  | NN->NNS if Word:laws@[0]\n",
            "   8   8   0   0  | NN->NNS if Word:men@[0]\n",
            "   8   8   0   0  | NN->NNS if Word:persons@[0]\n",
            "   8   8   0   0  | NN->NNS if Word:schools@[0]\n",
            "   8   8   0   0  | NN->NR if Word:Tuesday@[0]\n",
            "   8   8   0   0  | NN->PPLS if Word:themselves@[0]\n",
            "   8   8   0   0  | NN->RB if Word:ago@[0]\n",
            "   8   8   0   0  | NN->RB if Word:still@[0]\n",
            "   8   8   0   0  | NN->WRB if Word:when@[0]\n",
            "   8  10   2  12  | NN->VB if Word:not@[-1]\n",
            "   8  11   3  11  | NN->VBN if Word:were@[-1]\n",
            "   7   7   0   0  | NN->AP if Word:same@[0] & Word:the@[-1]\n",
            "   7   7   0   0  | CS->WPS if Word:that@[0] & Word:has@[1]\n",
            "   7   7   0   0  | IN->-- if Word:--@[0] & Word:the@[1]\n",
            "   7   7   0   0  | IN->WDT if Word:which@[0] & Word:the@[1]\n",
            "   8   9   1   0  | IN->RP if Word:on@[0] & Pos:IN@[1]\n",
            "   7   7   0   0  | NN->NP if Word:George@[-2,-1]\n",
            "   7   7   0   0  | NN->NP if Word:W.@[-2,-1]\n",
            "   7   7   0   8  | NN->VB if Word:could@[-2,-1]\n",
            "   8   8   0   0  | VB->DO if Word:do@[0]\n",
            "   7   7   0   0  | NN->NP if Word:Jr.@[1,2,3]\n",
            "   7   8   1   0  | IN->RB if Word:about@[0] & Pos:CD@[1]\n",
            "   7   7   0   0  | NN->JJ if Word:federal@[0] & Pos:NN@[1]\n",
            "   7   7   0   0  | NN->JJ if Word:private@[0] & Pos:NN@[1]\n",
            "   7   7   0   0  | NN->JJ-TL if Word:North@[0] & Pos:NP-TL@[1]\n",
            "   7   7   0   0  | NN->NN-TL if Word:Communist@[0] & Pos:NN@[1]\n",
            "   7   7   0   0  | NN->PP$ if Word:my@[0] & Pos:NN@[1]\n",
            "   7   7   0   0  | NN->NN-TL if Word:Service@[0] & Pos:NN@[-1]\n",
            "   7   7   0   0  | NN->' if Word:'@[0]\n",
            "   7   7   0   0  | NN->AP if Word:few@[0]\n",
            "   7   7   0   1  | NN->CD if Word:1@[0]\n",
            "   7   7   0   0  | NN->CD if Word:1961@[0]\n",
            "   7   7   0   0  | NN->DOD if Word:did@[0]\n",
            "   7   7   0   0  | NN->IN if Word:through@[0]\n",
            "   7   7   0   0  | NN->JJ if Word:anti-trust@[0]\n",
            "   7   7   0   0  | NN->JJ if Word:certain@[0]\n",
            "   7   7   0   0  | NN->JJ if Word:medical@[0]\n",
            "   7   7   0   0  | NN->JJ if Word:necessary@[0]\n",
            "   7   7   0   0  | NN->NN-TL if Word:Club@[0]\n",
            "   7   7   0   0  | NN->NN-TL if Word:Coast@[0]\n",
            "   7   8   1   0  | NN->NN-TL if Word:Council@[0]\n",
            "   8  12   4  15  | NN->NP if Pos:IN@[-1] & Pos:NN-TL@[-2]\n",
            "   7   7   0   0  | NN->NN-TL if Word:County@[0]\n",
            "   7   7   0   0  | NN->NN-TL if Word:House@[0]\n",
            "   7   7   0   2  | NN->NN-TL if Word:St.@[0]\n",
            "   8   8   0  11  | NN->NP-TL if Pos:NN-TL@[1] & Pos:NN@[2]\n",
            "   7   7   0   0  | NN->NNS if Word:sales@[0]\n",
            "   7   7   0   0  | NN->NNS if Word:yards@[0]\n",
            "   7   7   0   3  | NN->NP if Word:Chicago@[0]\n",
            "   7   7   0   0  | NN->RB if Word:ever@[0]\n",
            "   7   7   0   3  | NN->JJ if Word:too@[-1]\n",
            "   7  11   4   0  | NN->NP if Pos:NP@[1] & Pos:,@[2]\n",
            "   6   6   0   0  | IN->RP if Word:in@[0] & Word:bring@[-1]\n",
            "   6   6   0   0  | IN->BEDZ if Word:was@[0] & Word:the@[1]\n",
            "   6   6   0   0  | IN->WRB if Word:when@[0] & Word:the@[1]\n",
            "   6   6   0   0  | JJ->JJ-TL if Word:American@[0] & Word:League@[1]\n",
            "   6   6   0   0  | RB->IN if Word:around@[0] & Word:the@[1]\n",
            "   6   6   0   0  | NP->NP-TL if Word:University@[1,2]\n"
          ],
          "name": "stdout"
        },
        {
          "output_type": "display_data",
          "data": {
            "application/javascript": [
              "\n",
              "    async function download(id, filename, size) {\n",
              "      if (!google.colab.kernel.accessAllowed) {\n",
              "        return;\n",
              "      }\n",
              "      const div = document.createElement('div');\n",
              "      const label = document.createElement('label');\n",
              "      label.textContent = `Downloading \"${filename}\": `;\n",
              "      div.appendChild(label);\n",
              "      const progress = document.createElement('progress');\n",
              "      progress.max = size;\n",
              "      div.appendChild(progress);\n",
              "      document.body.appendChild(div);\n",
              "\n",
              "      const buffers = [];\n",
              "      let downloaded = 0;\n",
              "\n",
              "      const channel = await google.colab.kernel.comms.open(id);\n",
              "      // Send a message to notify the kernel that we're ready.\n",
              "      channel.send({})\n",
              "\n",
              "      for await (const message of channel.messages) {\n",
              "        // Send a message to notify the kernel that we're ready.\n",
              "        channel.send({})\n",
              "        if (message.buffers) {\n",
              "          for (const buffer of message.buffers) {\n",
              "            buffers.push(buffer);\n",
              "            downloaded += buffer.byteLength;\n",
              "            progress.value = downloaded;\n",
              "          }\n",
              "        }\n",
              "      }\n",
              "      const blob = new Blob(buffers, {type: 'application/binary'});\n",
              "      const a = document.createElement('a');\n",
              "      a.href = window.URL.createObjectURL(blob);\n",
              "      a.download = filename;\n",
              "      div.appendChild(a);\n",
              "      a.click();\n",
              "      div.remove();\n",
              "    }\n",
              "  "
            ],
            "text/plain": [
              "<IPython.core.display.Javascript object>"
            ]
          },
          "metadata": {
            "tags": []
          }
        },
        {
          "output_type": "display_data",
          "data": {
            "application/javascript": [
              "download(\"download_d1376e53-4a96-41d5-9ab9-8a3a3d7f2b21\", \"brill_output.txt\", 37478)"
            ],
            "text/plain": [
              "<IPython.core.display.Javascript object>"
            ]
          },
          "metadata": {
            "tags": []
          }
        }
      ]
    },
    {
      "cell_type": "markdown",
      "metadata": {
        "id": "rSqyBMtUsGex"
      },
      "source": [
        "#Regular Expression Tagger"
      ]
    },
    {
      "cell_type": "code",
      "metadata": {
        "colab": {
          "base_uri": "https://localhost:8080/",
          "height": 34
        },
        "id": "o1lg-Q8esJyu",
        "outputId": "ceb882de-b0ab-454d-f698-ebfce0e7218d"
      },
      "source": [
        "from nltk.corpus import brown\n",
        "brown_tagged_sents = brown.tagged_sents(categories='news')\n",
        "brown_sents = brown.sents(categories='news')\n",
        "\n",
        "patterns = [\n",
        "    (r'.*ing$', 'VBG'),                # gerunds\n",
        "    (r'.*ed$', 'VBD'),                 # simple past\n",
        "    (r'.*es$', 'VBZ'),                 # 3rd singular present\n",
        "    (r'.*ould$', 'MD'),                # modals\n",
        "    (r'.*\\'s$', 'NN$'),                # possessive nouns\n",
        "    (r'.*s$', 'NNS'),                  # plural nouns\n",
        "    (r'^-?[0-9]+(\\.[0-9]+)?$', 'CD'),  # cardinal numbers\n",
        "    (r'.*', 'NN')                      # nouns (default)\n",
        "]\n",
        "regexp_tagger = nltk.RegexpTagger(patterns)\n",
        "\n",
        "regexp_tokens = nltk.word_tokenize(text)\n",
        "\n",
        "RegularExpressionOutputFileURL = \"/content/regex_output.txt\"\n",
        "\n",
        "outputFile = open(RegularExpressionOutputFileURL, 'w')\n",
        "outputFile.writelines(str(regexp_tagger.tag(regexp_tokens)))\n",
        "outputFile.close()\n",
        "\n",
        "files.download('regex_output.txt')"
      ],
      "execution_count": null,
      "outputs": [
        {
          "output_type": "display_data",
          "data": {
            "application/javascript": [
              "\n",
              "    async function download(id, filename, size) {\n",
              "      if (!google.colab.kernel.accessAllowed) {\n",
              "        return;\n",
              "      }\n",
              "      const div = document.createElement('div');\n",
              "      const label = document.createElement('label');\n",
              "      label.textContent = `Downloading \"${filename}\": `;\n",
              "      div.appendChild(label);\n",
              "      const progress = document.createElement('progress');\n",
              "      progress.max = size;\n",
              "      div.appendChild(progress);\n",
              "      document.body.appendChild(div);\n",
              "\n",
              "      const buffers = [];\n",
              "      let downloaded = 0;\n",
              "\n",
              "      const channel = await google.colab.kernel.comms.open(id);\n",
              "      // Send a message to notify the kernel that we're ready.\n",
              "      channel.send({})\n",
              "\n",
              "      for await (const message of channel.messages) {\n",
              "        // Send a message to notify the kernel that we're ready.\n",
              "        channel.send({})\n",
              "        if (message.buffers) {\n",
              "          for (const buffer of message.buffers) {\n",
              "            buffers.push(buffer);\n",
              "            downloaded += buffer.byteLength;\n",
              "            progress.value = downloaded;\n",
              "          }\n",
              "        }\n",
              "      }\n",
              "      const blob = new Blob(buffers, {type: 'application/binary'});\n",
              "      const a = document.createElement('a');\n",
              "      a.href = window.URL.createObjectURL(blob);\n",
              "      a.download = filename;\n",
              "      div.appendChild(a);\n",
              "      a.click();\n",
              "      div.remove();\n",
              "    }\n",
              "  "
            ],
            "text/plain": [
              "<IPython.core.display.Javascript object>"
            ]
          },
          "metadata": {
            "tags": []
          }
        },
        {
          "output_type": "display_data",
          "data": {
            "application/javascript": [
              "download(\"download_208febd2-9ac4-407d-85b0-af04ebe5f53b\", \"regex_output.txt\", 37588)"
            ],
            "text/plain": [
              "<IPython.core.display.Javascript object>"
            ]
          },
          "metadata": {
            "tags": []
          }
        }
      ]
    },
    {
      "cell_type": "markdown",
      "metadata": {
        "id": "G2kfn7SrQmfJ"
      },
      "source": [
        "# Penn Treebank Tagger"
      ]
    },
    {
      "cell_type": "code",
      "metadata": {
        "colab": {
          "base_uri": "https://localhost:8080/",
          "height": 221
        },
        "id": "PYb5B5SZQs0y",
        "outputId": "dcc30146-d2f0-4607-93ba-9300c674d432"
      },
      "source": [
        "nltk.download('stopwords')\n",
        "nltk.download('wordnet')\n",
        "nltk.download('punkt')\n",
        "nltk.download('averaged_perceptron_tagger') \n",
        "nltk.download('universal_tagset')\n",
        "\n",
        "penn_tokens = nltk.word_tokenize(text)\n",
        "tags = nltk.pos_tag(penn_tokens,tagset='universal')\n",
        "\n",
        "PennTreeBankOutputFileURL = \"/content/penTreeBank_output.txt\"\n",
        "\n",
        "\n",
        "outputFile = open(PennTreeBankOutputFileURL, 'w')\n",
        "outputFile.writelines(str(tags))\n",
        "outputFile.close()\n",
        "files.download('penTreeBank_output.txt')"
      ],
      "execution_count": null,
      "outputs": [
        {
          "output_type": "stream",
          "text": [
            "[nltk_data] Downloading package stopwords to /root/nltk_data...\n",
            "[nltk_data]   Package stopwords is already up-to-date!\n",
            "[nltk_data] Downloading package wordnet to /root/nltk_data...\n",
            "[nltk_data]   Package wordnet is already up-to-date!\n",
            "[nltk_data] Downloading package punkt to /root/nltk_data...\n",
            "[nltk_data]   Package punkt is already up-to-date!\n",
            "[nltk_data] Downloading package averaged_perceptron_tagger to\n",
            "[nltk_data]     /root/nltk_data...\n",
            "[nltk_data]   Package averaged_perceptron_tagger is already up-to-\n",
            "[nltk_data]       date!\n",
            "[nltk_data] Downloading package universal_tagset to /root/nltk_data...\n",
            "[nltk_data]   Package universal_tagset is already up-to-date!\n"
          ],
          "name": "stdout"
        },
        {
          "output_type": "display_data",
          "data": {
            "application/javascript": [
              "\n",
              "    async function download(id, filename, size) {\n",
              "      if (!google.colab.kernel.accessAllowed) {\n",
              "        return;\n",
              "      }\n",
              "      const div = document.createElement('div');\n",
              "      const label = document.createElement('label');\n",
              "      label.textContent = `Downloading \"${filename}\": `;\n",
              "      div.appendChild(label);\n",
              "      const progress = document.createElement('progress');\n",
              "      progress.max = size;\n",
              "      div.appendChild(progress);\n",
              "      document.body.appendChild(div);\n",
              "\n",
              "      const buffers = [];\n",
              "      let downloaded = 0;\n",
              "\n",
              "      const channel = await google.colab.kernel.comms.open(id);\n",
              "      // Send a message to notify the kernel that we're ready.\n",
              "      channel.send({})\n",
              "\n",
              "      for await (const message of channel.messages) {\n",
              "        // Send a message to notify the kernel that we're ready.\n",
              "        channel.send({})\n",
              "        if (message.buffers) {\n",
              "          for (const buffer of message.buffers) {\n",
              "            buffers.push(buffer);\n",
              "            downloaded += buffer.byteLength;\n",
              "            progress.value = downloaded;\n",
              "          }\n",
              "        }\n",
              "      }\n",
              "      const blob = new Blob(buffers, {type: 'application/binary'});\n",
              "      const a = document.createElement('a');\n",
              "      a.href = window.URL.createObjectURL(blob);\n",
              "      a.download = filename;\n",
              "      div.appendChild(a);\n",
              "      a.click();\n",
              "      div.remove();\n",
              "    }\n",
              "  "
            ],
            "text/plain": [
              "<IPython.core.display.Javascript object>"
            ]
          },
          "metadata": {
            "tags": []
          }
        },
        {
          "output_type": "display_data",
          "data": {
            "application/javascript": [
              "download(\"download_61b7e2c7-b5bb-4463-aa0a-4d0feff7b6bd\", \"penTreeBank_output.txt\", 40178)"
            ],
            "text/plain": [
              "<IPython.core.display.Javascript object>"
            ]
          },
          "metadata": {
            "tags": []
          }
        }
      ]
    }
  ]
}